{
 "cells": [
  {
   "cell_type": "markdown",
   "id": "ec311a4c-a1b2-4261-8f07-2d43cf0571bc",
   "metadata": {},
   "source": [
    "# Example: Fun With Queues, Stacks and Linked Lists\n",
    "[Queues](https://en.wikipedia.org/wiki/Queue_(abstract_data_type)), [Stacks](https://en.wikipedia.org/wiki/Stack_(abstract_data_type)) and [Linked Lists](https://en.wikipedia.org/wiki/Linked_list) are examples of [linear data structures](https://en.wikipedia.org/wiki/Data_structure) where data is stored sequentially, and can be accessed using various order paradigms.\n",
    "\n",
    "### Learning objectives\n",
    "This example will familiarize students with working with [Queues](https://en.wikipedia.org/wiki/Queue_(abstract_data_type)), [Stacks](https://en.wikipedia.org/wiki/Stack_(abstract_data_type)) and [Linked Lists](https://en.wikipedia.org/wiki/Linked_list) exported from [the DataStructures.jl package](https://github.com/JuliaCollections/DataStructures.jl). We'll consider three examples:\n",
    "* __Example 1__: Build a [Stack](https://en.wikipedia.org/wiki/Stack_(abstract_data_type)) holding a molecular formula string. In this example, we will store the characters of a molecular formula, e.g., `C6H12O6` (glucose), in a [Stack](https://en.wikipedia.org/wiki/Stack_(abstract_data_type)). We'll use a [custom `build(...)` method in Factory.jl](src/Factory.jl) to construct and populate the [Stack](https://en.wikipedia.org/wiki/Stack_(abstract_data_type)).\n",
    "* __Example 2__: Build a [Queue](https://en.wikipedia.org/wiki/Queue_(abstract_data_type)) holding a molecular formula string. In this example, we will store the characters of a molecular formula, e.g., `C10H16N5P13P3` (ATP), in a [Queue](https://en.wikipedia.org/wiki/Queue_(abstract_data_type)). We'll use a [custom `build(...)` method in Factory.jl](src/Factory.jl) to construct and populate the [Queue](https://en.wikipedia.org/wiki/Queue_(abstract_data_type)).\n",
    "* __Example 3__: Build a [Linked List](https://en.wikipedia.org/wiki/Linked_list) holding a molecular formula string. In this example, we will store the characters of a molecular formula, e.g., `C21H29N7O17P3` (NADPH), in a [Linked List](https://en.wikipedia.org/wiki/Linked_list). We'll use a [custom `build(...)` method in Factory.jl](src/Factory.jl) to construct and populate the [Linked List](https://en.wikipedia.org/wiki/Linked_list).\n",
    "\n",
    "Let's go!\n",
    "___"
   ]
  },
  {
   "cell_type": "markdown",
   "id": "d7830622-e8cf-49a8-a983-81db11681379",
   "metadata": {},
   "source": [
    "## Setup\n",
    "We set up the computational environment by including [the `Include. jl` file](Include.jl) using [the `include(...)` method](https://docs.julialang.org/en/v1/base/base/#Base.include). The [`Include.jl` file](Include.jl) loads external packages and functions we will use in these examples. \n",
    "* For additional information on functions and types used in this example, see the [Julia programming language documentation](https://docs.julialang.org/en/v1/). "
   ]
  },
  {
   "cell_type": "code",
   "execution_count": 1,
   "id": "da04a530-ac93-4b4e-af06-6c117a742040",
   "metadata": {},
   "outputs": [],
   "source": [
    "include(\"Include.jl\");"
   ]
  },
  {
   "cell_type": "markdown",
   "id": "0c570398-b649-4261-8315-6dd6e0e71d55",
   "metadata": {},
   "source": [
    "## Example 1: Build a Stack holding a molecular formula string\n",
    "A [stack](https://en.wikipedia.org/wiki/Stack_(abstract_data_type)) is a linear data structure that follows the __Last-In-First-Out (LIFO)__ principle, where elements are added and removed from the __top of the stack__. It provides constant-time operations for pushing an element onto the stack, popping an element from the stack, and accessing the top element.\n",
    "* To explore these concepts, let's specify a compound string encoded in the `compound_for_stack::String` variable to load onto the stack."
   ]
  },
  {
   "cell_type": "code",
   "execution_count": 2,
   "id": "d6d8200d-7202-4587-ae02-481710ae10e1",
   "metadata": {},
   "outputs": [],
   "source": [
    "compound_for_stack = \"C6H12O6\"; # Glucose"
   ]
  },
  {
   "cell_type": "markdown",
   "id": "0407f0d5-a5a9-4950-a2f2-09df8edb835e",
   "metadata": {},
   "source": [
    "We construct our compound [stack](https://en.wikipedia.org/wiki/Stack_(abstract_data_type)) using a [custom `build(...)` method](src/Factory.jl) which takes two arguments: the type of thing we want to create, in this case a `Stack{Char},` and the data to load onto the stack, i.e., `compound_for_stack::String.` The [`build(...)` method](src/Factory.jl) returns a populated `Stack{Char}` instance which we save to the `compound_stack::Stack{Char}` variable:"
   ]
  },
  {
   "cell_type": "code",
   "execution_count": 3,
   "id": "1c6aea11-fd4b-4ffa-b57f-e3098fd891ee",
   "metadata": {},
   "outputs": [
    {
     "data": {
      "text/plain": [
       "Stack{Char}(Deque [['C', '6', 'H', '1', '2', 'O', '6']])"
      ]
     },
     "metadata": {},
     "output_type": "display_data"
    }
   ],
   "source": [
    "compound_stack = build(Stack{Char}, compound_for_stack)"
   ]
  },
  {
   "cell_type": "markdown",
   "id": "0bc6eead-f5c0-45eb-84f7-b9978b17dcf5",
   "metadata": {},
   "source": [
    "We access elements from the __top of the stack__ using [the `pop!(...)` method](https://juliacollections.github.io/DataStructures.jl/stable/stack_and_queue/). The [`pop!(...)` method](https://juliacollections.github.io/DataStructures.jl/stable/stack_and_queue/) removes the top element from the stack (returns it to you) and then resets the top element:"
   ]
  },
  {
   "cell_type": "code",
   "execution_count": 4,
   "id": "0b15d2ae-5b19-4200-9bad-fc337aa02ffa",
   "metadata": {},
   "outputs": [
    {
     "data": {
      "text/plain": [
       "'6': ASCII/Unicode U+0036 (category Nd: Number, decimal digit)"
      ]
     },
     "metadata": {},
     "output_type": "display_data"
    }
   ],
   "source": [
    "pop!(compound_stack) # this should the *last* element inserted onto the stack"
   ]
  },
  {
   "cell_type": "code",
   "execution_count": 5,
   "id": "7d7d41ce-d37d-4f92-80ba-336774cd1775",
   "metadata": {},
   "outputs": [
    {
     "data": {
      "text/plain": [
       "Stack{Char}(Deque [['C', '6', 'H', '1', '2', 'O']])"
      ]
     },
     "metadata": {},
     "output_type": "display_data"
    }
   ],
   "source": [
    "compound_stack"
   ]
  },
  {
   "cell_type": "markdown",
   "id": "8ce5b186-64a0-46df-9782-0d687b453a7b",
   "metadata": {},
   "source": [
    "We access every element in a [stack](https://en.wikipedia.org/wiki/Stack_(abstract_data_type)) using [a `while-loop`](https://docs.julialang.org/en/v1/base/base/#while). In this pattern, we continue looping until the `compound_stack::Stack{Char}` is empty. \n",
    "* We use [the `isempty(...)` method](https://docs.julialang.org/en/v1/base/collections/#Base.isempty) to check if the compound_stack::StackChar is empty. This method takes a collection and returns `true` if it is empty and `false` otherwise."
   ]
  },
  {
   "cell_type": "code",
   "execution_count": 6,
   "id": "263d72b7-bbea-4e63-8487-301bddd1ce3f",
   "metadata": {},
   "outputs": [
    {
     "name": "stdout",
     "output_type": "stream",
     "text": [
      "(c, compound_stack) = ('O', Stack{Char}(Deque [['C', '6', 'H', '1', '2']]))\n",
      "(c, compound_stack) = ('2', Stack{Char}(Deque [['C', '6', 'H', '1']]))\n",
      "(c, compound_stack) = ('1', Stack{Char}(Deque [['C', '6', 'H']]))\n",
      "(c, compound_stack) = ('H', Stack{Char}(Deque [['C', '6']]))\n",
      "(c, compound_stack) = ('6', Stack{Char}(Deque [['C']]))\n",
      "(c, compound_stack) = ('C', Stack{Char}(Deque [Char[]]))\n"
     ]
    }
   ],
   "source": [
    "while (isempty(compound_stack) == false)\n",
    "    c = pop!(compound_stack)\n",
    "    @show (c, compound_stack)\n",
    "end"
   ]
  },
  {
   "cell_type": "markdown",
   "id": "bf626227-86de-4a90-83d2-51a8f4bc64ff",
   "metadata": {},
   "source": [
    "## Example 2: Build a Queue holding a molecular formula string\n",
    "A [queue](https://en.wikipedia.org/wiki/Queue_(abstract_data_type)) is a linear data structure that operates on the __First-In-First-Out (FIFO)__ principle, where the first element added to the queue is the first one to be removed. It allows for efficient operations for adding elements to the rear of the queue and removing elements from the front, making it ideal for scenarios like task scheduling and resource management.\n",
    "* To explore these concepts, let's specify a compound string encoded in the `compound_for_queue::String` variable to load onto the [queue](https://en.wikipedia.org/wiki/Queue_(abstract_data_type))."
   ]
  },
  {
   "cell_type": "code",
   "execution_count": 7,
   "id": "c89f501a-9494-4a54-95b1-799546343270",
   "metadata": {},
   "outputs": [],
   "source": [
    "compound_for_queue = \"C10H16N5P13P3\"; # ATP"
   ]
  },
  {
   "cell_type": "markdown",
   "id": "a2c4b3dd-b64a-45d6-a607-8097a9ceb83b",
   "metadata": {},
   "source": [
    "We construct our compound [queue](https://en.wikipedia.org/wiki/Queue_(abstract_data_type)) using a [custom `build(...)` method](src/Factory.jl) which takes two arguments: the type of thing we want to create, in this case a `Queue{Char},` and the data to load onto the queue, i.e., `compound_for_queue::String.` The [`build(...)` method](src/Factory.jl) returns a populated `Queue{Char}` instance which we save to the `compound_queue::Queue{Char}` variable:"
   ]
  },
  {
   "cell_type": "code",
   "execution_count": 8,
   "id": "ee74d431-60e5-4800-9b54-6f70169a5a45",
   "metadata": {},
   "outputs": [
    {
     "data": {
      "text/plain": [
       "Queue{Char}(Deque [['C', '1', '0', 'H', '1', '6', 'N', '5', 'P', '1', '3', 'P', '3']])"
      ]
     },
     "metadata": {},
     "output_type": "display_data"
    }
   ],
   "source": [
    "compound_queue = build(Queue{Char}, compound_for_queue)"
   ]
  },
  {
   "cell_type": "markdown",
   "id": "9d4cd008-5e76-44c4-909b-16d987810539",
   "metadata": {},
   "source": [
    "We access elements from the queue using [the `pop!(...)` method](https://juliacollections.github.io/DataStructures.jl/stable/stack_and_queue/). The [`pop!(...)` method](https://juliacollections.github.io/DataStructures.jl/stable/stack_and_queue/) removes the top element from the queue (returns it to you) and then resets the top element.\n",
    "* We can access every element in a [queue](https://en.wikipedia.org/wiki/Queue_(abstract_data_type)) using [a `while-loop`](https://docs.julialang.org/en/v1/base/base/#while) in combination [with the `pop!(...)` method](https://juliacollections.github.io/DataStructures.jl/stable/stack_and_queue/). We continue looping until the `compound_queue::Queue{Char}` is empty, where we use [the `isempty(...)` method](https://docs.julialang.org/en/v1/base/collections/#Base.isempty) to check if `compound_stack::Queue{Char}` is empty. The [`isempty(...)` method](https://docs.julialang.org/en/v1/base/collections/#Base.isempty) takes a collection and returns `true` if it is empty and `false` otherwise."
   ]
  },
  {
   "cell_type": "code",
   "execution_count": 9,
   "id": "93e3e86f-6198-48f2-84de-c326d3254089",
   "metadata": {},
   "outputs": [
    {
     "name": "stdout",
     "output_type": "stream",
     "text": [
      "(c, compound_queue) = ('C', Queue{Char}(Deque [['1', '0', 'H', '1', '6', 'N', '5', 'P', '1', '3', 'P', '3']]))\n",
      "(c, compound_queue) = ('1', Queue{Char}(Deque [['0', 'H', '1', '6', 'N', '5', 'P', '1', '3', 'P', '3']]))\n",
      "(c, compound_queue) = ('0', Queue{Char}(Deque [['H', '1', '6', 'N', '5', 'P', '1', '3', 'P', '3']]))\n",
      "(c, compound_queue) = ('H', Queue{Char}(Deque [['1', '6', 'N', '5', 'P', '1', '3', 'P', '3']]))\n",
      "(c, compound_queue) = ('1', Queue{Char}(Deque [['6', 'N', '5', 'P', '1', '3', 'P', '3']]))\n",
      "(c, compound_queue) = ('6', Queue{Char}(Deque [['N', '5', 'P', '1', '3', 'P', '3']]))\n",
      "(c, compound_queue) = ('N', Queue{Char}(Deque [['5', 'P', '1', '3', 'P', '3']]))\n",
      "(c, compound_queue) = ('5', Queue{Char}(Deque [['P', '1', '3', 'P', '3']]))\n",
      "(c, compound_queue) = ('P', Queue{Char}(Deque [['1', '3', 'P', '3']]))\n",
      "(c, compound_queue) = ('1', Queue{Char}(Deque [['3', 'P', '3']]))\n",
      "(c, compound_queue) = ('3', Queue{Char}(Deque [['P', '3']]))\n",
      "(c, compound_queue) = ('P', Queue{Char}(Deque [['3']]))\n",
      "(c, compound_queue) = ('3', Queue{Char}(Deque [Char[]]))\n"
     ]
    }
   ],
   "source": [
    "while (isempty(compound_queue) == false)\n",
    "    c = dequeue!(compound_queue)\n",
    "    @show (c, compound_queue)\n",
    "end"
   ]
  },
  {
   "cell_type": "markdown",
   "id": "572e413e-a9f3-458c-bf90-8672142a6d50",
   "metadata": {},
   "source": [
    "## Example 3: Build a Linked List holding a molecular formula string\n",
    "A [linked list](https://en.wikipedia.org/wiki/Linked_list) is a dynamic data structure consisting of a sequence of nodes, each containing a data value and a reference to the next node in the list. This structure allows for efficient insertion and deletion of elements at any position, making it a flexible alternative to arrays for managing data collections.\n",
    "* To explore these concepts, let's specify a compound string encoded in the `compound_for_linked_list::String` variable to load into the linked list"
   ]
  },
  {
   "cell_type": "code",
   "execution_count": 10,
   "id": "ef6aa391-8447-448b-840b-a043aa29f341",
   "metadata": {},
   "outputs": [],
   "source": [
    "compound_for_linked_list = \"C21H29N7O17P3\"; # NADPH"
   ]
  },
  {
   "cell_type": "markdown",
   "id": "7eb17cd1-6f67-45af-84bc-138b98f8fd02",
   "metadata": {},
   "source": [
    "We construct our compound [linked list](https://en.wikipedia.org/wiki/Linked_list) using a [custom `build(...)` method](src/Factory.jl) which takes two arguments: the type of thing we want to create, in this case a `MutableLinkedList{Char},` and the data to load into the list, i.e., `compound_for_linked_list::String.` The [`build(...)` method](src/Factory.jl) returns a populated `MutableLinkedList{Char}` instance which we save to the `compound_linked_list::MutableLinkedList{Char}` variable:"
   ]
  },
  {
   "cell_type": "code",
   "execution_count": 11,
   "id": "40c7f290-0018-4b13-8bb6-60807095d796",
   "metadata": {},
   "outputs": [
    {
     "data": {
      "text/plain": [
       "MutableLinkedList{Char}(C, 2, 1, H, 2, 9, N, 7, O, 1, 7, P, 3)"
      ]
     },
     "metadata": {},
     "output_type": "display_data"
    }
   ],
   "source": [
    "compound_linked_list = build(MutableLinkedList{Char}, compound_for_linked_list)"
   ]
  },
  {
   "cell_type": "markdown",
   "id": "3535bb3c-d6dc-4f92-8a12-13c197e9c422",
   "metadata": {},
   "source": [
    "Like a [stack](https://en.wikipedia.org/wiki/Stack_(abstract_data_type)) or a [queue](https://en.wikipedia.org/wiki/Queue_(abstract_data_type)), we can access the elements of a [linked list](https://en.wikipedia.org/wiki/Linked_list) using [a `pop!(...)` method](). We iterate through the list using [a `while-loop`](https://docs.julialang.org/en/v1/base/base/#while) in combination [with the `pop!(...)` method](https://juliacollections.github.io/DataStructures.jl/stable/mutable_linked_list/). \n",
    "* We continue looping until the `compound_linked_list::MutableLinkedList{Char}` is empty, where we use [the `isempty(...)` method](https://docs.julialang.org/en/v1/base/collections/#Base.isempty) to check if `compound_linked_list::MutableLinkedList{Char}` is empty. The [`isempty(...)` method](https://docs.julialang.org/en/v1/base/collections/#Base.isempty) takes a collection and returns `true` if it is empty and `false` otherwise."
   ]
  },
  {
   "cell_type": "code",
   "execution_count": 12,
   "id": "806804a3-87e0-4560-b21a-9921ebbfa2d4",
   "metadata": {},
   "outputs": [
    {
     "name": "stdout",
     "output_type": "stream",
     "text": [
      "(c, compound_linked_list) = ('3', MutableLinkedList{Char}(C, 2, 1, H, 2, 9, N, 7, O, 1, 7, P))\n",
      "(c, compound_linked_list) = ('P', MutableLinkedList{Char}(C, 2, 1, H, 2, 9, N, 7, O, 1, 7))\n",
      "(c, compound_linked_list) = ('7', MutableLinkedList{Char}(C, 2, 1, H, 2, 9, N, 7, O, 1))\n",
      "(c, compound_linked_list) = ('1', MutableLinkedList{Char}(C, 2, 1, H, 2, 9, N, 7, O))\n",
      "(c, compound_linked_list) = ('O', MutableLinkedList{Char}(C, 2, 1, H, 2, 9, N, 7))\n",
      "(c, compound_linked_list) = ('7', MutableLinkedList{Char}(C, 2, 1, H, 2, 9, N))\n",
      "(c, compound_linked_list) = ('N', MutableLinkedList{Char}(C, 2, 1, H, 2, 9))\n",
      "(c, compound_linked_list) = ('9', MutableLinkedList{Char}(C, 2, 1, H, 2))\n",
      "(c, compound_linked_list) = ('2', MutableLinkedList{Char}(C, 2, 1, H))\n",
      "(c, compound_linked_list) = ('H', MutableLinkedList{Char}(C, 2, 1))\n",
      "(c, compound_linked_list) = ('1', MutableLinkedList{Char}(C, 2))\n",
      "(c, compound_linked_list) = ('2', MutableLinkedList{Char}(C))\n",
      "(c, compound_linked_list) = ('C', MutableLinkedList{Char}())\n"
     ]
    }
   ],
   "source": [
    "while (isempty(compound_linked_list) == false)\n",
    "    c = pop!(compound_linked_list)\n",
    "    @show (c,compound_linked_list)\n",
    "end"
   ]
  },
  {
   "cell_type": "markdown",
   "id": "32da1dff-c784-47b0-ba92-6e5b790f05be",
   "metadata": {},
   "source": [
    "However, there are several ways that we can traverse, manipulate, and interact with linked lists. Let's check [the linked list documentation](https://juliacollections.github.io/DataStructures.jl/stable/mutable_linked_list/)."
   ]
  },
  {
   "cell_type": "code",
   "execution_count": 13,
   "id": "263f3145-01f5-4101-a1e3-a483d2f4d858",
   "metadata": {},
   "outputs": [
    {
     "data": {
      "text/html": [
       "# 76 methods for generic function <b>pop!</b> from \u001b[90mBase\u001b[39m:<ul><li> pop!(B::<b>BitVector</b>) in Base at <a href=\"https://github.com/JuliaLang/julia/tree/9615af0f269df4d371b8010e9507ed5bae86103b/base/bitarray.jl#L834\" target=\"_blank\">bitarray.jl:834</a></li> <li> pop!(x::<b>DiBitVector</b>) in DataStructures at <a href=\"file:///Users/jeffreyvarner/.julia/packages/DataStructures/7NQC7/src/dibit_vector.jl\" target=\"_blank\">/Users/jeffreyvarner/.julia/packages/DataStructures/7NQC7/src/dibit_vector.jl:72</a></li> <li> pop!(s::<b>DataStructures.IntSet</b>) in DataStructures at <a href=\"file:///Users/jeffreyvarner/.julia/packages/DataStructures/7NQC7/src/int_set.jl\" target=\"_blank\">/Users/jeffreyvarner/.julia/packages/DataStructures/7NQC7/src/int_set.jl:59</a></li> <li> pop!(s::<b>DataStructures.IntSet</b>, n::<b>Integer</b>) in DataStructures at <a href=\"file:///Users/jeffreyvarner/.julia/packages/DataStructures/7NQC7/src/int_set.jl\" target=\"_blank\">/Users/jeffreyvarner/.julia/packages/DataStructures/7NQC7/src/int_set.jl:63</a></li> <li> pop!(s::<b>DataStructures.IntSet</b>, n::<b>Integer</b>, default) in DataStructures at <a href=\"file:///Users/jeffreyvarner/.julia/packages/DataStructures/7NQC7/src/int_set.jl\" target=\"_blank\">/Users/jeffreyvarner/.julia/packages/DataStructures/7NQC7/src/int_set.jl:67</a></li> <li> pop!(::<b>Base.EnvDict</b>, k::<b>AbstractString</b>, def) in Base at <a href=\"https://github.com/JuliaLang/julia/tree/9615af0f269df4d371b8010e9507ed5bae86103b/base/env.jl#L173\" target=\"_blank\">env.jl:173</a></li> <li> pop!(::<b>Base.EnvDict</b>, k::<b>AbstractString</b>) in Base at <a href=\"https://github.com/JuliaLang/julia/tree/9615af0f269df4d371b8010e9507ed5bae86103b/base/env.jl#L172\" target=\"_blank\">env.jl:172</a></li> <li> pop!(s::<b>SparseIntSet</b>) in DataStructures at <a href=\"file:///Users/jeffreyvarner/.julia/packages/DataStructures/7NQC7/src/sparse_int_set.jl\" target=\"_blank\">/Users/jeffreyvarner/.julia/packages/DataStructures/7NQC7/src/sparse_int_set.jl:101</a></li> <li> pop!(s::<b>SparseIntSet</b>, id::<b>Integer</b>) in DataStructures at <a href=\"file:///Users/jeffreyvarner/.julia/packages/DataStructures/7NQC7/src/sparse_int_set.jl\" target=\"_blank\">/Users/jeffreyvarner/.julia/packages/DataStructures/7NQC7/src/sparse_int_set.jl:113</a></li> <li> pop!(s::<b>SparseIntSet</b>, id::<b>Integer</b>, default) in DataStructures at <a href=\"file:///Users/jeffreyvarner/.julia/packages/DataStructures/7NQC7/src/sparse_int_set.jl\" target=\"_blank\">/Users/jeffreyvarner/.julia/packages/DataStructures/7NQC7/src/sparse_int_set.jl:141</a></li> <li> pop!(df::<b>DataFrame</b>) in DataFrames at <a href=\"file:///Users/jeffreyvarner/.julia/packages/DataFrames/C5AEe/src/dataframe/dataframe.jl\" target=\"_blank\">/Users/jeffreyvarner/.julia/packages/DataFrames/C5AEe/src/dataframe/dataframe.jl:1118</a></li> <li> pop!(s::<b>BitSet</b>) in Base at <a href=\"https://github.com/JuliaLang/julia/tree/9615af0f269df4d371b8010e9507ed5bae86103b/base/bitset.jl#L259\" target=\"_blank\">bitset.jl:259</a></li> <li> pop!(s::<b>BitSet</b>, n::<b>Integer</b>, default) in Base at <a href=\"https://github.com/JuliaLang/julia/tree/9615af0f269df4d371b8010e9507ed5bae86103b/base/bitset.jl#L270\" target=\"_blank\">bitset.jl:270</a></li> <li> pop!(s::<b>BitSet</b>, n::<b>Integer</b>) in Base at <a href=\"https://github.com/JuliaLang/julia/tree/9615af0f269df4d371b8010e9507ed5bae86103b/base/bitset.jl#L261\" target=\"_blank\">bitset.jl:261</a></li> <li> pop!(cs::<b>Crayons.CrayonStack</b>) in Crayons at <a href=\"file:///Users/jeffreyvarner/.julia/packages/Crayons/u3AH8/src/crayon_stack.jl\" target=\"_blank\">/Users/jeffreyvarner/.julia/packages/Crayons/u3AH8/src/crayon_stack.jl:67</a></li> <li> pop!(x::<b>SentinelArrays.MissingVector</b>) in SentinelArrays at <a href=\"file:///Users/jeffreyvarner/.julia/packages/SentinelArrays/vt8A6/src/missingvector.jl\" target=\"_blank\">/Users/jeffreyvarner/.julia/packages/SentinelArrays/vt8A6/src/missingvector.jl:74</a></li> <li> pop!(a::<b>Vector</b>) in Base at <a href=\"https://github.com/JuliaLang/julia/tree/9615af0f269df4d371b8010e9507ed5bae86103b/base/array.jl#L1580\" target=\"_blank\">array.jl:1580</a></li> <li> pop!(h::<b>OrderedRobinDict</b>) in DataStructures at <a href=\"file:///Users/jeffreyvarner/.julia/packages/DataStructures/7NQC7/src/ordered_robin_dict.jl\" target=\"_blank\">/Users/jeffreyvarner/.julia/packages/DataStructures/7NQC7/src/ordered_robin_dict.jl:343</a></li> <li> pop!(h::<b>OrderedRobinDict</b>, key) in DataStructures at <a href=\"file:///Users/jeffreyvarner/.julia/packages/DataStructures/7NQC7/src/ordered_robin_dict.jl\" target=\"_blank\">/Users/jeffreyvarner/.julia/packages/DataStructures/7NQC7/src/ordered_robin_dict.jl:355</a></li> <li> pop!(h::<b>OrderedRobinDict</b>, key, default) in DataStructures at <a href=\"file:///Users/jeffreyvarner/.julia/packages/DataStructures/7NQC7/src/ordered_robin_dict.jl\" target=\"_blank\">/Users/jeffreyvarner/.julia/packages/DataStructures/7NQC7/src/ordered_robin_dict.jl:383</a></li> <li> pop!(pv::<b>PooledArrays.PooledVector</b>) in PooledArrays at <a href=\"file:///Users/jeffreyvarner/.julia/packages/PooledArrays/Vy2X0/src/PooledArrays.jl\" target=\"_blank\">/Users/jeffreyvarner/.julia/packages/PooledArrays/Vy2X0/src/PooledArrays.jl:621</a></li> <li> pop!(s::<b>Stack</b>) in DataStructures at <a href=\"file:///Users/jeffreyvarner/.julia/packages/DataStructures/7NQC7/src/stack.jl\" target=\"_blank\">/Users/jeffreyvarner/.julia/packages/DataStructures/7NQC7/src/stack.jl:119</a></li> <li> pop!(a::<b>WeakRefStrings.StringVector</b>) in WeakRefStrings at <a href=\"file:///Users/jeffreyvarner/.julia/packages/WeakRefStrings/31nkb/src/WeakRefStrings.jl\" target=\"_blank\">/Users/jeffreyvarner/.julia/packages/WeakRefStrings/31nkb/src/WeakRefStrings.jl:523</a></li> <li> pop!(s::<b>Set</b>) in Base at <a href=\"https://github.com/JuliaLang/julia/tree/9615af0f269df4d371b8010e9507ed5bae86103b/base/set.jl#L159\" target=\"_blank\">set.jl:159</a></li> <li> pop!(s::<b>Set</b>, x) in Base at <a href=\"https://github.com/JuliaLang/julia/tree/9615af0f269df4d371b8010e9507ed5bae86103b/base/set.jl#L151\" target=\"_blank\">set.jl:151</a></li> <li> pop!(s::<b>Set</b>, x, default) in Base at <a href=\"https://github.com/JuliaLang/julia/tree/9615af0f269df4d371b8010e9507ed5bae86103b/base/set.jl#L139\" target=\"_blank\">set.jl:139</a></li> <li> pop!(A::<b>SentinelArrays.ChainedVector</b>) in SentinelArrays at <a href=\"file:///Users/jeffreyvarner/.julia/packages/SentinelArrays/vt8A6/src/chainedvector.jl\" target=\"_blank\">/Users/jeffreyvarner/.julia/packages/SentinelArrays/vt8A6/src/chainedvector.jl:648</a></li> <li> pop!(a::<b>DefaultDict</b>, args...) in DataStructures at <a href=\"file:///Users/jeffreyvarner/.julia/packages/DataStructures/7NQC7/src/delegate.jl\" target=\"_blank\">/Users/jeffreyvarner/.julia/packages/DataStructures/7NQC7/src/delegate.jl:21</a></li> <li> pop!(h::<b>BinaryMinMaxHeap</b>) in DataStructures at <a href=\"file:///Users/jeffreyvarner/.julia/packages/DataStructures/7NQC7/src/heaps/minmax_heap.jl\" target=\"_blank\">/Users/jeffreyvarner/.julia/packages/DataStructures/7NQC7/src/heaps/minmax_heap.jl:175</a></li> <li> pop!(s::<b>OrderedSet</b>, x) in OrderedCollections at <a href=\"file:///Users/jeffreyvarner/.julia/packages/OrderedCollections/Xihhq/src/ordered_set.jl\" target=\"_blank\">/Users/jeffreyvarner/.julia/packages/OrderedCollections/Xihhq/src/ordered_set.jl:41</a></li> <li> pop!(s::<b>OrderedSet</b>, x, deflt) in OrderedCollections at <a href=\"file:///Users/jeffreyvarner/.julia/packages/OrderedCollections/Xihhq/src/ordered_set.jl\" target=\"_blank\">/Users/jeffreyvarner/.julia/packages/OrderedCollections/Xihhq/src/ordered_set.jl:42</a></li> <li> pop!(s::<b>OrderedSet</b>) in OrderedCollections at <a href=\"file:///Users/jeffreyvarner/.julia/packages/OrderedCollections/Xihhq/src/ordered_set.jl\" target=\"_blank\">/Users/jeffreyvarner/.julia/packages/OrderedCollections/Xihhq/src/ordered_set.jl:71</a></li> <li> pop!(a::<b>DefaultOrderedDict</b>, args...) in DataStructures at <a href=\"file:///Users/jeffreyvarner/.julia/packages/DataStructures/7NQC7/src/delegate.jl\" target=\"_blank\">/Users/jeffreyvarner/.julia/packages/DataStructures/7NQC7/src/delegate.jl:21</a></li> <li> pop!(D::<b>CircularDeque</b>) in DataStructures at <a href=\"file:///Users/jeffreyvarner/.julia/packages/DataStructures/7NQC7/src/circ_deque.jl\" target=\"_blank\">/Users/jeffreyvarner/.julia/packages/DataStructures/7NQC7/src/circ_deque.jl:65</a></li> <li> pop!(s::<b>IdSet</b>, x) in Base at <a href=\"https://github.com/JuliaLang/julia/tree/9615af0f269df4d371b8010e9507ed5bae86103b/base/idset.jl#L77\" target=\"_blank\">idset.jl:77</a></li> <li> pop!(s::<b>IdSet</b>, x, default) in Base at <a href=\"https://github.com/JuliaLang/julia/tree/9615af0f269df4d371b8010e9507ed5bae86103b/base/idset.jl#L78\" target=\"_blank\">idset.jl:78</a></li> <li> pop!(h::<b>RobinDict{K, V}</b>, key0)<i> where {K, V}</i> in DataStructures at <a href=\"file:///Users/jeffreyvarner/.julia/packages/DataStructures/7NQC7/src/robin_dict.jl\" target=\"_blank\">/Users/jeffreyvarner/.julia/packages/DataStructures/7NQC7/src/robin_dict.jl:502</a></li> <li> pop!(h::<b>RobinDict{K, V}</b>, key0, default)<i> where {K, V}</i> in DataStructures at <a href=\"file:///Users/jeffreyvarner/.julia/packages/DataStructures/7NQC7/src/robin_dict.jl\" target=\"_blank\">/Users/jeffreyvarner/.julia/packages/DataStructures/7NQC7/src/robin_dict.jl:529</a></li> <li> pop!(h::<b>RobinDict</b>) in DataStructures at <a href=\"file:///Users/jeffreyvarner/.julia/packages/DataStructures/7NQC7/src/robin_dict.jl\" target=\"_blank\">/Users/jeffreyvarner/.julia/packages/DataStructures/7NQC7/src/robin_dict.jl:535</a></li> <li> pop!(h::<b>Dict</b>) in Base at <a href=\"https://github.com/JuliaLang/julia/tree/9615af0f269df4d371b8010e9507ed5bae86103b/base/dict.jl#L615\" target=\"_blank\">dict.jl:615</a></li> <li> pop!(h::<b>Dict</b>, key, default) in Base at <a href=\"https://github.com/JuliaLang/julia/tree/9615af0f269df4d371b8010e9507ed5bae86103b/base/dict.jl#L610\" target=\"_blank\">dict.jl:610</a></li> <li> pop!(h::<b>Dict</b>, key) in Base at <a href=\"https://github.com/JuliaLang/julia/tree/9615af0f269df4d371b8010e9507ed5bae86103b/base/dict.jl#L581\" target=\"_blank\">dict.jl:581</a></li> <li> pop!(A::<b>SentinelArrays.SentinelVector{T} where T</b>) in SentinelArrays at <a href=\"file:///Users/jeffreyvarner/.julia/packages/SentinelArrays/vt8A6/src/SentinelArrays.jl\" target=\"_blank\">/Users/jeffreyvarner/.julia/packages/SentinelArrays/vt8A6/src/SentinelArrays.jl:425</a></li> <li> pop!(d::<b>Deque{T}</b>)<i> where T</i> in DataStructures at <a href=\"file:///Users/jeffreyvarner/.julia/packages/DataStructures/7NQC7/src/deque.jl\" target=\"_blank\">/Users/jeffreyvarner/.julia/packages/DataStructures/7NQC7/src/deque.jl:294</a></li> <li> pop!(W::<b>Base.IntrusiveLinkedListSynchronized</b>) in Base at <a href=\"https://github.com/JuliaLang/julia/tree/9615af0f269df4d371b8010e9507ed5bae86103b/base/task.jl#L738\" target=\"_blank\">task.jl:738</a></li> <li> pop!(f::<b>Function</b>, s::<b>DataStructures.IntSet</b>, n::<b>Integer</b>) in DataStructures at <a href=\"file:///Users/jeffreyvarner/.julia/packages/DataStructures/7NQC7/src/int_set.jl\" target=\"_blank\">/Users/jeffreyvarner/.julia/packages/DataStructures/7NQC7/src/int_set.jl:71</a></li> <li> pop!(h::<b>MutableBinaryHeap{T}</b>)<i> where T</i> in DataStructures at <a href=\"file:///Users/jeffreyvarner/.julia/packages/DataStructures/7NQC7/src/heaps/mutable_binary_heap.jl\" target=\"_blank\">/Users/jeffreyvarner/.julia/packages/DataStructures/7NQC7/src/heaps/mutable_binary_heap.jl:253</a></li> <li> pop!(l::<b>MutableLinkedList</b>) in DataStructures at <a href=\"file:///Users/jeffreyvarner/.julia/packages/DataStructures/7NQC7/src/mutable_list.jl\" target=\"_blank\">/Users/jeffreyvarner/.julia/packages/DataStructures/7NQC7/src/mutable_list.jl:237</a></li> <li> pop!(cb::<b>CircularBuffer</b>) in DataStructures at <a href=\"file:///Users/jeffreyvarner/.julia/packages/DataStructures/7NQC7/src/circular_buffer.jl\" target=\"_blank\">/Users/jeffreyvarner/.julia/packages/DataStructures/7NQC7/src/circular_buffer.jl:95</a></li> <li> pop!(dd::<b>LittleDict{K, V, <:AbstractVector{K}, <:AbstractVector{V}} where {K, V}</b>) in OrderedCollections at <a href=\"file:///Users/jeffreyvarner/.julia/packages/OrderedCollections/Xihhq/src/little_dict.jl\" target=\"_blank\">/Users/jeffreyvarner/.julia/packages/OrderedCollections/Xihhq/src/little_dict.jl:239</a></li> <li> pop!(dd::<b>LittleDict{K, V, <:AbstractVector{K}, <:AbstractVector{V}} where {K, V}</b>, key) in OrderedCollections at <a href=\"file:///Users/jeffreyvarner/.julia/packages/OrderedCollections/Xihhq/src/little_dict.jl\" target=\"_blank\">/Users/jeffreyvarner/.julia/packages/OrderedCollections/Xihhq/src/little_dict.jl:244</a></li> <li> pop!(m::<b>SortedDict</b>, k_) in DataStructures at <a href=\"file:///Users/jeffreyvarner/.julia/packages/DataStructures/7NQC7/src/sorted_dict.jl\" target=\"_blank\">/Users/jeffreyvarner/.julia/packages/DataStructures/7NQC7/src/sorted_dict.jl:352</a></li> <li> pop!(m::<b>SortedDict</b>, k_, default) in DataStructures at <a href=\"file:///Users/jeffreyvarner/.julia/packages/DataStructures/7NQC7/src/sorted_dict.jl\" target=\"_blank\">/Users/jeffreyvarner/.julia/packages/DataStructures/7NQC7/src/sorted_dict.jl:360</a></li> <li> pop!(h::<b>BinaryHeap</b>) in DataStructures at <a href=\"file:///Users/jeffreyvarner/.julia/packages/DataStructures/7NQC7/src/heaps/binary_heap.jl\" target=\"_blank\">/Users/jeffreyvarner/.julia/packages/DataStructures/7NQC7/src/heaps/binary_heap.jl:107</a></li> <li> pop!(s::<b>OrderedCollections.LittleSet{T, <:AbstractVector{T}} where T</b>) in OrderedCollections at <a href=\"file:///Users/jeffreyvarner/.julia/packages/OrderedCollections/Xihhq/src/little_set.jl\" target=\"_blank\">/Users/jeffreyvarner/.julia/packages/OrderedCollections/Xihhq/src/little_set.jl:210</a></li> <li> pop!(s::<b>OrderedCollections.LittleSet{T, <:AbstractVector{T}} where T</b>, key) in OrderedCollections at <a href=\"file:///Users/jeffreyvarner/.julia/packages/OrderedCollections/Xihhq/src/little_set.jl\" target=\"_blank\">/Users/jeffreyvarner/.julia/packages/OrderedCollections/Xihhq/src/little_set.jl:211</a></li> <li> pop!(s::<b>OrderedCollections.LittleSet{T, <:AbstractVector{T}} where T</b>, key, default) in OrderedCollections at <a href=\"file:///Users/jeffreyvarner/.julia/packages/OrderedCollections/Xihhq/src/little_set.jl\" target=\"_blank\">/Users/jeffreyvarner/.julia/packages/OrderedCollections/Xihhq/src/little_set.jl:222</a></li> <li> pop!(s::<b>GenericDict</b>, k) in Test at <a href=\"file:///Users/julia/.julia/scratchspaces/a66863c6-20e8-4ff4-8a62-49f30b1f605e/agent-cache/default-honeycrisp-R17H3W25T9.0/build/default-honeycrisp-R17H3W25T9-0/julialang/julia-release-1-dot-11/usr/share/julia/stdlib/v1.11/Test/src/Test.jl\" target=\"_blank\">/Users/jeffreyvarner/.julia/juliaup/julia-1.11.6+0.aarch64.apple.darwin14/share/julia/stdlib/v1.11/Test/src/Test.jl:2241</a></li> <li> pop!(h::<b>OrderedDict</b>) in OrderedCollections at <a href=\"file:///Users/jeffreyvarner/.julia/packages/OrderedCollections/Xihhq/src/ordered_dict.jl\" target=\"_blank\">/Users/jeffreyvarner/.julia/packages/OrderedCollections/Xihhq/src/ordered_dict.jl:414</a></li> <li> pop!(h::<b>OrderedDict</b>, key) in OrderedCollections at <a href=\"file:///Users/jeffreyvarner/.julia/packages/OrderedCollections/Xihhq/src/ordered_dict.jl\" target=\"_blank\">/Users/jeffreyvarner/.julia/packages/OrderedCollections/Xihhq/src/ordered_dict.jl:428</a></li> <li> pop!(h::<b>OrderedDict</b>, key, default) in OrderedCollections at <a href=\"file:///Users/jeffreyvarner/.julia/packages/OrderedCollections/Xihhq/src/ordered_dict.jl\" target=\"_blank\">/Users/jeffreyvarner/.julia/packages/OrderedCollections/Xihhq/src/ordered_dict.jl:433</a></li> <li> pop!(d::<b>MultiDict</b>, key, default) in DataStructures at <a href=\"file:///Users/jeffreyvarner/.julia/packages/DataStructures/7NQC7/src/multi_dict.jl\" target=\"_blank\">/Users/jeffreyvarner/.julia/packages/DataStructures/7NQC7/src/multi_dict.jl:64</a></li> <li> pop!(d::<b>MultiDict</b>, key) in DataStructures at <a href=\"file:///Users/jeffreyvarner/.julia/packages/DataStructures/7NQC7/src/multi_dict.jl\" target=\"_blank\">/Users/jeffreyvarner/.julia/packages/DataStructures/7NQC7/src/multi_dict.jl:77</a></li> <li> pop!(wkh::<b>WeakKeyDict{K}</b>, key, default)<i> where K</i> in Base at <a href=\"https://github.com/JuliaLang/julia/tree/9615af0f269df4d371b8010e9507ed5bae86103b/base/weakkeydict.jl#L152\" target=\"_blank\">weakkeydict.jl:152</a></li> <li> pop!(wkh::<b>WeakKeyDict{K}</b>, key)<i> where K</i> in Base at <a href=\"https://github.com/JuliaLang/julia/tree/9615af0f269df4d371b8010e9507ed5bae86103b/base/weakkeydict.jl#L146\" target=\"_blank\">weakkeydict.jl:146</a></li> <li> pop!(m::<b>SortedSet</b>, k_) in DataStructures at <a href=\"file:///Users/jeffreyvarner/.julia/packages/DataStructures/7NQC7/src/sorted_set.jl\" target=\"_blank\">/Users/jeffreyvarner/.julia/packages/DataStructures/7NQC7/src/sorted_set.jl:200</a></li> <li> pop!(m::<b>SortedSet</b>, k_, default) in DataStructures at <a href=\"file:///Users/jeffreyvarner/.julia/packages/DataStructures/7NQC7/src/sorted_set.jl\" target=\"_blank\">/Users/jeffreyvarner/.julia/packages/DataStructures/7NQC7/src/sorted_set.jl:209</a></li> <li> pop!(m::<b>SortedSet</b>) in DataStructures at <a href=\"file:///Users/jeffreyvarner/.julia/packages/DataStructures/7NQC7/src/sorted_set.jl\" target=\"_blank\">/Users/jeffreyvarner/.julia/packages/DataStructures/7NQC7/src/sorted_set.jl:232</a></li> <li> pop!(d::<b>IdDict{K, V}</b>, key, default)<i> where {K, V}</i> in Base at <a href=\"https://github.com/JuliaLang/julia/tree/9615af0f269df4d371b8010e9507ed5bae86103b/base/iddict.jl#L102\" target=\"_blank\">iddict.jl:102</a></li> <li> pop!(d::<b>IdDict{K, V}</b>, key)<i> where {K, V}</i> in Base at <a href=\"https://github.com/JuliaLang/julia/tree/9615af0f269df4d371b8010e9507ed5bae86103b/base/iddict.jl#L114\" target=\"_blank\">iddict.jl:114</a></li> <li> pop!(a::<b>DataStructures.DefaultDictBase</b>, args...) in DataStructures at <a href=\"file:///Users/jeffreyvarner/.julia/packages/DataStructures/7NQC7/src/delegate.jl\" target=\"_blank\">/Users/jeffreyvarner/.julia/packages/DataStructures/7NQC7/src/delegate.jl:21</a></li> <li> pop!(q::<b>Base.IntrusiveLinkedList{Base.LinkedListItem{T}} where T</b>) in Base at <a href=\"https://github.com/JuliaLang/julia/tree/9615af0f269df4d371b8010e9507ed5bae86103b/base/linked_list.jl#L140\" target=\"_blank\">linked_list.jl:140</a></li> <li> pop!(q::<b>Base.IntrusiveLinkedList{T}</b>)<i> where T</i> in Base at <a href=\"https://github.com/JuliaLang/julia/tree/9615af0f269df4d371b8010e9507ed5bae86103b/base/linked_list.jl#L78\" target=\"_blank\">linked_list.jl:78</a></li> <li> pop!(h::<b>SwissDict</b>, key) in DataStructures at <a href=\"file:///Users/jeffreyvarner/.julia/packages/DataStructures/7NQC7/src/swiss_dict.jl\" target=\"_blank\">/Users/jeffreyvarner/.julia/packages/DataStructures/7NQC7/src/swiss_dict.jl:591</a></li> <li> pop!(h::<b>SwissDict</b>, key, default) in DataStructures at <a href=\"file:///Users/jeffreyvarner/.julia/packages/DataStructures/7NQC7/src/swiss_dict.jl\" target=\"_blank\">/Users/jeffreyvarner/.julia/packages/DataStructures/7NQC7/src/swiss_dict.jl:596</a></li> <li> pop!(h::<b>SwissDict</b>) in DataStructures at <a href=\"file:///Users/jeffreyvarner/.julia/packages/DataStructures/7NQC7/src/swiss_dict.jl\" target=\"_blank\">/Users/jeffreyvarner/.julia/packages/DataStructures/7NQC7/src/swiss_dict.jl:601</a></li> </ul>"
      ],
      "text/plain": [
       "# 76 methods for generic function \"pop!\" from \u001b[90mBase\u001b[39m:\n",
       "  [1] pop!(\u001b[90mB\u001b[39m::\u001b[1mBitVector\u001b[22m)\n",
       "\u001b[90m     @\u001b[39m \u001b[90m\u001b[4mbitarray.jl:834\u001b[24m\u001b[39m\n",
       "  [2] pop!(\u001b[90mx\u001b[39m::\u001b[1mDiBitVector\u001b[22m)\n",
       "\u001b[90m     @\u001b[39m \u001b[35mDataStructures\u001b[39m \u001b[90m~/.julia/packages/DataStructures/7NQC7/src/\u001b[39m\u001b[90m\u001b[4mdibit_vector.jl:72\u001b[24m\u001b[39m\n",
       "  [3] pop!(\u001b[90ms\u001b[39m::\u001b[1mDataStructures.IntSet\u001b[22m)\n",
       "\u001b[90m     @\u001b[39m \u001b[35mDataStructures\u001b[39m \u001b[90m~/.julia/packages/DataStructures/7NQC7/src/\u001b[39m\u001b[90m\u001b[4mint_set.jl:59\u001b[24m\u001b[39m\n",
       "  [4] pop!(\u001b[90ms\u001b[39m::\u001b[1mDataStructures.IntSet\u001b[22m, \u001b[90mn\u001b[39m::\u001b[1mInteger\u001b[22m)\n",
       "\u001b[90m     @\u001b[39m \u001b[35mDataStructures\u001b[39m \u001b[90m~/.julia/packages/DataStructures/7NQC7/src/\u001b[39m\u001b[90m\u001b[4mint_set.jl:63\u001b[24m\u001b[39m\n",
       "  [5] pop!(\u001b[90ms\u001b[39m::\u001b[1mDataStructures.IntSet\u001b[22m, \u001b[90mn\u001b[39m::\u001b[1mInteger\u001b[22m, \u001b[90mdefault\u001b[39m)\n",
       "\u001b[90m     @\u001b[39m \u001b[35mDataStructures\u001b[39m \u001b[90m~/.julia/packages/DataStructures/7NQC7/src/\u001b[39m\u001b[90m\u001b[4mint_set.jl:67\u001b[24m\u001b[39m\n",
       "  [6] pop!(::\u001b[1mBase.EnvDict\u001b[22m, \u001b[90mk\u001b[39m::\u001b[1mAbstractString\u001b[22m, \u001b[90mdef\u001b[39m)\n",
       "\u001b[90m     @\u001b[39m \u001b[90m\u001b[4menv.jl:173\u001b[24m\u001b[39m\n",
       "  [7] pop!(::\u001b[1mBase.EnvDict\u001b[22m, \u001b[90mk\u001b[39m::\u001b[1mAbstractString\u001b[22m)\n",
       "\u001b[90m     @\u001b[39m \u001b[90m\u001b[4menv.jl:172\u001b[24m\u001b[39m\n",
       "  [8] pop!(\u001b[90ms\u001b[39m::\u001b[1mSparseIntSet\u001b[22m)\n",
       "\u001b[90m     @\u001b[39m \u001b[35mDataStructures\u001b[39m \u001b[90m~/.julia/packages/DataStructures/7NQC7/src/\u001b[39m\u001b[90m\u001b[4msparse_int_set.jl:101\u001b[24m\u001b[39m\n",
       "  [9] pop!(\u001b[90ms\u001b[39m::\u001b[1mSparseIntSet\u001b[22m, \u001b[90mid\u001b[39m::\u001b[1mInteger\u001b[22m)\n",
       "\u001b[90m     @\u001b[39m \u001b[35mDataStructures\u001b[39m \u001b[90m~/.julia/packages/DataStructures/7NQC7/src/\u001b[39m\u001b[90m\u001b[4msparse_int_set.jl:113\u001b[24m\u001b[39m\n",
       " [10] pop!(\u001b[90ms\u001b[39m::\u001b[1mSparseIntSet\u001b[22m, \u001b[90mid\u001b[39m::\u001b[1mInteger\u001b[22m, \u001b[90mdefault\u001b[39m)\n",
       "\u001b[90m     @\u001b[39m \u001b[35mDataStructures\u001b[39m \u001b[90m~/.julia/packages/DataStructures/7NQC7/src/\u001b[39m\u001b[90m\u001b[4msparse_int_set.jl:141\u001b[24m\u001b[39m\n",
       " [11] pop!(\u001b[90mdf\u001b[39m::\u001b[1mDataFrame\u001b[22m)\n",
       "\u001b[90m     @\u001b[39m \u001b[36mDataFrames\u001b[39m \u001b[90m~/.julia/packages/DataFrames/C5AEe/src/dataframe/\u001b[39m\u001b[90m\u001b[4mdataframe.jl:1118\u001b[24m\u001b[39m\n",
       " [12] pop!(\u001b[90ms\u001b[39m::\u001b[1mBitSet\u001b[22m)\n",
       "\u001b[90m     @\u001b[39m \u001b[90m\u001b[4mbitset.jl:259\u001b[24m\u001b[39m\n",
       " [13] pop!(\u001b[90ms\u001b[39m::\u001b[1mBitSet\u001b[22m, \u001b[90mn\u001b[39m::\u001b[1mInteger\u001b[22m, \u001b[90mdefault\u001b[39m)\n",
       "\u001b[90m     @\u001b[39m \u001b[90m\u001b[4mbitset.jl:270\u001b[24m\u001b[39m\n",
       " [14] pop!(\u001b[90ms\u001b[39m::\u001b[1mBitSet\u001b[22m, \u001b[90mn\u001b[39m::\u001b[1mInteger\u001b[22m)\n",
       "\u001b[90m     @\u001b[39m \u001b[90m\u001b[4mbitset.jl:261\u001b[24m\u001b[39m\n",
       " [15] pop!(\u001b[90mcs\u001b[39m::\u001b[1mCrayons.CrayonStack\u001b[22m)\n",
       "\u001b[90m     @\u001b[39m \u001b[32mCrayons\u001b[39m \u001b[90m~/.julia/packages/Crayons/u3AH8/src/\u001b[39m\u001b[90m\u001b[4mcrayon_stack.jl:67\u001b[24m\u001b[39m\n",
       " [16] pop!(\u001b[90mx\u001b[39m::\u001b[1mSentinelArrays.MissingVector\u001b[22m)\n",
       "\u001b[90m     @\u001b[39m \u001b[33mSentinelArrays\u001b[39m \u001b[90m~/.julia/packages/SentinelArrays/vt8A6/src/\u001b[39m\u001b[90m\u001b[4mmissingvector.jl:74\u001b[24m\u001b[39m\n",
       " [17] pop!(\u001b[90ma\u001b[39m::\u001b[1mVector\u001b[22m)\n",
       "\u001b[90m     @\u001b[39m \u001b[90m\u001b[4marray.jl:1580\u001b[24m\u001b[39m\n",
       " [18] pop!(\u001b[90mh\u001b[39m::\u001b[1mOrderedRobinDict\u001b[22m)\n",
       "\u001b[90m     @\u001b[39m \u001b[35mDataStructures\u001b[39m \u001b[90m~/.julia/packages/DataStructures/7NQC7/src/\u001b[39m\u001b[90m\u001b[4mordered_robin_dict.jl:343\u001b[24m\u001b[39m\n",
       " [19] pop!(\u001b[90mh\u001b[39m::\u001b[1mOrderedRobinDict\u001b[22m, \u001b[90mkey\u001b[39m)\n",
       "\u001b[90m     @\u001b[39m \u001b[35mDataStructures\u001b[39m \u001b[90m~/.julia/packages/DataStructures/7NQC7/src/\u001b[39m\u001b[90m\u001b[4mordered_robin_dict.jl:355\u001b[24m\u001b[39m\n",
       " [20] pop!(\u001b[90mh\u001b[39m::\u001b[1mOrderedRobinDict\u001b[22m, \u001b[90mkey\u001b[39m, \u001b[90mdefault\u001b[39m)\n",
       "\u001b[90m     @\u001b[39m \u001b[35mDataStructures\u001b[39m \u001b[90m~/.julia/packages/DataStructures/7NQC7/src/\u001b[39m\u001b[90m\u001b[4mordered_robin_dict.jl:383\u001b[24m\u001b[39m\n",
       " [21] pop!(\u001b[90mpv\u001b[39m::\u001b[1mPooledArrays.PooledVector\u001b[22m)\n",
       "\u001b[90m     @\u001b[39m \u001b[35mPooledArrays\u001b[39m \u001b[90m~/.julia/packages/PooledArrays/Vy2X0/src/\u001b[39m\u001b[90m\u001b[4mPooledArrays.jl:621\u001b[24m\u001b[39m\n",
       " [22] pop!(\u001b[90ms\u001b[39m::\u001b[1mStack\u001b[22m)\n",
       "\u001b[90m     @\u001b[39m \u001b[35mDataStructures\u001b[39m \u001b[90m~/.julia/packages/DataStructures/7NQC7/src/\u001b[39m\u001b[90m\u001b[4mstack.jl:119\u001b[24m\u001b[39m\n",
       " [23] pop!(\u001b[90ma\u001b[39m::\u001b[1mWeakRefStrings.StringVector\u001b[22m)\n",
       "\u001b[90m     @\u001b[39m \u001b[36mWeakRefStrings\u001b[39m \u001b[90m~/.julia/packages/WeakRefStrings/31nkb/src/\u001b[39m\u001b[90m\u001b[4mWeakRefStrings.jl:523\u001b[24m\u001b[39m\n",
       " [24] pop!(\u001b[90ms\u001b[39m::\u001b[1mSet\u001b[22m)\n",
       "\u001b[90m     @\u001b[39m \u001b[90m\u001b[4mset.jl:159\u001b[24m\u001b[39m\n",
       " [25] pop!(\u001b[90ms\u001b[39m::\u001b[1mSet\u001b[22m, \u001b[90mx\u001b[39m)\n",
       "\u001b[90m     @\u001b[39m \u001b[90m\u001b[4mset.jl:151\u001b[24m\u001b[39m\n",
       " [26] pop!(\u001b[90ms\u001b[39m::\u001b[1mSet\u001b[22m, \u001b[90mx\u001b[39m, \u001b[90mdefault\u001b[39m)\n",
       "\u001b[90m     @\u001b[39m \u001b[90m\u001b[4mset.jl:139\u001b[24m\u001b[39m\n",
       " [27] pop!(\u001b[90mA\u001b[39m::\u001b[1mSentinelArrays.ChainedVector\u001b[22m)\n",
       "\u001b[90m     @\u001b[39m \u001b[33mSentinelArrays\u001b[39m \u001b[90m~/.julia/packages/SentinelArrays/vt8A6/src/\u001b[39m\u001b[90m\u001b[4mchainedvector.jl:648\u001b[24m\u001b[39m\n",
       " [28] pop!(\u001b[90ma\u001b[39m::\u001b[1mDefaultDict\u001b[22m, \u001b[90margs...\u001b[39m)\n",
       "\u001b[90m     @\u001b[39m \u001b[35mDataStructures\u001b[39m \u001b[90m~/.julia/packages/DataStructures/7NQC7/src/\u001b[39m\u001b[90m\u001b[4mdelegate.jl:21\u001b[24m\u001b[39m\n",
       " [29] pop!(\u001b[90mh\u001b[39m::\u001b[1mBinaryMinMaxHeap\u001b[22m)\n",
       "\u001b[90m     @\u001b[39m \u001b[35mDataStructures\u001b[39m \u001b[90m~/.julia/packages/DataStructures/7NQC7/src/heaps/\u001b[39m\u001b[90m\u001b[4mminmax_heap.jl:175\u001b[24m\u001b[39m\n",
       " [30] pop!(\u001b[90ms\u001b[39m::\u001b[1mOrderedSet\u001b[22m, \u001b[90mx\u001b[39m)\n",
       "\u001b[90m     @\u001b[39m \u001b[32mOrderedCollections\u001b[39m \u001b[90m~/.julia/packages/OrderedCollections/Xihhq/src/\u001b[39m\u001b[90m\u001b[4mordered_set.jl:41\u001b[24m\u001b[39m\n",
       " [31] pop!(\u001b[90ms\u001b[39m::\u001b[1mOrderedSet\u001b[22m, \u001b[90mx\u001b[39m, \u001b[90mdeflt\u001b[39m)\n",
       "\u001b[90m     @\u001b[39m \u001b[32mOrderedCollections\u001b[39m \u001b[90m~/.julia/packages/OrderedCollections/Xihhq/src/\u001b[39m\u001b[90m\u001b[4mordered_set.jl:42\u001b[24m\u001b[39m\n",
       " [32] pop!(\u001b[90ms\u001b[39m::\u001b[1mOrderedSet\u001b[22m)\n",
       "\u001b[90m     @\u001b[39m \u001b[32mOrderedCollections\u001b[39m \u001b[90m~/.julia/packages/OrderedCollections/Xihhq/src/\u001b[39m\u001b[90m\u001b[4mordered_set.jl:71\u001b[24m\u001b[39m\n",
       " [33] pop!(\u001b[90ma\u001b[39m::\u001b[1mDefaultOrderedDict\u001b[22m, \u001b[90margs...\u001b[39m)\n",
       "\u001b[90m     @\u001b[39m \u001b[35mDataStructures\u001b[39m \u001b[90m~/.julia/packages/DataStructures/7NQC7/src/\u001b[39m\u001b[90m\u001b[4mdelegate.jl:21\u001b[24m\u001b[39m\n",
       " [34] pop!(\u001b[90mD\u001b[39m::\u001b[1mCircularDeque\u001b[22m)\n",
       "\u001b[90m     @\u001b[39m \u001b[35mDataStructures\u001b[39m \u001b[90m~/.julia/packages/DataStructures/7NQC7/src/\u001b[39m\u001b[90m\u001b[4mcirc_deque.jl:65\u001b[24m\u001b[39m\n",
       " [35] pop!(\u001b[90ms\u001b[39m::\u001b[1mIdSet\u001b[22m, \u001b[90mx\u001b[39m)\n",
       "\u001b[90m     @\u001b[39m \u001b[90m\u001b[4midset.jl:77\u001b[24m\u001b[39m\n",
       " [36] pop!(\u001b[90ms\u001b[39m::\u001b[1mIdSet\u001b[22m, \u001b[90mx\u001b[39m, \u001b[90mdefault\u001b[39m)\n",
       "\u001b[90m     @\u001b[39m \u001b[90m\u001b[4midset.jl:78\u001b[24m\u001b[39m\n",
       " [37] pop!(\u001b[90mh\u001b[39m::\u001b[1mRobinDict\u001b[22m\u001b[0m{K, V}, \u001b[90mkey0\u001b[39m) where {K, V}\n",
       "\u001b[90m     @\u001b[39m \u001b[35mDataStructures\u001b[39m \u001b[90m~/.julia/packages/DataStructures/7NQC7/src/\u001b[39m\u001b[90m\u001b[4mrobin_dict.jl:502\u001b[24m\u001b[39m\n",
       " [38] pop!(\u001b[90mh\u001b[39m::\u001b[1mRobinDict\u001b[22m\u001b[0m{K, V}, \u001b[90mkey0\u001b[39m, \u001b[90mdefault\u001b[39m) where {K, V}\n",
       "\u001b[90m     @\u001b[39m \u001b[35mDataStructures\u001b[39m \u001b[90m~/.julia/packages/DataStructures/7NQC7/src/\u001b[39m\u001b[90m\u001b[4mrobin_dict.jl:529\u001b[24m\u001b[39m\n",
       " [39] pop!(\u001b[90mh\u001b[39m::\u001b[1mRobinDict\u001b[22m)\n",
       "\u001b[90m     @\u001b[39m \u001b[35mDataStructures\u001b[39m \u001b[90m~/.julia/packages/DataStructures/7NQC7/src/\u001b[39m\u001b[90m\u001b[4mrobin_dict.jl:535\u001b[24m\u001b[39m\n",
       " [40] pop!(\u001b[90mh\u001b[39m::\u001b[1mDict\u001b[22m)\n",
       "\u001b[90m     @\u001b[39m \u001b[90m\u001b[4mdict.jl:615\u001b[24m\u001b[39m\n",
       " [41] pop!(\u001b[90mh\u001b[39m::\u001b[1mDict\u001b[22m, \u001b[90mkey\u001b[39m, \u001b[90mdefault\u001b[39m)\n",
       "\u001b[90m     @\u001b[39m \u001b[90m\u001b[4mdict.jl:610\u001b[24m\u001b[39m\n",
       " [42] pop!(\u001b[90mh\u001b[39m::\u001b[1mDict\u001b[22m, \u001b[90mkey\u001b[39m)\n",
       "\u001b[90m     @\u001b[39m \u001b[90m\u001b[4mdict.jl:581\u001b[24m\u001b[39m\n",
       " [43] pop!(\u001b[90mA\u001b[39m::\u001b[1mSentinelArrays.SentinelVector\u001b[22m\u001b[0m{T} where T)\n",
       "\u001b[90m     @\u001b[39m \u001b[33mSentinelArrays\u001b[39m \u001b[90m~/.julia/packages/SentinelArrays/vt8A6/src/\u001b[39m\u001b[90m\u001b[4mSentinelArrays.jl:425\u001b[24m\u001b[39m\n",
       " [44] pop!(\u001b[90md\u001b[39m::\u001b[1mDeque\u001b[22m\u001b[0m{T}) where T\n",
       "\u001b[90m     @\u001b[39m \u001b[35mDataStructures\u001b[39m \u001b[90m~/.julia/packages/DataStructures/7NQC7/src/\u001b[39m\u001b[90m\u001b[4mdeque.jl:294\u001b[24m\u001b[39m\n",
       " [45] pop!(\u001b[90mW\u001b[39m::\u001b[1mBase.IntrusiveLinkedListSynchronized\u001b[22m)\n",
       "\u001b[90m     @\u001b[39m \u001b[90m\u001b[4mtask.jl:738\u001b[24m\u001b[39m\n",
       " [46] pop!(\u001b[90mf\u001b[39m::\u001b[1mFunction\u001b[22m, \u001b[90ms\u001b[39m::\u001b[1mDataStructures.IntSet\u001b[22m, \u001b[90mn\u001b[39m::\u001b[1mInteger\u001b[22m)\n",
       "\u001b[90m     @\u001b[39m \u001b[35mDataStructures\u001b[39m \u001b[90m~/.julia/packages/DataStructures/7NQC7/src/\u001b[39m\u001b[90m\u001b[4mint_set.jl:71\u001b[24m\u001b[39m\n",
       " [47] pop!(\u001b[90mh\u001b[39m::\u001b[1mMutableBinaryHeap\u001b[22m\u001b[0m{T}) where T\n",
       "\u001b[90m     @\u001b[39m \u001b[35mDataStructures\u001b[39m \u001b[90m~/.julia/packages/DataStructures/7NQC7/src/heaps/\u001b[39m\u001b[90m\u001b[4mmutable_binary_heap.jl:253\u001b[24m\u001b[39m\n",
       " [48] pop!(\u001b[90ml\u001b[39m::\u001b[1mMutableLinkedList\u001b[22m)\n",
       "\u001b[90m     @\u001b[39m \u001b[35mDataStructures\u001b[39m \u001b[90m~/.julia/packages/DataStructures/7NQC7/src/\u001b[39m\u001b[90m\u001b[4mmutable_list.jl:237\u001b[24m\u001b[39m\n",
       " [49] pop!(\u001b[90mcb\u001b[39m::\u001b[1mCircularBuffer\u001b[22m)\n",
       "\u001b[90m     @\u001b[39m \u001b[35mDataStructures\u001b[39m \u001b[90m~/.julia/packages/DataStructures/7NQC7/src/\u001b[39m\u001b[90m\u001b[4mcircular_buffer.jl:95\u001b[24m\u001b[39m\n",
       " [50] pop!(\u001b[90mdd\u001b[39m::\u001b[1mLittleDict\u001b[22m\u001b[0m{K, V, <:AbstractVector{K}, <:AbstractVector{V}} where {K, V})\n",
       "\u001b[90m     @\u001b[39m \u001b[32mOrderedCollections\u001b[39m \u001b[90m~/.julia/packages/OrderedCollections/Xihhq/src/\u001b[39m\u001b[90m\u001b[4mlittle_dict.jl:239\u001b[24m\u001b[39m\n",
       " [51] pop!(\u001b[90mdd\u001b[39m::\u001b[1mLittleDict\u001b[22m\u001b[0m{K, V, <:AbstractVector{K}, <:AbstractVector{V}} where {K, V}, \u001b[90mkey\u001b[39m)\n",
       "\u001b[90m     @\u001b[39m \u001b[32mOrderedCollections\u001b[39m \u001b[90m~/.julia/packages/OrderedCollections/Xihhq/src/\u001b[39m\u001b[90m\u001b[4mlittle_dict.jl:244\u001b[24m\u001b[39m\n",
       " [52] pop!(\u001b[90mm\u001b[39m::\u001b[1mSortedDict\u001b[22m, \u001b[90mk_\u001b[39m)\n",
       "\u001b[90m     @\u001b[39m \u001b[35mDataStructures\u001b[39m \u001b[90m~/.julia/packages/DataStructures/7NQC7/src/\u001b[39m\u001b[90m\u001b[4msorted_dict.jl:352\u001b[24m\u001b[39m\n",
       " [53] pop!(\u001b[90mm\u001b[39m::\u001b[1mSortedDict\u001b[22m, \u001b[90mk_\u001b[39m, \u001b[90mdefault\u001b[39m)\n",
       "\u001b[90m     @\u001b[39m \u001b[35mDataStructures\u001b[39m \u001b[90m~/.julia/packages/DataStructures/7NQC7/src/\u001b[39m\u001b[90m\u001b[4msorted_dict.jl:360\u001b[24m\u001b[39m\n",
       " [54] pop!(\u001b[90mh\u001b[39m::\u001b[1mBinaryHeap\u001b[22m)\n",
       "\u001b[90m     @\u001b[39m \u001b[35mDataStructures\u001b[39m \u001b[90m~/.julia/packages/DataStructures/7NQC7/src/heaps/\u001b[39m\u001b[90m\u001b[4mbinary_heap.jl:107\u001b[24m\u001b[39m\n",
       " [55] pop!(\u001b[90ms\u001b[39m::\u001b[1mOrderedCollections.LittleSet\u001b[22m\u001b[0m{T, <:AbstractVector{T}} where T)\n",
       "\u001b[90m     @\u001b[39m \u001b[32mOrderedCollections\u001b[39m \u001b[90m~/.julia/packages/OrderedCollections/Xihhq/src/\u001b[39m\u001b[90m\u001b[4mlittle_set.jl:210\u001b[24m\u001b[39m\n",
       " [56] pop!(\u001b[90ms\u001b[39m::\u001b[1mOrderedCollections.LittleSet\u001b[22m\u001b[0m{T, <:AbstractVector{T}} where T, \u001b[90mkey\u001b[39m)\n",
       "\u001b[90m     @\u001b[39m \u001b[32mOrderedCollections\u001b[39m \u001b[90m~/.julia/packages/OrderedCollections/Xihhq/src/\u001b[39m\u001b[90m\u001b[4mlittle_set.jl:211\u001b[24m\u001b[39m\n",
       " [57] pop!(\u001b[90ms\u001b[39m::\u001b[1mOrderedCollections.LittleSet\u001b[22m\u001b[0m{T, <:AbstractVector{T}} where T, \u001b[90mkey\u001b[39m, \u001b[90mdefault\u001b[39m)\n",
       "\u001b[90m     @\u001b[39m \u001b[32mOrderedCollections\u001b[39m \u001b[90m~/.julia/packages/OrderedCollections/Xihhq/src/\u001b[39m\u001b[90m\u001b[4mlittle_set.jl:222\u001b[24m\u001b[39m\n",
       " [58] pop!(\u001b[90ms\u001b[39m::\u001b[1mGenericDict\u001b[22m, \u001b[90mk\u001b[39m)\n",
       "\u001b[90m     @\u001b[39m \u001b[33mTest\u001b[39m \u001b[90m~/.julia/juliaup/julia-1.11.6+0.aarch64.apple.darwin14/share/julia/stdlib/v1.11/Test/src/\u001b[39m\u001b[90m\u001b[4mTest.jl:2241\u001b[24m\u001b[39m\n",
       " [59] pop!(\u001b[90mh\u001b[39m::\u001b[1mOrderedDict\u001b[22m)\n",
       "\u001b[90m     @\u001b[39m \u001b[32mOrderedCollections\u001b[39m \u001b[90m~/.julia/packages/OrderedCollections/Xihhq/src/\u001b[39m\u001b[90m\u001b[4mordered_dict.jl:414\u001b[24m\u001b[39m\n",
       " [60] pop!(\u001b[90mh\u001b[39m::\u001b[1mOrderedDict\u001b[22m, \u001b[90mkey\u001b[39m)\n",
       "\u001b[90m     @\u001b[39m \u001b[32mOrderedCollections\u001b[39m \u001b[90m~/.julia/packages/OrderedCollections/Xihhq/src/\u001b[39m\u001b[90m\u001b[4mordered_dict.jl:428\u001b[24m\u001b[39m\n",
       " [61] pop!(\u001b[90mh\u001b[39m::\u001b[1mOrderedDict\u001b[22m, \u001b[90mkey\u001b[39m, \u001b[90mdefault\u001b[39m)\n",
       "\u001b[90m     @\u001b[39m \u001b[32mOrderedCollections\u001b[39m \u001b[90m~/.julia/packages/OrderedCollections/Xihhq/src/\u001b[39m\u001b[90m\u001b[4mordered_dict.jl:433\u001b[24m\u001b[39m\n",
       " [62] pop!(\u001b[90md\u001b[39m::\u001b[1mMultiDict\u001b[22m, \u001b[90mkey\u001b[39m, \u001b[90mdefault\u001b[39m)\n",
       "\u001b[90m     @\u001b[39m \u001b[35mDataStructures\u001b[39m \u001b[90m~/.julia/packages/DataStructures/7NQC7/src/\u001b[39m\u001b[90m\u001b[4mmulti_dict.jl:64\u001b[24m\u001b[39m\n",
       " [63] pop!(\u001b[90md\u001b[39m::\u001b[1mMultiDict\u001b[22m, \u001b[90mkey\u001b[39m)\n",
       "\u001b[90m     @\u001b[39m \u001b[35mDataStructures\u001b[39m \u001b[90m~/.julia/packages/DataStructures/7NQC7/src/\u001b[39m\u001b[90m\u001b[4mmulti_dict.jl:77\u001b[24m\u001b[39m\n",
       " [64] pop!(\u001b[90mwkh\u001b[39m::\u001b[1mWeakKeyDict\u001b[22m\u001b[0m{K}, \u001b[90mkey\u001b[39m, \u001b[90mdefault\u001b[39m) where K\n",
       "\u001b[90m     @\u001b[39m \u001b[90m\u001b[4mweakkeydict.jl:152\u001b[24m\u001b[39m\n",
       " [65] pop!(\u001b[90mwkh\u001b[39m::\u001b[1mWeakKeyDict\u001b[22m\u001b[0m{K}, \u001b[90mkey\u001b[39m) where K\n",
       "\u001b[90m     @\u001b[39m \u001b[90m\u001b[4mweakkeydict.jl:146\u001b[24m\u001b[39m\n",
       " [66] pop!(\u001b[90mm\u001b[39m::\u001b[1mSortedSet\u001b[22m, \u001b[90mk_\u001b[39m)\n",
       "\u001b[90m     @\u001b[39m \u001b[35mDataStructures\u001b[39m \u001b[90m~/.julia/packages/DataStructures/7NQC7/src/\u001b[39m\u001b[90m\u001b[4msorted_set.jl:200\u001b[24m\u001b[39m\n",
       " [67] pop!(\u001b[90mm\u001b[39m::\u001b[1mSortedSet\u001b[22m, \u001b[90mk_\u001b[39m, \u001b[90mdefault\u001b[39m)\n",
       "\u001b[90m     @\u001b[39m \u001b[35mDataStructures\u001b[39m \u001b[90m~/.julia/packages/DataStructures/7NQC7/src/\u001b[39m\u001b[90m\u001b[4msorted_set.jl:209\u001b[24m\u001b[39m\n",
       " [68] pop!(\u001b[90mm\u001b[39m::\u001b[1mSortedSet\u001b[22m)\n",
       "\u001b[90m     @\u001b[39m \u001b[35mDataStructures\u001b[39m \u001b[90m~/.julia/packages/DataStructures/7NQC7/src/\u001b[39m\u001b[90m\u001b[4msorted_set.jl:232\u001b[24m\u001b[39m\n",
       " [69] pop!(\u001b[90md\u001b[39m::\u001b[1mIdDict\u001b[22m\u001b[0m{K, V}, \u001b[90mkey\u001b[39m, \u001b[90mdefault\u001b[39m) where {K, V}\n",
       "\u001b[90m     @\u001b[39m \u001b[90m\u001b[4middict.jl:102\u001b[24m\u001b[39m\n",
       " [70] pop!(\u001b[90md\u001b[39m::\u001b[1mIdDict\u001b[22m\u001b[0m{K, V}, \u001b[90mkey\u001b[39m) where {K, V}\n",
       "\u001b[90m     @\u001b[39m \u001b[90m\u001b[4middict.jl:114\u001b[24m\u001b[39m\n",
       " [71] pop!(\u001b[90ma\u001b[39m::\u001b[1mDataStructures.DefaultDictBase\u001b[22m, \u001b[90margs...\u001b[39m)\n",
       "\u001b[90m     @\u001b[39m \u001b[35mDataStructures\u001b[39m \u001b[90m~/.julia/packages/DataStructures/7NQC7/src/\u001b[39m\u001b[90m\u001b[4mdelegate.jl:21\u001b[24m\u001b[39m\n",
       " [72] pop!(\u001b[90mq\u001b[39m::\u001b[1mBase.IntrusiveLinkedList\u001b[22m\u001b[0m{Base.LinkedListItem{T}} where T)\n",
       "\u001b[90m     @\u001b[39m \u001b[90m\u001b[4mlinked_list.jl:140\u001b[24m\u001b[39m\n",
       " [73] pop!(\u001b[90mq\u001b[39m::\u001b[1mBase.IntrusiveLinkedList\u001b[22m\u001b[0m{T}) where T\n",
       "\u001b[90m     @\u001b[39m \u001b[90m\u001b[4mlinked_list.jl:78\u001b[24m\u001b[39m\n",
       " [74] pop!(\u001b[90mh\u001b[39m::\u001b[1mSwissDict\u001b[22m, \u001b[90mkey\u001b[39m)\n",
       "\u001b[90m     @\u001b[39m \u001b[35mDataStructures\u001b[39m \u001b[90m~/.julia/packages/DataStructures/7NQC7/src/\u001b[39m\u001b[90m\u001b[4mswiss_dict.jl:591\u001b[24m\u001b[39m\n",
       " [75] pop!(\u001b[90mh\u001b[39m::\u001b[1mSwissDict\u001b[22m, \u001b[90mkey\u001b[39m, \u001b[90mdefault\u001b[39m)\n",
       "\u001b[90m     @\u001b[39m \u001b[35mDataStructures\u001b[39m \u001b[90m~/.julia/packages/DataStructures/7NQC7/src/\u001b[39m\u001b[90m\u001b[4mswiss_dict.jl:596\u001b[24m\u001b[39m\n",
       " [76] pop!(\u001b[90mh\u001b[39m::\u001b[1mSwissDict\u001b[22m)\n",
       "\u001b[90m     @\u001b[39m \u001b[35mDataStructures\u001b[39m \u001b[90m~/.julia/packages/DataStructures/7NQC7/src/\u001b[39m\u001b[90m\u001b[4mswiss_dict.jl:601\u001b[24m\u001b[39m"
      ]
     },
     "metadata": {},
     "output_type": "display_data"
    }
   ],
   "source": [
    "methods(pop!)"
   ]
  }
 ],
 "metadata": {
  "kernelspec": {
   "display_name": "Julia 1.11.6",
   "language": "julia",
   "name": "julia-1.11"
  },
  "language_info": {
   "file_extension": ".jl",
   "mimetype": "application/julia",
   "name": "julia",
   "version": "1.11.6"
  }
 },
 "nbformat": 4,
 "nbformat_minor": 5
}
