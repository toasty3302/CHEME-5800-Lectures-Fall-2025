{
 "cells": [
  {
   "cell_type": "markdown",
   "id": "c082af40-9f82-4b8c-a289-4514cc5f385c",
   "metadata": {},
   "source": [
    "# Example: Recursive Implementation of Fibonacci Sequence Calculation\n",
    "Recursion is a programming technique in which a function calls itself with a modified version of its input. This allows the function to repeat a process on a smaller scale, and the results of these smaller-scale processes can be combined to solve the original problem. \n",
    "\n",
    "We illustrate recursion concepts by benchmarking different implementations of the Fibonacci sequence computation using the [BenchmarkTools.jl package](https://github.com/JuliaCI/BenchmarkTools.jl).\n",
    "\n",
    "* __Case 1: Vanilla loop-based implementation:__ First, we benchmark the time required to calculate the sequence $F_{0},\\dots,F_{n}$ using the vanilla for-loop implementation of the `fibonacci(...)` function.\n",
    "* __Case 2: Standard recursive implementation:__ Next, we'll benchmark a recursive implementation. The `fibonacci!(n::Int64, series::Dict{Int64, Int64})::Nothing` function is a mutating recursive function that computes sequence $F_{0},\\dots, F_{n}$ for a given $n$. The recursive sequence is stored in the `series::Dict{Int64, Int64}` argument, which is updated in place.\n",
    "* __Case 3: Memoized recursive implementation:__ Lastly, we'll benchmark a recursive implementation that uses memoization. The `memoization_fibonacci!(n::Int64, series::Dict{Int64, Int64})::Nothing` function is a mutating recursive function that uses memoization to speed up the computation of the sequence $F_{0},\\dots, F_{n}$ for a given $n$. The recursive sequence is stored in the `series::Dict{Int64, Int64}` argument.\n",
    "\n",
    "We expect that the memoized recursive implementation will be significantly faster than the standard recursive implementation, especially for larger values of $n$. This is because memoization avoids redundant calculations by storing previously computed results. However, let's see?\n",
    "\n",
    "Let's get started!\n",
    "___"
   ]
  },
  {
   "cell_type": "markdown",
   "id": "8af7ad9e-39b9-47cc-af75-257b4dd025a6",
   "metadata": {},
   "source": [
    "## Setup, Data, and Prerequisites\n",
    "First, we set up the computational environment by including the `Include.jl` file and loading any needed resources.\n",
    "\n",
    "The [include command](https://docs.julialang.org/en/v1/base/base/#include) evaluates the contents of the input source file, `Include.jl`, in the notebook's global scope. The `Include.jl` file sets paths, loads required external packages, etc. For additional information on functions and types used in this material, see the [Julia programming language documentation](https://docs.julialang.org/en/v1/). "
   ]
  },
  {
   "cell_type": "code",
   "execution_count": 13,
   "id": "4d6bbba5-1cd0-4e1e-a0dd-cc46e5e5bd10",
   "metadata": {},
   "outputs": [],
   "source": [
    "include(\"Include.jl\");"
   ]
  },
  {
   "cell_type": "markdown",
   "id": "99bb86a3",
   "metadata": {},
   "source": [
    "In addition to standard Julia libraries, we'll also use [the `VLDataScienceMachineLearningPackage.jl` package](https://github.com/varnerlab/VLDataScienceMachineLearningPackage.jl), check out [the documentation](https://varnerlab.github.io/VLDataScienceMachineLearningPackage.jl/dev/) for more information on the functions, types and data used in this material. "
   ]
  },
  {
   "cell_type": "markdown",
   "id": "c7a336b2",
   "metadata": {},
   "source": [
    "### Implementations\n",
    "Let's walk through the different implementations of the Fibonacci sequence calculation that we will benchmark, starting with the vanilla loop-based implementation."
   ]
  },
  {
   "cell_type": "code",
   "execution_count": 14,
   "id": "7ddf2045",
   "metadata": {},
   "outputs": [],
   "source": [
    "\"\"\"\n",
    "     fibonacci(n::Int64) -> Dict{Int64,Int64}\n",
    "\n",
    "Computes the Fibonacci sequence from 0 to n terms using a for loop.\n",
    "\n",
    "### Arguments\n",
    "- `n::Int64`: The number of terms in the Fibonacci sequence to compute.\n",
    "\n",
    "### Returns\n",
    "- `Dict{Int64,Int64}`: A dictionary containing the Fibonacci sequence where keys are the term indices and values are the corresponding Fibonacci numbers.\n",
    "\"\"\"\n",
    "function fibonacci(n::Int64)::Dict{Int64,Int64}\n",
    "\n",
    "    # implement a fibonacci function that uses a for loop to compute the fibonacci sequence. \n",
    "    # The fibonacci sequence is stored in a dictionary. Inside the for loop use an if else to check for the 0, 1 cases\n",
    "\n",
    "    # check: is n ≥ 1?\n",
    "    if n < 1\n",
    "        throw(ArgumentError(\"n must be greater than or equal to 1\"));\n",
    "    end\n",
    "\n",
    "    # initialize -\n",
    "    fibonacci_seq = Dict{Int64, Int64}()\n",
    "\n",
    "    # main loop -\n",
    "    for i ∈ 0:n\n",
    "        \n",
    "        # conditional logic: hardcode 0, 1 else gets all other cases\n",
    "        if (i == 0)\n",
    "            fibonacci_seq[i] = 0; \n",
    "        elseif (i == 1)\n",
    "            fibonacci_seq[i] = 1;\n",
    "        else\n",
    "            fibonacci_seq[i] = fibonacci_seq[i-1] + fibonacci_seq[i-2] # use the dictionary to get the previous two terms\n",
    "        end\n",
    "    end\n",
    "\n",
    "    # return -\n",
    "    return fibonacci_seq\n",
    "end;"
   ]
  },
  {
   "cell_type": "markdown",
   "id": "ef92dfe4",
   "metadata": {},
   "source": [
    "Next, let's consider the standard recursive implementation of the Fibonacci sequence calculation. This implementation uses a mutating recursive function that computes the sequence $F_{0},\\dots, F_{n}$ for a given $n$. The recursive sequence is stored in the `series::Dict{Int64, Int64}` argument, which is updated in place."
   ]
  },
  {
   "cell_type": "code",
   "execution_count": null,
   "id": "a1484e0c",
   "metadata": {},
   "outputs": [],
   "source": [
    "\"\"\"\n",
    "    fibonacci!(n::Int64, series::Dict{Int64,Int64})\n",
    "\n",
    "Recursively computes the Fibonacci sequence for 0 to n where n >= 1.\n",
    "Stores the series in the `series::Dict{Int64,Int64}` variable (in place).\n",
    "\n",
    "### Arguments\n",
    "- `n::Int64`: The number of terms in the Fibonacci sequence to compute.\n",
    "- `series::Dict{Int64,Int64}`: A dictionary to store the Fibonacci sequence where keys are the term indices and values are the corresponding Fibonacci numbers.\n",
    "\n",
    "### Returns\n",
    "- `Nothing`: The function updates the `series` dictionary in place.\n",
    "\"\"\"\n",
    "function fibonacci!(n::Int64, series::Dict{Int64,Int64})\n",
    "\n",
    "    # Base cases and recursive computation (no caching check)\n",
    "    if (n == 0)  # base case\n",
    "        series[0] = 0;\n",
    "    elseif (n == 1) # base case\n",
    "        series[1] = 1;\n",
    "    else\n",
    "        series[n] = fibonacci!(n-1, series) + fibonacci!(n-2, series);\n",
    "    end\n",
    "end;"
   ]
  },
  {
   "cell_type": "markdown",
   "id": "eee45a13",
   "metadata": {},
   "source": [
    "Finally, we'll look at the memoized recursive implementation of the Fibonacci sequence calculation. This implementation uses a mutating recursive function that uses memoization to speed up the computation of the sequence $F_{0},\\dots, F_{n}$ for a given $n$. The recursive sequence is stored in the `series::Dict{Int64, Int64}` argument, which is updated in place."
   ]
  },
  {
   "cell_type": "code",
   "execution_count": 16,
   "id": "3c88c276",
   "metadata": {},
   "outputs": [],
   "source": [
    "\"\"\"\n",
    "    memoization_fibonacci!(n::Int64, series::Dict{Int64,Int64}) -> Nothing\n",
    "\n",
    "Recursively computes the Fibonacci sequence for 0 to n where n >= 1.\n",
    "Stores the series in the `series::Dict{Int64,Int64}` variable (in place).\n",
    "Uses memoization to speed up the computation.\n",
    "\n",
    "### Arguments\n",
    "- `n::Int64`: The number of terms in the Fibonacci sequence to compute.\n",
    "- `series::Dict{Int64,Int64}`: A dictionary to store the Fibonacci sequence where keys are the term indices and values are the corresponding Fibonacci numbers.\n",
    "\n",
    "### Returns\n",
    "- `Nothing`: The function updates the `series` dictionary in place.\n",
    "\"\"\"\n",
    "function memoization_fibonacci!(n::Int64, series::Dict{Int64,Int64})\n",
    "\n",
    "    if haskey(series, n)\n",
    "        return series[n]  # still return for recursion to work, despite mutation\n",
    "    elseif n == 0\n",
    "        series[0] = 0\n",
    "    elseif n == 1\n",
    "        series[1] = 1\n",
    "    else\n",
    "        series[n] = memoization_fibonacci!(n - 1, series) + memoization_fibonacci!(n - 2, series)\n",
    "    end\n",
    "    # mutating function, no need to return series[n]\n",
    "end;"
   ]
  },
  {
   "cell_type": "markdown",
   "id": "fa5cb95c-8cbd-4fb5-b98a-c3862df126eb",
   "metadata": {},
   "source": [
    "### Constants\n",
    "Let's set some constants that we will use in the notebook. See the comment next to the constant value for what the constant is, permissible values, units, etc."
   ]
  },
  {
   "cell_type": "code",
   "execution_count": 17,
   "id": "3db32fec-8211-4817-b68a-5166ba5d40b7",
   "metadata": {},
   "outputs": [],
   "source": [
    "n = 25; # compute the Fibonacci sequence from F0 to F25\n",
    "correct_fibonacci_sequence = Dict(0 => 0, 1 => 1, 2 => 1, 3 => 2, 4 => 3, 5 => 5, 6 => 8, 7 => 13, 8 => 21, 9 => 34, 10 => 55, 11 => 89, 12 => 144, 13 => 233, 14 => 377, 15 => 610);"
   ]
  },
  {
   "cell_type": "markdown",
   "id": "4a234c41",
   "metadata": {},
   "source": [
    "___"
   ]
  },
  {
   "cell_type": "markdown",
   "id": "b081097e-188e-4da4-849f-53bcb604733b",
   "metadata": {},
   "source": [
    "## Case 1: Test the for loop implementation of Fibonacci computation\n",
    "Let's use the [BenchmarkTools.jl package](https://github.com/JuliaCI/BenchmarkTools.jl) to compute the average time required to calculate the sequence $F_{0},\\dots,F_{n}$ using the vanilla implementation of the `fibonacci` function (for-loop-based implementation).  However, before benchmark the for loop implementation, let's check that it is correct [using the `@test` macro exported by `Test.jl` package](https://docs.julialang.org/en/v1/stdlib/Test/). "
   ]
  },
  {
   "cell_type": "code",
   "execution_count": 18,
   "id": "1456a34e",
   "metadata": {},
   "outputs": [],
   "source": [
    "let\n",
    "\n",
    "    # initialize -\n",
    "    number_of_test_terms = 15; # we have n = 15 terms in the correct_fibonacci_sequence dictionary\n",
    "    my_computed_sequence = fibonacci(number_of_test_terms);\n",
    "    \n",
    "    for i ∈ 0:number_of_test_terms\n",
    "        @test my_computed_sequence[i] == correct_fibonacci_sequence[i];\n",
    "    end\n",
    "end"
   ]
  },
  {
   "cell_type": "markdown",
   "id": "57b52396",
   "metadata": {},
   "source": [
    "Now that we have verified correctness, let's benchmark the for-loop implementation of the Fibonacci sequence calculation.\n",
    "\n",
    "> __Benchmarking:__ The [BenchmarkTools.jl package](https://github.com/JuliaCI/BenchmarkTools.jl) exports the [@benchmarkable macro](https://juliaci.github.io/BenchmarkTools.jl/stable/reference/#BenchmarkTools.@benchmarkable-Tuple), which computes a function's runtime and memory profile. It runs the function many times and returns statistical information about its performance. Check out [the BenchmarkTools.jl documentation](https://github.com/JuliaCI/BenchmarkTools.jl) to see what some of this stuff, e.g., `samples` versus `evaluations`  or the `tune!` method, is.\n",
    "\n",
    "How does the vanilla implementation perform? Let's find out!"
   ]
  },
  {
   "cell_type": "code",
   "execution_count": 19,
   "id": "5aa92c86-ba05-40f0-bd59-61415c0a5297",
   "metadata": {},
   "outputs": [
    {
     "data": {
      "text/plain": [
       "BenchmarkTools.Trial: 10000 samples with 201 evaluations per sample.\n",
       " Range \u001b[90m(\u001b[39m\u001b[36m\u001b[1mmin\u001b[22m\u001b[39m … \u001b[35mmax\u001b[39m\u001b[90m):  \u001b[39m\u001b[36m\u001b[1m405.269 ns\u001b[22m\u001b[39m … \u001b[35m 25.111 μs\u001b[39m  \u001b[90m┊\u001b[39m GC \u001b[90m(\u001b[39mmin … max\u001b[90m): \u001b[39m 0.00% … 97.62%\n",
       " Time  \u001b[90m(\u001b[39m\u001b[34m\u001b[1mmedian\u001b[22m\u001b[39m\u001b[90m):     \u001b[39m\u001b[34m\u001b[1m423.920 ns               \u001b[22m\u001b[39m\u001b[90m┊\u001b[39m GC \u001b[90m(\u001b[39mmedian\u001b[90m):    \u001b[39m 0.00%\n",
       " Time  \u001b[90m(\u001b[39m\u001b[32m\u001b[1mmean\u001b[22m\u001b[39m ± \u001b[32mσ\u001b[39m\u001b[90m):   \u001b[39m\u001b[32m\u001b[1m490.805 ns\u001b[22m\u001b[39m ± \u001b[32m576.104 ns\u001b[39m  \u001b[90m┊\u001b[39m GC \u001b[90m(\u001b[39mmean ± σ\u001b[90m):  \u001b[39m10.66% ± 10.53%\n",
       "\n",
       "  \u001b[34m█\u001b[39m\u001b[39m▅\u001b[32m▄\u001b[39m\u001b[39m▂\u001b[39m \u001b[39m \u001b[39m \u001b[39m \u001b[39m \u001b[39m \u001b[39m \u001b[39m \u001b[39m \u001b[39m \u001b[39m \u001b[39m \u001b[39m \u001b[39m \u001b[39m \u001b[39m \u001b[39m \u001b[39m \u001b[39m \u001b[39m \u001b[39m \u001b[39m \u001b[39m \u001b[39m \u001b[39m \u001b[39m \u001b[39m \u001b[39m \u001b[39m \u001b[39m \u001b[39m \u001b[39m \u001b[39m \u001b[39m \u001b[39m \u001b[39m \u001b[39m \u001b[39m \u001b[39m \u001b[39m \u001b[39m \u001b[39m \u001b[39m \u001b[39m \u001b[39m \u001b[39m \u001b[39m \u001b[39m \u001b[39m \u001b[39m \u001b[39m \u001b[39m \u001b[39m \u001b[39m \u001b[39m \u001b[39m \u001b[39m \u001b[39m \u001b[39m▁\n",
       "  \u001b[34m█\u001b[39m\u001b[39m█\u001b[32m█\u001b[39m\u001b[39m█\u001b[39m▇\u001b[39m▇\u001b[39m▅\u001b[39m▁\u001b[39m▁\u001b[39m▄\u001b[39m▄\u001b[39m▅\u001b[39m▁\u001b[39m▃\u001b[39m▁\u001b[39m▃\u001b[39m▁\u001b[39m▁\u001b[39m▁\u001b[39m▁\u001b[39m▁\u001b[39m▁\u001b[39m▁\u001b[39m▁\u001b[39m▁\u001b[39m▁\u001b[39m▁\u001b[39m▁\u001b[39m▁\u001b[39m▁\u001b[39m▁\u001b[39m▁\u001b[39m▁\u001b[39m▁\u001b[39m▁\u001b[39m▁\u001b[39m▁\u001b[39m▁\u001b[39m▁\u001b[39m▁\u001b[39m▁\u001b[39m▁\u001b[39m▁\u001b[39m▁\u001b[39m▁\u001b[39m▁\u001b[39m▁\u001b[39m▁\u001b[39m▁\u001b[39m▁\u001b[39m▁\u001b[39m▁\u001b[39m▁\u001b[39m▁\u001b[39m▄\u001b[39m▄\u001b[39m▆\u001b[39m▅\u001b[39m▆\u001b[39m▆\u001b[39m▆\u001b[39m \u001b[39m█\n",
       "  405 ns\u001b[90m        \u001b[39m\u001b[90mHistogram: \u001b[39m\u001b[90m\u001b[1mlog(\u001b[22m\u001b[39m\u001b[90mfrequency\u001b[39m\u001b[90m\u001b[1m)\u001b[22m\u001b[39m\u001b[90m by time\u001b[39m       3.15 μs \u001b[0m\u001b[1m<\u001b[22m\n",
       "\n",
       " Memory estimate\u001b[90m: \u001b[39m\u001b[33m1.59 KiB\u001b[39m, allocs estimate\u001b[90m: \u001b[39m\u001b[33m7\u001b[39m."
      ]
     },
     "metadata": {},
     "output_type": "display_data"
    }
   ],
   "source": [
    "result_basal = let\n",
    "    test_run_basal = @benchmarkable fibonacci($(n));\n",
    "    tune!(test_run_basal)\n",
    "    result_basal = run(test_run_basal)\n",
    "end"
   ]
  },
  {
   "cell_type": "markdown",
   "id": "0c6c8653-ce86-4470-b155-756b30db9fbb",
   "metadata": {},
   "source": [
    "## Case 2: Test the recursive implementation of the Fibonacci computation\n",
    "Next, let's benchmark a recursive implementation. The `fibonacci!(n::Int64, series::Dict{Int64, Int64})::Nothing` function is a mutating recursive function that computes sequence $F_{0},\\dots, F_{n}$ for a given $n$. The recursive sequence is stored in the `series::Dict{Int64, Int64}` argument. This takes advantage of [the mutating function behavior](https://docs.julialang.org/en/v1/manual/functions/#man-argument-passing) in Julia, which allows us to update the dictionary in place without returning a new dictionary.\n",
    "\n",
    "Let's verify that the recursive implementation is correct by checking that it computes the Fibonacci sequence correctly for $F_{0},\\dots,F_{n}$, where $n$ is the number of terms in the `correct_fibonacci_sequence` dictionary."
   ]
  },
  {
   "cell_type": "code",
   "execution_count": 20,
   "id": "3707e643",
   "metadata": {},
   "outputs": [],
   "source": [
    "let\n",
    "\n",
    "    # initialize -\n",
    "    number_of_test_terms = 15; # we have n = 15 terms in the correct_fibonacci_sequence dictionary\n",
    "    my_computed_sequence = Dict{Int64, Int64}(); # initialize an empty dictionary\n",
    "    fibonacci!(number_of_test_terms, my_computed_sequence); # notice that we are not rerturning anything, we are mutating the dictionary in place\n",
    "    \n",
    "    # verify correctness - for terms 0 ... number_of_test_terms\n",
    "    for i ∈ 0:number_of_test_terms\n",
    "        @test my_computed_sequence[i] == correct_fibonacci_sequence[i];\n",
    "    end\n",
    "end"
   ]
  },
  {
   "cell_type": "markdown",
   "id": "e8e2f3ba",
   "metadata": {},
   "source": [
    "No testing explosions? Great, then how does the recursive implementation perform relative to the baseline implementation of the Fibonacci computation?"
   ]
  },
  {
   "cell_type": "code",
   "execution_count": 21,
   "id": "fe22bd5d-a7c1-4eed-b5f7-c5bfd869f02a",
   "metadata": {},
   "outputs": [
    {
     "data": {
      "text/plain": [
       "BenchmarkTools.Trial: 3886 samples with 1 evaluation per sample.\n",
       " Range \u001b[90m(\u001b[39m\u001b[36m\u001b[1mmin\u001b[22m\u001b[39m … \u001b[35mmax\u001b[39m\u001b[90m):  \u001b[39m\u001b[36m\u001b[1m1.211 ms\u001b[22m\u001b[39m … \u001b[35m66.857 ms\u001b[39m  \u001b[90m┊\u001b[39m GC \u001b[90m(\u001b[39mmin … max\u001b[90m): \u001b[39m0.00% … 0.00%\n",
       " Time  \u001b[90m(\u001b[39m\u001b[34m\u001b[1mmedian\u001b[22m\u001b[39m\u001b[90m):     \u001b[39m\u001b[34m\u001b[1m1.241 ms              \u001b[22m\u001b[39m\u001b[90m┊\u001b[39m GC \u001b[90m(\u001b[39mmedian\u001b[90m):    \u001b[39m0.00%\n",
       " Time  \u001b[90m(\u001b[39m\u001b[32m\u001b[1mmean\u001b[22m\u001b[39m ± \u001b[32mσ\u001b[39m\u001b[90m):   \u001b[39m\u001b[32m\u001b[1m1.285 ms\u001b[22m\u001b[39m ± \u001b[32m 1.073 ms\u001b[39m  \u001b[90m┊\u001b[39m GC \u001b[90m(\u001b[39mmean ± σ\u001b[90m):  \u001b[39m0.00% ± 0.00%\n",
       "\n",
       "  \u001b[39m▄\u001b[39m█\u001b[39m \u001b[39m \u001b[39m \u001b[39m \u001b[34m \u001b[39m\u001b[39m \u001b[39m \u001b[39m \u001b[39m \u001b[39m \u001b[39m \u001b[39m \u001b[39m \u001b[32m \u001b[39m\u001b[39m \u001b[39m \u001b[39m \u001b[39m \u001b[39m \u001b[39m \u001b[39m \u001b[39m \u001b[39m \u001b[39m \u001b[39m \u001b[39m \u001b[39m \u001b[39m \u001b[39m \u001b[39m \u001b[39m \u001b[39m \u001b[39m \u001b[39m \u001b[39m \u001b[39m \u001b[39m \u001b[39m \u001b[39m \u001b[39m \u001b[39m \u001b[39m \u001b[39m \u001b[39m \u001b[39m \u001b[39m \u001b[39m \u001b[39m \u001b[39m \u001b[39m \u001b[39m \u001b[39m \u001b[39m \u001b[39m \u001b[39m \u001b[39m \u001b[39m \u001b[39m \n",
       "  \u001b[39m█\u001b[39m█\u001b[39m█\u001b[39m█\u001b[39m▇\u001b[39m▆\u001b[34m▅\u001b[39m\u001b[39m▅\u001b[39m▆\u001b[39m▅\u001b[39m▅\u001b[39m▄\u001b[39m▄\u001b[39m▄\u001b[39m▅\u001b[32m▅\u001b[39m\u001b[39m▅\u001b[39m▄\u001b[39m▄\u001b[39m▃\u001b[39m▃\u001b[39m▃\u001b[39m▃\u001b[39m▃\u001b[39m▃\u001b[39m▂\u001b[39m▂\u001b[39m▂\u001b[39m▂\u001b[39m▂\u001b[39m▂\u001b[39m▂\u001b[39m▂\u001b[39m▂\u001b[39m▂\u001b[39m▂\u001b[39m▂\u001b[39m▂\u001b[39m▂\u001b[39m▂\u001b[39m▂\u001b[39m▂\u001b[39m▁\u001b[39m▂\u001b[39m▁\u001b[39m▂\u001b[39m▁\u001b[39m▂\u001b[39m▂\u001b[39m▁\u001b[39m▁\u001b[39m▁\u001b[39m▂\u001b[39m▂\u001b[39m▁\u001b[39m▂\u001b[39m▂\u001b[39m▂\u001b[39m \u001b[39m▃\n",
       "  1.21 ms\u001b[90m        Histogram: frequency by time\u001b[39m         1.5 ms \u001b[0m\u001b[1m<\u001b[22m\n",
       "\n",
       " Memory estimate\u001b[90m: \u001b[39m\u001b[33m0 bytes\u001b[39m, allocs estimate\u001b[90m: \u001b[39m\u001b[33m0\u001b[39m."
      ]
     },
     "metadata": {},
     "output_type": "display_data"
    }
   ],
   "source": [
    "result_recursive = let\n",
    "    result_dictionary = Dict{Int,Int}() # empty dictionary to store the Fibonacci sequence\n",
    "    test_run_recursive = @benchmarkable fibonacci!($(n), $(result_dictionary))\n",
    "    tune!(test_run_recursive)\n",
    "    result_recursive = run(test_run_recursive)\n",
    "end"
   ]
  },
  {
   "cell_type": "markdown",
   "id": "884c6313",
   "metadata": {},
   "source": [
    "__Hmmmm.__ Wow! The recursive implementation is __significantly slower__ than the baseline implementation. This is likely due to the overhead of recursive function calls and the way the algorithm processes the computation, even though it stores intermediate results. Lesson: recursion is not always faster than iteration!"
   ]
  },
  {
   "cell_type": "markdown",
   "id": "9000cf95-7611-4763-a54f-03dfaafcb52b",
   "metadata": {},
   "source": [
    "## Case 3: Test the recursive implementation of the Fibonacci computation with memoization\n",
    "Finally, let's benchmark a recursive Fibonacci function that uses memoization. The `memoization_fibonacci!(n::Int64, series::Dict{Int64, Int64})::Nothing` implementation is a mutating recursive function that uses memoization to speed up the computation of the sequence $F_{0},\\dots, F_{n}$ for a given $n$. The recursive sequence is stored in the `series::Dict{Int64, Int64}` argument.\n",
    "\n",
    "First, does this implementation do we what we expect? Let's verify that it computes the Fibonacci sequence correctly for $F_{0},\\dots,F_{n}$, where $n$ is the number of terms in the `correct_fibonacci_sequence` dictionary."
   ]
  },
  {
   "cell_type": "code",
   "execution_count": 23,
   "id": "21433270",
   "metadata": {},
   "outputs": [],
   "source": [
    "let\n",
    "\n",
    "    # initialize -\n",
    "    number_of_test_terms = 15; # we have n = 15 terms in the correct_fibonacci_sequence dictionary\n",
    "    my_computed_sequence = Dict{Int64, Int64}(); # initialize an empty dictionary\n",
    "     memoization_fibonacci!(number_of_test_terms, my_computed_sequence); # notice that we are not rerturning anything, we are mutating the dictionary in place\n",
    "    \n",
    "    # verify correctness - for terms 0 ... number_of_test_terms\n",
    "    for i ∈ 0:number_of_test_terms\n",
    "        @test my_computed_sequence[i] == correct_fibonacci_sequence[i];\n",
    "    end\n",
    "end"
   ]
  },
  {
   "cell_type": "markdown",
   "id": "468a0cac",
   "metadata": {},
   "source": [
    "Does the inclusion of the memoization change the runtime (or memory allocation) profile of the recursive Fibonacci implementation?"
   ]
  },
  {
   "cell_type": "code",
   "execution_count": 24,
   "id": "95d71815-e936-4d3e-a6b7-970c1ce7cbbf",
   "metadata": {},
   "outputs": [
    {
     "data": {
      "text/plain": [
       "BenchmarkTools.Trial: 10000 samples with 1000 evaluations per sample.\n",
       " Range \u001b[90m(\u001b[39m\u001b[36m\u001b[1mmin\u001b[22m\u001b[39m … \u001b[35mmax\u001b[39m\u001b[90m):  \u001b[39m\u001b[36m\u001b[1m7.375 ns\u001b[22m\u001b[39m … \u001b[35m47.625 ns\u001b[39m  \u001b[90m┊\u001b[39m GC \u001b[90m(\u001b[39mmin … max\u001b[90m): \u001b[39m0.00% … 0.00%\n",
       " Time  \u001b[90m(\u001b[39m\u001b[34m\u001b[1mmedian\u001b[22m\u001b[39m\u001b[90m):     \u001b[39m\u001b[34m\u001b[1m7.458 ns              \u001b[22m\u001b[39m\u001b[90m┊\u001b[39m GC \u001b[90m(\u001b[39mmedian\u001b[90m):    \u001b[39m0.00%\n",
       " Time  \u001b[90m(\u001b[39m\u001b[32m\u001b[1mmean\u001b[22m\u001b[39m ± \u001b[32mσ\u001b[39m\u001b[90m):   \u001b[39m\u001b[32m\u001b[1m7.518 ns\u001b[22m\u001b[39m ± \u001b[32m 0.828 ns\u001b[39m  \u001b[90m┊\u001b[39m GC \u001b[90m(\u001b[39mmean ± σ\u001b[90m):  \u001b[39m0.00% ± 0.00%\n",
       "\n",
       "  \u001b[39m \u001b[39m \u001b[39m \u001b[39m \u001b[39m \u001b[39m \u001b[39m \u001b[39m \u001b[39m \u001b[39m \u001b[39m \u001b[39m \u001b[39m \u001b[39m \u001b[39m \u001b[39m \u001b[39m \u001b[39m \u001b[39m \u001b[34m█\u001b[39m\u001b[39m \u001b[39m \u001b[39m \u001b[39m \u001b[39m \u001b[39m \u001b[39m \u001b[39m \u001b[39m \u001b[39m \u001b[39m \u001b[39m \u001b[39m \u001b[32m \u001b[39m\u001b[39m \u001b[39m \u001b[39m \u001b[39m \u001b[39m \u001b[39m \u001b[39m \u001b[39m \u001b[39m \u001b[39m \u001b[39m \u001b[39m \u001b[39m \u001b[39m \u001b[39m \u001b[39m \u001b[39m \u001b[39m \u001b[39m \u001b[39m \u001b[39m \u001b[39m \u001b[39m \u001b[39m \u001b[39m \u001b[39m \n",
       "  \u001b[39m▂\u001b[39m▁\u001b[39m▁\u001b[39m▁\u001b[39m▁\u001b[39m▁\u001b[39m▁\u001b[39m▁\u001b[39m▁\u001b[39m▆\u001b[39m▁\u001b[39m▁\u001b[39m▁\u001b[39m▁\u001b[39m▁\u001b[39m▁\u001b[39m▁\u001b[39m▁\u001b[39m▁\u001b[34m█\u001b[39m\u001b[39m▁\u001b[39m▁\u001b[39m▁\u001b[39m▁\u001b[39m▁\u001b[39m▁\u001b[39m▁\u001b[39m▁\u001b[39m▃\u001b[39m▁\u001b[39m▁\u001b[39m▁\u001b[39m▁\u001b[32m▁\u001b[39m\u001b[39m▁\u001b[39m▁\u001b[39m▁\u001b[39m▁\u001b[39m▃\u001b[39m▁\u001b[39m▁\u001b[39m▁\u001b[39m▁\u001b[39m▁\u001b[39m▁\u001b[39m▁\u001b[39m▁\u001b[39m▁\u001b[39m▃\u001b[39m▁\u001b[39m▁\u001b[39m▁\u001b[39m▁\u001b[39m▁\u001b[39m▁\u001b[39m▁\u001b[39m▁\u001b[39m▂\u001b[39m \u001b[39m▂\n",
       "  7.38 ns\u001b[90m        Histogram: frequency by time\u001b[39m        7.62 ns \u001b[0m\u001b[1m<\u001b[22m\n",
       "\n",
       " Memory estimate\u001b[90m: \u001b[39m\u001b[33m0 bytes\u001b[39m, allocs estimate\u001b[90m: \u001b[39m\u001b[33m0\u001b[39m."
      ]
     },
     "metadata": {},
     "output_type": "display_data"
    }
   ],
   "source": [
    "result_recursive_memo = let\n",
    "    result_dictionary_memo = Dict{Int,Int}()\n",
    "    test_run_recursive_memo = @benchmarkable memoization_fibonacci!($(n), $(result_dictionary_memo))\n",
    "    tune!(test_run_recursive_memo)\n",
    "    result_recursive_memo = run(test_run_recursive_memo)\n",
    "end"
   ]
  },
  {
   "cell_type": "markdown",
   "id": "f5ad453d",
   "metadata": {},
   "source": [
    "## Summary\n",
    "So what did we learn from benchmarking these three different approaches to computing the Fibonacci sequence? First, recursion isn't always faster than iteration - in fact, our vanilla recursive implementation was significantly slower than the simple for-loop approach, likely due to function call overhead and the recursive nature of the algorithm.\n",
    "\n",
    "However, memoization can dramatically improve recursive performance by storing previously computed results and avoiding redundant calculations. The memoized recursive implementation should perform much better than the standard recursive version, though the iterative method still tends to be the most efficient for this particular problem.\n",
    "\n",
    "The key takeaway? Choose your algorithm wisely based on the problem structure, and remember that elegant recursive solutions sometimes need optimization techniques like memoization to be practically useful!"
   ]
  },
  {
   "cell_type": "markdown",
   "id": "a59f1c3c",
   "metadata": {},
   "source": []
  }
 ],
 "metadata": {
  "kernelspec": {
   "display_name": "Julia 1.11.6",
   "language": "julia",
   "name": "julia-1.11"
  },
  "language_info": {
   "file_extension": ".jl",
   "mimetype": "application/julia",
   "name": "julia",
   "version": "1.11.6"
  }
 },
 "nbformat": 4,
 "nbformat_minor": 5
}
