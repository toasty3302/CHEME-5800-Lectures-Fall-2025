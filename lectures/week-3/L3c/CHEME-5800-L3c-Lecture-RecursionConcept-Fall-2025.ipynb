{
 "cells": [
  {
   "cell_type": "markdown",
   "id": "c12f465f",
   "metadata": {},
   "source": [
    "# Recursion: Conceptual Overview\n",
    "Recursion is a programming technique in which a function calls itself with a modified version of its input. Why use recursion? The key idea of recursion is to break a problem down into smaller, more manageable subproblems. Each recursive call works on a smaller piece of the original problem until it reaches the base case.\n",
    "\n",
    "The _body_ of a recursive function has two parts:\n",
    "* __Base case:__ This is the condition that stops the recursion. When the function reaches the base case, it returns a result without calling itself again. This is necessary to prevent the function from entering an infinite loop.\n",
    "* __Recursive case:__ This is part of the function that calls itself with a modified version of its input. The recursive case is responsible for breaking the problem into smaller subproblems and solving them using the function.\n",
    "\n",
    "> Let's look at simple skeleton of a recursive function:\n",
    "> \n",
    "> ```julia\n",
    "> function recursive_function(input)\n",
    ">    if base_case_condition(input) == true\n",
    ">        return base_case_result\n",
    ">    else\n",
    ">        # Recursive case: call the function with a modified input\n",
    ">        return recursive_function(modified_input)\n",
    ">    end\n",
    "> end\n",
    "> ```\n",
    "\n",
    "Let's look at an example to dig into how recursion works in practice.\n",
    "___"
   ]
  },
  {
   "cell_type": "markdown",
   "id": "38b8ebdd",
   "metadata": {},
   "source": [
    "<div>\n",
    "    <center>\n",
    "      <img\n",
    "        src=\"figs/Fig-Recursion-pow-NeedToRedrawThis.png\"\n",
    "        alt=\"General Tree Example\"\n",
    "        height=\"400\"\n",
    "        width=\"800\"\n",
    "      />\n",
    "    </center>\n",
    "  </div>"
   ]
  },
  {
   "cell_type": "markdown",
   "id": "dd9b376f",
   "metadata": {},
   "source": [
    "## Example: Power Function\n",
    "The power function schematic shown above is a classic example of recursion. Suppose we wanted to calculate $x^{n}$, where $n>0$. We can break this into a series of recursive calls. Mathematically, we can express this as:\n",
    "$$\n",
    "\\begin{align*}\n",
    "x^{n} &= x \\cdot \\underbrace{x^{n-1}}_{\\text{recursion case}}\\quad\\text{if } n > 0 \\\\\n",
    "x^{n} & =x\\cdot\\left(x\\cdot\\underbrace{x^{n-2}}_{\\text{recursion case}}\\right)\\quad\\text{if } n > 1 \\\\\n",
    "x^{n} & = x\\cdot\\left(x\\cdot\\left(x\\cdot\\underbrace{x^{n-3}}_{\\text{recursion case}}\\right)\\right)\\quad\\text{if } n>2 \\\\\n",
    "x^{n} & = x\\cdot\\left(x\\cdot\\left(x\\cdot\\left(x\\cdot\\underbrace{x^{n-4}}_{\\text{recursion case}}\\right)\\right)\\right)\\quad\\text{if } n>3 \\\\\n",
    "\\dots & \\\\\n",
    "\\end{align*}\n",
    "$$\n",
    "\n",
    "### Base and Recursive case\n",
    "Let's think about this for a moment. What are the two cases we need to consider?\n",
    "* __Base case__: We need to have a base case that stops the recursion. In this case, we can say that if $n=0$, then we return $x^{0}=1$. This is our base case.\n",
    "* __Recursive case__: If $n>0$, then we can say that $x^{n}=x\\cdot x^{n-1}$. Thus, we can keep breaking the problem down on the $x^{n-1}$ term until we reach the base case.\n",
    "\n",
    "Let's put this together in some pseudo-code:\n",
    "\n",
    "__Initialization__: Given a number $x\\in\\mathbb{R}$ and an integer $n\\in\\mathbb{Z_{+}}$, we want to compute $x^{n}$.\n",
    "\n",
    "1. If $n=0$, then return 1 (base case).\n",
    "2. If $n>0$, then return $x\\cdot\\text{power}(x,n-1)$ (recursive case).\n",
    "\n",
    "Wow! I told you that seems a little magical, doesn't it? But that is the essence of recursion. Let's implement this and see how it works in practice."
   ]
  },
  {
   "cell_type": "code",
   "execution_count": null,
   "id": "ba9c84f1",
   "metadata": {},
   "outputs": [],
   "source": [
    "function mypower(x, n, level = 0)\n",
    "\n",
    "    ## Error checking would normally go here!\n",
    "    ## ....\n",
    "\n",
    "    if n == 0\n",
    "        println(\"Base case reached: $x^$n = 1 at level $level\")\n",
    "        return 1.0 # base case: any number to the power of 0 is 1\n",
    "    else\n",
    "\n",
    "        println(\"Recursive case: $x^$n = $x * $x^$(n - 1) at level $level\")\n",
    "        return x * mypower(x, n - 1, level + 1) # recursive case\n",
    "    end\n",
    "end;"
   ]
  },
  {
   "cell_type": "markdown",
   "id": "d107e11c",
   "metadata": {},
   "source": [
    "__Test__: Let's test our `mypower(...)` function with a few examples. \n",
    "\n",
    "> `Uncomment` the `println(...)` statements in the `mypower(...)` implementation to see some extra output that will help us understand what is going on. Since this is just a test function (that we will not release to users), we dispense with our error checking. \n",
    "\n",
    "Let's call the function to compute $2^{8}$, which should return $256$."
   ]
  },
  {
   "cell_type": "code",
   "execution_count": null,
   "id": "41120280",
   "metadata": {},
   "outputs": [
    {
     "name": "stdout",
     "output_type": "stream",
     "text": [
      "Recursive case: 2.0^8 = 2.0 * 2.0^7 at level 0\n",
      "Recursive case: 2.0^7 = 2.0 * 2.0^6 at level 1\n",
      "Recursive case: 2.0^6 = 2.0 * 2.0^5 at level 2\n",
      "Recursive case: 2.0^5 = 2.0 * 2.0^4 at level 3\n",
      "Recursive case: 2.0^4 = 2.0 * 2.0^3 at level 4\n",
      "Recursive case: 2.0^3 = 2.0 * 2.0^2 at level 5\n",
      "Recursive case: 2.0^2 = 2.0 * 2.0^1 at level 6\n",
      "Recursive case: 2.0^1 = 2.0 * 2.0^0 at level 7\n",
      "Base case reached: 2.0^0 = 1 at level 8\n"
     ]
    },
    {
     "data": {
      "text/plain": [
       "256.0"
      ]
     },
     "metadata": {},
     "output_type": "display_data"
    }
   ],
   "source": [
    "value = let \n",
    "\n",
    "    # initialize -\n",
    "    x = 2.0; # base number\n",
    "    n = 8; # exponent\n",
    "\n",
    "    # call the function\n",
    "    value = mypower(x, n, 0) # should return x^n\n",
    "end"
   ]
  },
  {
   "cell_type": "markdown",
   "id": "73e8a699",
   "metadata": {},
   "source": [
    "## Summary \n",
    "\n",
    "That is amazing, but super hard to understand! One of the most confusing aspects of recursion is how the results are combined to give the final result. This is a perfect use case of a nonlinear data structure called a __tree__. \n",
    "\n",
    "> __Call tree__: Each recursive call is a node in a tree. The tree structure enables us to visualize how recursive calls are made and how the return values are combined to yield the final result. Great! Oh, wait! We haven't introduced trees yet! We will cover trees in a bit, but for now, you'll have to take my word for it. Hang in there, we'll get to it soon.\n",
    "\n",
    "Recursion is a powerful technique, but it can be difficult to understand at first. The key is to break the problem down into smaller subproblems and to clearly define the base case and recursive case. Once you understand how recursion works, you'll find it to be a valuable tool in your problem solving toolkit.\n",
    "___"
   ]
  }
 ],
 "metadata": {
  "kernelspec": {
   "display_name": "Julia 1.11.6",
   "language": "julia",
   "name": "julia-1.11"
  },
  "language_info": {
   "file_extension": ".jl",
   "mimetype": "application/julia",
   "name": "julia",
   "version": "1.11.6"
  }
 },
 "nbformat": 4,
 "nbformat_minor": 5
}
