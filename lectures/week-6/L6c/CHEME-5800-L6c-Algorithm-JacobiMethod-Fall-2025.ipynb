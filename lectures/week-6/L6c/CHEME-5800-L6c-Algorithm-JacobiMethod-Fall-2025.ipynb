{
 "cells": [
  {
   "cell_type": "markdown",
   "id": "ae84d225-cef6-49ea-9bd0-39cb4bbb8f8d",
   "metadata": {},
   "source": [
    "# The Jacobi Method\n",
    "The Jacobi method is one of the simplest iterative methods for solving linear systems. For the Jacobi method, let's split the system matrix $\\mathbf{A}$ into its diagonal part $\\mathbf{D}$ and the remaining parts $\\mathbf{L}$ and $\\mathbf{U}$, where:\n",
    "$$\n",
    "\\mathbf{A} = \\underbrace{\\mathbf{D}}_{\\mathbf{M}} + \\underbrace{\\mathbf{L} + \\mathbf{U}}_{-\\mathbf{N}}\n",
    "$$\n",
    "The matrix $\\mathbf{D}$ is the diagonal part, $\\mathbf{L}$ is the strictly lower triangular part, and $\\mathbf{U}$ is the strictly upper triangular part of the matrix $\\mathbf{A}$. Given the general development above, we can write the update direction for the Jacobi method as:\n",
    "$$\n",
    "\\boxed{\n",
    "\\mathbf{d}^{(k)} = \\mathbf{D}^{-1}\\;\\underbrace{(\\mathbf{b} - \\mathbf{A}\\mathbf{x}^{(k)})}_{\\text{residual}\\;\\mathbf{r}^{(k)}}\n",
    "}\n",
    "$$\n",
    "\n",
    "Let's sketch out the Jacobi method.\n",
    "\n",
    "__Initialize__: Given the system matrix $\\mathbf{A}\\in\\mathbb{R}^{n \\times n}$ and the right-hand side vector $\\mathbf{b}\\in\\mathbb{R}^{n}$, we start with an initial guess for the solution vector $\\mathbf{x}^{(0)}\\in\\mathbb{R}^{n}$. This guess can be a zero vector or any other reasonable approximation. Set $\\texttt{converged} \\gets \\texttt{false}$ and the iteration counter $k\\gets0$. Specify a convergence criterion, such as a tolerance level $\\epsilon > 0$, and a maximum number of iterations $\\texttt{max\\_iter}$.\n",
    "\n",
    "While not $\\texttt{converged}$ __do__:\n",
    "1. Calculate the residual vector $\\mathbf{r}^{(k)} \\gets \\mathbf{b} - \\mathbf{A}\\mathbf{x}^{(k)}$.\n",
    "2. Check for convergence:\n",
    "   - If $\\|\\mathbf{r}^{(k)}\\|_{2} < \\epsilon$, __then__: set $\\texttt{converged} \\gets \\texttt{true}$. \n",
    "   - If $k \\geq \\texttt{max\\_iter}$, __then__: set $\\texttt{converged} \\gets \\texttt{true}$, and print a __warning__ that the method did not converge.\n",
    "3. Calculate the update direction: $\\mathbf{d}^{(k)} \\gets \\mathbf{D}^{-1}\\;\\mathbf{r}^{(k)}$\n",
    "4. Update the solution vector: $\\mathbf{x}^{(k+1)} \\gets \\mathbf{x}^{(k)} + \\mathbf{d}^{(k)}$\n",
    "5. Increment the iteration counter: $k \\gets k + 1$.\n",
    "\n",
    "The iteration matrix for the Jacobi method is given by: $\\mathbf{G} = -\\mathbf{D}^{-1}(\\mathbf{L} + \\mathbf{U})$. Thus, the Jacobi method converges from any initial guess iff $\\rho(\\mathbf{G}) < 1$, where $\\rho(\\mathbf{G})$ is the spectral radius of the iteration matrix $\\mathbf{G}$.\n",
    "___"
   ]
  },
  {
   "cell_type": "code",
   "execution_count": null,
   "id": "b950b648-20a8-4a96-83f6-5675bbbc21cc",
   "metadata": {},
   "outputs": [],
   "source": []
  }
 ],
 "metadata": {
  "kernelspec": {
   "display_name": "Python 3 (ipykernel)",
   "language": "python",
   "name": "python3"
  },
  "language_info": {
   "codemirror_mode": {
    "name": "ipython",
    "version": 3
   },
   "file_extension": ".py",
   "mimetype": "text/x-python",
   "name": "python",
   "nbconvert_exporter": "python",
   "pygments_lexer": "ipython3",
   "version": "3.11.8"
  }
 },
 "nbformat": 4,
 "nbformat_minor": 5
}
