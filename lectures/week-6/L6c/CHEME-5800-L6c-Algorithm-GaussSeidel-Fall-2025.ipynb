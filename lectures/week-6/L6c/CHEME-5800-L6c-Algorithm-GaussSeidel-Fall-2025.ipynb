{
 "cells": [
  {
   "cell_type": "markdown",
   "id": "4f0c48e0-6767-45ab-a11f-2fdff679e43e",
   "metadata": {},
   "source": [
    "# The Gauss-Seidel Method\n",
    "The Gauss-Seidel method is an improvement over the Jacobi method, where each variable is updated sequentially using the most recent values available. This often leads to faster convergence compared to the Jacobi method. \n",
    "\n",
    "For the Gauss-Seidel method, let's split the system matrix $\\mathbf{A}$ into its diagonal part $\\mathbf{D}$ and the remaining parts $\\mathbf{L}$ and $\\mathbf{U}$, where:\n",
    "$$\n",
    "\\mathbf{A} = \\underbrace{\\mathbf{D} + \\mathbf{L}}_{\\mathbf{M}} + \\underbrace{\\mathbf{U}}_{-\\mathbf{N}}\n",
    "$$\n",
    "The matrix $\\mathbf{D}$ is the diagonal part, $\\mathbf{L}$ is the strictly lower triangular part, and $\\mathbf{U}$ is the strictly upper triangular part of the matrix $\\mathbf{A}$. Then, we can write the update direction for the Gauss-Seidel method as:\n",
    "$$\n",
    "\\boxed{\n",
    "\\mathbf{d}^{(k)} = (\\mathbf{D} + \\mathbf{L})^{-1}\\;\\underbrace{(\\mathbf{b} - \\mathbf{A}\\mathbf{x}^{(k)})}_{\\text{residual}\\;\\mathbf{r}^{(k)}}\n",
    "}\n",
    "$$\n",
    "Let's sketch out the Gauss-Seidel method.\n",
    "\n",
    "__Initialize__: Given the system matrix $\\mathbf{A}\\in\\mathbb{R}^{n \\times n}$ and the right-hand side vector $\\mathbf{b}\\in\\mathbb{R}^{n}$, we start with an initial guess for the solution vector $\\mathbf{x}^{(0)}\\in\\mathbb{R}^{n}$. This guess can be a zero vector or any other reasonable approximation. Set $\\texttt{converged} \\gets \\texttt{false}$ and the iteration counter $k\\gets0$. Specify a convergence criterion, such as a tolerance level $\\epsilon > 0$, and a maximum number of iterations $\\texttt{max\\_iter}$.\n",
    "\n",
    "While not $\\texttt{converged}$ __do__:\n",
    "1. Calculate the residual vector $\\mathbf{r}^{(k)} \\gets \\mathbf{b} - \\mathbf{A}\\mathbf{x}^{(k)}$.\n",
    "2. Check for convergence:\n",
    "   - If $\\|\\mathbf{r}^{(k)}\\|_{2} < \\epsilon$, __then__: set $\\texttt{converged} \\gets \\texttt{true}$. \n",
    "   - If $k \\geq \\texttt{max\\_iter}$, __then__: set $\\texttt{converged} \\gets \\texttt{true}$, and print a __warning__ that the method did not converge.\n",
    "3. Calculate the update direction: $\\mathbf{d}^{(k)} \\gets \\left(\\mathbf{D}+\\mathbf{L}\\right)^{-1}\\;\\mathbf{r}^{(k)}$\n",
    "4. Update the solution vector: $\\mathbf{x}^{(k+1)} \\gets \\mathbf{x}^{(k)} + \\mathbf{d}^{(k)}$\n",
    "5. Increment the iteration counter: $k \\gets k + 1$.\n",
    "\n",
    "The iteration matrix for the Gauss-Seidel method is given by: $\\mathbf{G} = (\\mathbf{D} + \\mathbf{L})^{-1}\\mathbf{U}$. Thus, the Gauss-Seidel method converges from any initial guess iff $\\rho(\\mathbf{G}) < 1$, where $\\rho(\\mathbf{G})$ is the spectral radius of the iteration matrix $\\mathbf{G}$.\n",
    "___"
   ]
  },
  {
   "cell_type": "code",
   "execution_count": null,
   "id": "f81c2b1b-16e1-4897-a4e4-ca65ebb3b2a7",
   "metadata": {},
   "outputs": [],
   "source": []
  }
 ],
 "metadata": {
  "kernelspec": {
   "display_name": "Python 3 (ipykernel)",
   "language": "python",
   "name": "python3"
  },
  "language_info": {
   "codemirror_mode": {
    "name": "ipython",
    "version": 3
   },
   "file_extension": ".py",
   "mimetype": "text/x-python",
   "name": "python",
   "nbconvert_exporter": "python",
   "pygments_lexer": "ipython3",
   "version": "3.11.8"
  }
 },
 "nbformat": 4,
 "nbformat_minor": 5
}
