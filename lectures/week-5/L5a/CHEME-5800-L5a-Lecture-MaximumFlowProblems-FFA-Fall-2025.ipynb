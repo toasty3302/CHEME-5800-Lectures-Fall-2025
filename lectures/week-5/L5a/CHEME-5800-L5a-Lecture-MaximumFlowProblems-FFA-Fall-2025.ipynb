{
 "cells": [
  {
   "cell_type": "markdown",
   "id": "de42a9f0-4fc8-4f96-8274-83176e2db321",
   "metadata": {},
   "source": [
    "# Maximum Flow Problems\n",
    "Maximum flow problems involve calculating the maximum amount of flow that can be sent from a source node to a sink node in a graph. Like shortest-path problems, these problems can be modeled as graphs, where nodes represent objects and edges represent paths with capacities. \n",
    "* _What is flow?_ Flow is an _abstract quantity_ that can be sent through a network, such as data in a computer network, water in a pipeline, raw materials through a manufacturing process, or goods in a transportation network. Flow can also be thought of as the assignment of a resource, such as a person to a task, a vehicle to a route, or a job to a machine. Wow!\n",
    "* _Why study flow problems?_ Understanding maximum flow problems enables us to optimize resource allocation, transportation, and logistics systems.  Network flow problems have applications in various fields, including transportation, telecommunications, and logistics. They are also essential tools in the development of many biological and chemical processes, such as the flow of nutrients in biological systems or the flow of materials in chemical reactions.\n",
    "\n",
    "We will examine the Ford-Fulkerson method, a classic approach for solving maximum flow problems.\n",
    "___"
   ]
  },
  {
   "cell_type": "markdown",
   "id": "52b5ab6a",
   "metadata": {},
   "source": [
    "## Ford-Fulkerson Method\n",
    "The Ford-Fulkerson _method_ is a greedy approach for computing the maximum flow through a network. It uses the concept of augmenting paths to iteratively increase the flow until no further augmenting paths can be identified.\n",
    "* _Why method instead of algorithm?_ The Ford-Fulkerson method is a general approach to solving maximum flow problems, and it can be implemented using different algorithms to find augmenting paths. The choice of algorithm for finding these paths can affect the efficiency and correctness of the method.\n",
    "* _What is an augmenting path?_ An augmenting path is a path from the source node $s\\in\\mathcal{V}$ to the sink node $t\\in\\mathcal{V}$ in a flow network where additional flow can be sent. The flow along this path can be increased, thus augmenting the total flow in the network.\n",
    "\n",
    "First, we describe the Ford–Fulkerson method in general; then we specialize to the Edmonds–Karp variant, which uses breadth-first search (BFS) to find augmenting paths.\n",
    "\n",
    "__Initialization__: Graph $\\mathcal{G}=(\\mathcal{V},\\mathcal{E})$, source node $s\\in\\mathcal{V}$, sink node $t\\in\\mathcal{V}$, and edge capacities $\\texttt{capacity}(u,v)\\geq{0}$. Initialize a flow map $\\texttt{flow}:\\mathcal{E}\\to\\mathbb{R}$, where $\\texttt{flow}(u,v)$ represents the flow from node $u$ to node $v$. The flow is initialized to zero for all edges: $\\texttt{flow}(u,v)\\gets{0}$ for all $(u,v)\\in\\mathcal{E}$.\n",
    "\n",
    "While there exists a path $P$ from $s$ to $t$ in residual graph $\\mathcal{G}_f$ ((see “What is a Residual Graph?” below) __do__:\n",
    "* Find $\\Delta\\gets\\min\\left\\{ \\texttt{capacity}(u,v)\\, -\\,\\texttt{flow}(u,v) : (u,v) \\in P \\right\\}$.\n",
    "* For each edge $(u,v)\\in P$ __do__:\n",
    "    * Update the forward flow: $\\texttt{flow}(u,v)\\gets\\texttt{flow}(u,v)+\\Delta$\n",
    "    * Update the reverse flow: $\\texttt{flow}(v,u)\\gets\\texttt{flow}(v,u)-\\Delta$\n",
    "\n",
    "Okay, so even though this is only a few lines, a lot is going on here! Let's break down the biggest question: what is the residual graph $\\mathcal{G}_f$?\n",
    "\n",
    "### What is a Residual Graph?\n",
    "The _residual graph_ $\\mathcal G_f$ for a $\\texttt{flow}(u,v)$ on the _original_ network $\\mathcal G=(\\mathcal{V},\\mathcal{E})$ is defined as:\n",
    "* **Vertex set**: The _residual graph_ $\\mathcal G_f$ has the same vertex set as the original graph, i.e., the original set $\\mathcal{V}$.\n",
    "* **Residual edge set**: The residual edge set is defined as $\\mathcal{E}_f \\;=\\;\\bigl\\{(u,v)\\in \\mathcal{E} : \\texttt{residual}(u,v)>0\\bigr\\}$, where the _residual capacity_ $\\texttt{residual}(u,v)$ is defined as:\n",
    "$$\n",
    "\\texttt{residual}(u,v) \\;=\\;\n",
    "\\begin{cases}\n",
    "    \\texttt{capacity}(u,v) - \\texttt{flow}(u,v), & \\text{if }(u,v)\\in \\mathcal{E}\\quad(\\text{forward edge}),\\\\\n",
    "    \\texttt{flow}(v,u),          & \\text{if }(v,u)\\in \\mathcal{E}\\quad(\\text{backward edge}),\\\\\n",
    "    0,               & \\text{otherwise.}\n",
    "\\end{cases}\n",
    "$$\n",
    "\n",
    "Any pair $(u,v)$ with $\\texttt{residual}(u,v)>0$ appears in $\\mathcal G_f$.\n",
    "\n",
    "In $\\mathcal G_f$, an **augmenting path** is any path from $s\\to t$ using only edges in the edge set $\\mathcal{E}_f$. Since the flow along this path can be increased, it augments the total flow in the network. But how do we find these augmenting paths? \n",
    "\n",
    "### How do we find augmenting paths?\n",
    "Let's assume we constructed the residual graph $\\mathcal{G}_f$ as described above. Then, we can find augmenting paths using a search algorithm, such as breadth-first search (BFS) or depth-first search (DFS)!\n",
    "* __Edmonds-Karp algorithm__: The Edmonds-Karp algorithm is a specific implementation of the Ford-Fulkerson method that uses breadth-first search (BFS) to find augmenting paths. It guarantees that the maximum flow is found in $\\mathcal{O}(|\\mathcal{V}|\\cdot|\\mathcal{E}|^2)$ time, which is polynomial in the size of the graph.\n",
    "* __What about depth first search__? Using depth-first search (DFS) to find augmenting paths is also possible; this is essentially the generic Ford-Fulkerson algorithm. However, it does not guarantee polynomial-time complexity and can lead to taking a very large (perhaps exponentially large) number of steps. Thus, we will not cover it here.\n",
    "\n",
    "___"
   ]
  }
 ],
 "metadata": {
  "kernelspec": {
   "display_name": "Julia 1.11.6",
   "language": "julia",
   "name": "julia-1.11"
  },
  "language_info": {
   "file_extension": ".jl",
   "mimetype": "application/julia",
   "name": "julia",
   "version": "1.11.6"
  }
 },
 "nbformat": 4,
 "nbformat_minor": 5
}
