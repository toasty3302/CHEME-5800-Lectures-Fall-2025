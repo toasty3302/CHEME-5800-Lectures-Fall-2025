{
 "cells": [
  {
   "cell_type": "markdown",
   "id": "f813ad1d-c727-4742-9dca-e5caecfb016d",
   "metadata": {},
   "source": [
    "# Graphs\n",
    "Graphs are mathematical structures used to model pairwise relationships between objects. They consist of vertices (or nodes) and edges (connections between the vertices). \n",
    "\n",
    "> __Graphs__ can be used to represent various real-world systems or processes, such as social networks, citation networks, transportation networks, manufacturating or descison processes and biological systems. \n",
    "\n",
    "Later, we'll look at some special graph types, including trees, complete graphs, and bipartite graphs. However, for now let's stay general and consider __simple graphs__."
   ]
  },
  {
   "cell_type": "markdown",
   "id": "6b3b1b80",
   "metadata": {},
   "source": [
    "## Simple Graphs\n",
    "A simple graph $\\mathcal{G}$ consists of a set of vertices $\\mathcal{V}$ and edges $\\mathcal{E}$. Each pair of vertices has at most one edge between them, and there are no self-loops. The edges can be weighted or unweighted and can be either __directed__ or __undirected__.\n",
    "* In a __directed__ graph, edges have a specific direction, symbolizing relationships or dependencies. For example, in a social network, the vertices represent people, and the directed edges represent friendships.\n",
    "* In an __undirected__ graph, edges have no direction. These edges represent symmetrical connections or relationships between vertices.\n",
    "\n",
    "A graph $\\mathcal{G}$ is __connected__ if there is at least one path between vertices $v_{i}\\in\\mathcal{V}$ and $v_{j}\\in\\mathcal{V}$, where a path is defined as a sequence of vertices in which each successive vertex (after the first) is connected to its predecessor.\n",
    "\n",
    "___"
   ]
  },
  {
   "cell_type": "markdown",
   "id": "d0b56786",
   "metadata": {},
   "source": [
    "## Graph Properties and Metrics\n",
    "Understanding the structure and characteristics of graphs requires several fundamental metrics that quantify connectivity patterns and local properties of vertices.\n",
    "\n",
    "### Vertex Degree\n",
    "The __degree__ of a vertex $v_{i}\\in\\mathcal{V}$ in a graph $\\mathcal{G} = (\\mathcal{V},\\mathcal{E})$, denoted $\\deg(v_{i})$, is the number of edges incident to that vertex. For directed graphs, we distinguish between two types of degree:\n",
    "* __In-degree__ $\\deg^{in}(v_{i})$: The number of edges directed toward vertex $v_{i}$\n",
    "* __Out-degree__ $\\deg^{out}(v_{i})$: The number of edges directed away from vertex $v_{i}$\n",
    "\n",
    "For directed graphs, the total degree of a vertex is $\\deg(v_{i}) = \\deg^{in}(v_{i}) + \\deg^{out}(v_{i})$.\n",
    "\n",
    "> __Handshaking Lemma__ For any graph $\\mathcal{G} = (\\mathcal{V},\\mathcal{E})$, the sum of all vertex degrees equals twice the number of edges:\n",
    "> $$\\sum_{v_{i} \\in \\mathcal{V}} \\deg(v_{i}) = 2|\\mathcal{E}|$$\n",
    "> This relationship holds because each edge contributes exactly one to the degree of each of its two endpoints.\n",
    "\n",
    "### Graph-Level Degree Metrics\n",
    "Several aggregate measures characterize the overall connectivity structure of a graph:\n",
    "\n",
    "> Degree distribution\n",
    ">\n",
    "> * __Minimum degree__: $\\delta(\\mathcal{G}) = \\min_{v_{i} \\in \\mathcal{V}} \\deg(v_{i})$\n",
    "> * __Maximum degree__: $\\Delta(\\mathcal{G}) = \\max_{v_{i} \\in \\mathcal{V}} \\deg(v_{i})$\n",
    "> * __Average degree__: $\\bar{d}(\\mathcal{G}) = \\frac{1}{|\\mathcal{V}|} \\sum_{v_{i} \\in \\mathcal{V}} \\deg(v_{i}) = \\frac{2|\\mathcal{E}|}{|\\mathcal{V}|}$\n",
    ">\n",
    "> The average degree provides insight into the overall connectivity: sparse graphs typically have low average degree relative to the number of vertices, while dense graphs have high average degree approaching $|\\mathcal{V}|-1$.\n",
    "\n",
    "Next, let's consider how graphs are stored.\n",
    "___"
   ]
  },
  {
   "cell_type": "markdown",
   "id": "540a3b1b",
   "metadata": {},
   "source": [
    "## How are Graphs stored?\n",
    "Graphs can be stored using two different methods: adjacency matrices and adjacency lists.\n",
    "\n",
    "### Adjacency matrix\n",
    "An adjacency matrix $\\mathcal{A}$ representation of a graph $\\mathcal{G} = (\\mathcal{V},\\mathcal{E})$ is a $\\dim\\mathcal{V}\\times\\dim\\mathcal{V}$ matrix holding integer or floating point weight values. The entry for row $i$ and column $j$ of the matrix $\\mathcal{A}$, denoted $a_{ij}\\in\\mathcal{A}$, describes the connection between vertices $v_{i}\\in\\mathcal{V}$ and $v_{j}\\in\\mathcal{V}$. \n",
    "* __Unweighted__: If there is an edge connecting $v_{i}\\in\\mathcal{V}$ and $v_{j}\\in\\mathcal{V}$ and graph $\\mathcal{G}$ is unweighted, then $a_{ij}=1$ (true) , otherwise $a_{ij}=0$ (false).\n",
    "* __Weighted__: In cases where the edges of graph $\\mathcal{G}$ have weights, if there is an edge connecting $v_{i}\\in\\mathcal{V}$ and $v_{j}\\in\\mathcal{V}$, then $a_{ij}=w_{ij}$, otherwise $a_{ij}=0$ (false), where $w_{ij}\\in\\mathbb{R}$ denotes the weight of the edge connecting $v_{i}\\in\\mathcal{V}$ and $v_{j}\\in\\mathcal{V}$.\n",
    "\n",
    "\n",
    "### Adjacency list\n",
    "An adjacency list for a graph $\\mathcal{G} = (\\mathcal{V},\\mathcal{E})$ is a $\\dim\\mathcal{V}$ dictionary $d$, where\n",
    "the ith entry points to the children indices of vertex $v_{i}\\in\\mathcal{V}$, denoted by set $\\mathcal{C}_{i}$. \n",
    "In other words, $d_{i}\\rightarrow\\mathcal{C}_{i}$. There is a single entry in dictionary $d$ for each vertex in graph $\\mathcal{G}$.\n",
    "\n",
    "### Practical Considerations: When to use which representation?\n",
    "The choice between adjacency matrices and adjacency lists depends on graph characteristics and required operations. Understanding graph density provides the key insight for this decision.\n",
    "\n",
    "> **Graph Density:** The density $\\rho$ of a graph $\\mathcal{G} = (\\mathcal{V},\\mathcal{E})$ measures how \"filled in\" the graph is relative to a complete graph. For undirected graphs: $\\rho = \\frac{|\\mathcal{E}|}{|\\mathcal{V}|(|\\mathcal{V}|-1)/2}$, while directed graphs use $|\\mathcal{V}|(|\\mathcal{V}|-1)$ in the denominator. Dense graphs have $\\rho$ close to 1, while sparse graphs have $\\rho$ close to 0.\n",
    "\n",
    "Adjacency matrices always require $O(|\\mathcal{V}|^{2})$ space regardless of edge count, making them efficient for dense graphs where $|\\mathcal{E}| \\approx |\\mathcal{V}|^{2}$. However, adjacency lists require only $O(|\\mathcal{V}| + |\\mathcal{E}|)$ space, providing significant savings for sparse graphs where $|\\mathcal{E}| \\ll |\\mathcal{V}|^{2}$.\n",
    "\n",
    "Performance characteristics differ substantially between operations. Edge existence queries are constant $O(1)$ time with matrices but require $O(\\text{degree}(v_{i}))$ time with lists. Conversely, finding all neighbors requires $O(|\\mathcal{V}|)$ time with matrices versus $O(\\text{degree}(v_{i}))$ time with lists.\n",
    "\n",
    "Choose adjacency matrices when frequently querying edge existence, working with dense graphs, or implementing algorithms requiring constant-time lookups. Use adjacency lists when memory efficiency is critical, working with sparse graphs, or algorithms primarily iterate over vertex neighborhoods. \n",
    "___"
   ]
  }
 ],
 "metadata": {
  "kernelspec": {
   "display_name": "Julia 1.11.6",
   "language": "julia",
   "name": "julia-1.11"
  },
  "language_info": {
   "file_extension": ".jl",
   "mimetype": "application/julia",
   "name": "julia",
   "version": "1.11.6"
  }
 },
 "nbformat": 4,
 "nbformat_minor": 5
}
