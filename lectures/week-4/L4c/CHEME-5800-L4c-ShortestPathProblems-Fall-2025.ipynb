{
 "cells": [
  {
   "cell_type": "markdown",
   "id": "f813ad1d-c727-4742-9dca-e5caecfb016d",
   "metadata": {},
   "source": [
    "# Shortest Path Problems\n",
    "Shortest-path problems enable us to find the most efficient route between two points in a graph, such as minimizing travel time on a roadmap, signal delay in a communication network, cost in a logistics system, or the fewest number of unit operations in a chemical process.\n",
    "* _Why should we study these?_ Understanding these algorithms enables real‐world `routing` applications, and also provides a foundation for more advanced graph‐based optimizations like flow and resource allocation.\n",
    "* _Hmmmm_. While this material may seem to be fully rooted in the realm of computer science, that perception is not true! Once you see how these algorithms work (and what we can model as a graph), the world will be full of graph problems, and these algorithms will be foundational.\n",
    "\n",
    "Let's look at two classic shortest-path algorithms: Dijkstra's algorithm and the Bellman-Ford algorithm.\n",
    "___"
   ]
  },
  {
   "cell_type": "markdown",
   "id": "4fd2a408",
   "metadata": {},
   "source": [
    "## Dijkstra's Algorithm\n",
    "Dijkstra's algorithm is a _greedy algorithm_ that finds the shortest path from a source node $s$ to all other nodes in a weighted graph with non-negative edge weights.\n",
    "\n",
    "* > __Fun story:__ Edsger Dijkstra, while with his fiancée at a café in Amsterdam in 1956, conceived the shortest path algorithm in approximately 20 minutes (in his head) while drinking some coffee. He described it as a \"twenty-minute invention,\" saying that doing it \"without pencil and paper, you are almost forced to avoid all avoidable complexities\". Keep it simple, right?\n",
    "\n",
    "Let's explore how Dijkstra's algorithm works.\n",
    "\n",
    "__Initialization__: Graph $\\mathcal{G}=(\\mathcal{V},\\mathcal{E})$, source node $s\\in\\mathcal{V}$, and non-negative edge weights $w(u,v)\\geq{0}$. Initialize an empty priority queue $\\mathcal{Q}\\gets\\texttt{PriorityQueue}$, a distance map $\\texttt{dist}:\\mathcal{V}\\to\\mathbb{R}$, and a previous vertex map $\\texttt{prev}:\\mathcal{V}\\to\\mathcal{V}\\cup\\{\\texttt{nothing}\\}$.\n",
    "\n",
    "For each $v\\in\\mathcal{V}$ __do__:\n",
    "* If $v=s$: set $\\texttt{dist}(s)\\gets{0}$, and $\\texttt{prev}(s)\\gets{\\texttt{nothing}}$.\n",
    "* If $v\\neq{s}$ __then__:\n",
    "    - Set $\\texttt{dist}(v)\\gets{\\infty}$, and $\\texttt{prev}(v)\\gets{\\texttt{nothing}}$.\n",
    "    - Add $v$ to the priority queue $\\mathcal{Q}$ with priority $\\texttt{dist}(v)$: $\\mathcal{Q}\\gets\\texttt{enqueue}(\\mathcal{Q}, v, \\texttt{dist}(v))$.\n",
    "\n",
    "While $\\mathcal{Q}\\neq\\emptyset$ __do__:\n",
    "* Extract the vertex $u$ with the _smallest distance_ from the priority queue: $u\\gets\\texttt{dequeue}(\\mathcal{Q})$.\n",
    "* Get the neighbors of $u$: $\\mathcal{N}(u)\\gets\\texttt{neighbors}(u)$.\n",
    "* For each neighbor $v\\in\\mathcal{N}(u)$ __do__:\n",
    "    * If $\\texttt{dist}(u)+w(u,v)<\\texttt{dist}(v)$, then:\n",
    "        * Update the distance: $\\texttt{dist}(v)\\gets\\texttt{dist}(u)+w(u,v)$.\n",
    "        * Update the previous vertex: $\\texttt{prev}(v)\\gets{u}$.\n",
    "        * Update the priority queue: $\\mathcal{Q}\\gets\\texttt{enqueue}(\\mathcal{Q}, v, \\texttt{dist}(v))$.\n",
    "\n",
    "### Summary\n",
    "* __Complexity__: The time complexity of Dijkstra's algorithm is $\\mathcal{O}((|\\mathcal{V}| + |\\mathcal{E}|)\\cdot\\log|\\mathcal{V}|)$, where $|\\mathcal{E}|$ is the number of edges and $|\\mathcal{V}|$ is the number of vertices in the graph. That's because we use a priority queue data structure.\n",
    "* __Priority Queue__: A priority queue is similar to a regular queue, but instead of serving elements in the order they were added, it serves them in the order of priority. In Dijkstra's algorithm, we use a priority queue to always process the node with the smallest distance next.\n",
    "* __Negative Edge Weights__: Dijkstra’s greedy strategy assumes all edge weights are non-negative. Thus, once a node has been processed, its shortest distance is final. If you have negative weights, that assumption is not true, and the algorithm can produce incorrect distances; for example, it may miss a shorter path discovered later.\n",
    "\n",
    "___"
   ]
  },
  {
   "cell_type": "markdown",
   "id": "6d99235f",
   "metadata": {},
   "source": [
    "## Bellman-Ford Algorithm\n",
    "The Bellman-Ford algorithm is a more general algorithm that can handle graphs with negative edge weights. It works by iteratively relaxing the edges of the graph, allowing it to find the shortest path even in the presence of negative weights.\n",
    "\n",
    "Let's look at how Bellman-Ford works.\n",
    "\n",
    "__Initialization__: Graph $\\mathcal{G}=(\\mathcal{V},\\mathcal{E})$, source node $s\\in\\mathcal{V}$, and edge weights $w(u,v)$. Initialize a distance map $\\texttt{dist}:\\mathcal{V}\\to\\mathbb{R}$, and a previous node map $\\texttt{prev}:\\mathcal{V}\\to\\mathcal{V}\\cup\\{\\texttt{nothing}\\}$\n",
    "\n",
    "For each $v\\in\\mathcal{V}$ __do__:\n",
    "* If $v=s$ __then__: set $\\texttt{dist}(s)\\gets{0}$, and $\\texttt{prev}(s)\\gets{\\texttt{nothing}}$.\n",
    "* If $v\\neq{s}$ __then__: set $\\texttt{dist}(v)\\gets{\\infty}$, and $\\texttt{prev}(v)\\gets{\\texttt{nothing}}$.\n",
    "\n",
    "Repeat $|\\mathcal{V}| - 1$ times __do__:\n",
    "\n",
    "- For each edge $(u,v)\\in\\mathcal{E}$ __do__:\n",
    "    * If $\\texttt{dist}(u)+w(u,v)<\\texttt{dist}(v)$ __then__:\n",
    "        * Update the distance: $\\texttt{dist}(v)\\gets\\texttt{dist}(u)+w(u,v)$.\n",
    "        * Update the previous vertex: $\\texttt{prev}(v)\\gets{u}$.\n",
    "\n",
    "After $|\\mathcal{V}| - 1$ iterations, we perform _one more pass_ through all edges to check for __negative-weight cycles__:\n",
    "- For each edge $(u,v)\\in\\mathcal{E}$ __do__:\n",
    "    * If $\\texttt{dist}(u)+w(u,v)<\\texttt{dist}(v)$, __then__:\n",
    "        * Report that a negative-weight cycle exists.\n",
    "\n",
    "\n",
    "### Summary\n",
    "* __Complexity__: The time complexity of the Bellman-Ford algorithm is $\\mathcal{O}(|\\mathcal{V}|\\cdot|\\mathcal{E}|)$, where $|\\mathcal{E}|$ is the number of edges and $|\\mathcal{V}|$ is the number of vertices in the graph. This is because we iterate through all edges $|\\mathcal{V}| - 1$ times. Thus, it is less efficient than Dijkstra's algorithm for graphs with non-negative weights.\n",
    "* __Negative Weights & Cycles__: Bellman–Ford handles negative edge weights by doing $|\\mathcal{V}|-1$ rounds of relaxation and then one extra pass to _detect_ any negative-weight cycle. It always terminates in $\\mathcal{O}(|\\mathcal{V}|\\cdot|\\mathcal{E}|)$ time. If the extra pass finds a further relaxation, it reports a negative cycle rather than looping forever, but it won’t produce valid shortest-path distances when such a cycle exists.\n",
    "\n",
    "___"
   ]
  },
  {
   "cell_type": "markdown",
   "id": "1282b9c5",
   "metadata": {},
   "source": []
  }
 ],
 "metadata": {
  "kernelspec": {
   "display_name": "Julia 1.11.6",
   "language": "julia",
   "name": "julia-1.11"
  },
  "language_info": {
   "file_extension": ".jl",
   "mimetype": "application/julia",
   "name": "julia",
   "version": "1.11.6"
  }
 },
 "nbformat": 4,
 "nbformat_minor": 5
}
