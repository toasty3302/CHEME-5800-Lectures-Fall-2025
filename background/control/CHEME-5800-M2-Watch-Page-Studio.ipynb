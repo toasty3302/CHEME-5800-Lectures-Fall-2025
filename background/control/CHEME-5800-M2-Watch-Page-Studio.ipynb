{
 "cells": [
  {
   "cell_type": "markdown",
   "id": "8b4483c4",
   "metadata": {},
   "source": [
    "# Introduction to Control Flow, Iteration and Functions\n",
    "In this module, we explore ideas in control flow and iteration, focusing on how to structure programs to make decisions and repeat actions.\n",
    "\n",
    "By the end of this module, you will be able to define and demonstrate mastery of the following key concepts:\n",
    "\n",
    "* __Conditional Statements:__ Conditional statements that execute different code blocks based on whether a condition is `true` or `false`, allowing for branching logic in programs.\n",
    "* __Iteration:__ Iterative constructs that repeat a block of code. If the number of iterations is known beforehand, a __for loop__ is used; if the number of iterations is not predetermined, a __while loop__ is employed.\n",
    "* __Functions:__ Functions are reusable blocks of code that can be called with arguments to perform specific tasks, promoting code modularity and reusability.\n",
    "\n",
    "If-else statements, iteration patterns, and functions are foundational to almost any program. These structures are present in virtually all programming languages and serve as the building blocks for more complex logic and functionality. Exciting! Let's get started!\n",
    "___"
   ]
  },
  {
   "cell_type": "markdown",
   "id": "2cce063e",
   "metadata": {},
   "source": [
    "## Conditional statements\n",
    "Conditional statements are constructs that allow a program to execute different code blocks based on whether a specified condition is true or false. They enable branching logic, making programs more dynamic and responsive to different inputs or states.\n",
    "\n",
    "* __Scenario__: Suppose you want to execute a block of code, for example, to write model simulation results to a file. We want this block to execute only if a certain condition is met, such as the model converging, otherwise we want the simulation to continue. \n",
    "\n",
    "Let's look at a diagram for `if-else` statements:\n",
    "\n",
    "\n",
    "<div>\n",
    "    <center>\n",
    "        <img src=\"figs/Fig-If-else-statement-NeedToRedraw.png\" width=\"580\"/>\n",
    "    </center>\n",
    "</div>\n",
    "\n",
    "You can use an `if-else` statement to control whether that block of code runs. If the condition is `true`, the code runs; if `false`, something else happens (or nothing at all). \n",
    "\n",
    "Of course, there are many variations of this idea. For example, you can have an `if` statement with multiple `else if` clauses that check another condition if the first one is false, ending with an `else` clause that runs if none of the previous conditions are true.\n",
    "\n",
    "<div>\n",
    "    <center>\n",
    "        <img src=\"figs/Fig-if-elseif-else-statement-NeedToRedraw.png\" width=\"580\"/>\n",
    "    </center>\n",
    "</div>\n",
    "\n",
    "These control flow paradigms are conserved across many programming languages; if you understand how they work in one language, you can easily adapt to others. \n",
    "\n",
    "For example, in Python, the syntax for an `if-else` statement looks like this:\n",
    "\n",
    "```python\n",
    "if condition:\n",
    "    # Code to execute if the condition is true\n",
    "elif another_condition:\n",
    "    # Code to execute if another condition is true, but the condition is false\n",
    "else:\n",
    "    # Code to execute if condition and another_condition are false\n",
    "```\n",
    "\n",
    "or in the C programming language:\n",
    "\n",
    "```c\n",
    "if (condition) {\n",
    "    // Code to execute if the condition is true\n",
    "} else if (another_condition) {\n",
    "    // Code to execute if another_condition is true, but the condition is false\n",
    "} else {\n",
    "    // Code to execute if condition and another_condition are false\n",
    "}\n",
    "```"
   ]
  },
  {
   "cell_type": "markdown",
   "id": "9bd698d6",
   "metadata": {},
   "source": [
    "In Julia, if-else statements are similar (ignore the `let` keyword for now, we'll cover it in a later module):"
   ]
  },
  {
   "cell_type": "code",
   "execution_count": 15,
   "id": "a86896e4",
   "metadata": {},
   "outputs": [
    {
     "name": "stdout",
     "output_type": "stream",
     "text": [
      "Condition is true\n"
     ]
    }
   ],
   "source": [
    "let\n",
    "    condition = true;\n",
    "    another_condition = true;\n",
    "    if condition == true\n",
    "        println(\"Condition is true\")\n",
    "    elseif another_condition == true\n",
    "        println(\"Another condition is true\")\n",
    "    else\n",
    "        println(\"Condition and another_condition is false\")\n",
    "    end\n",
    "end"
   ]
  },
  {
   "cell_type": "markdown",
   "id": "bcc29888",
   "metadata": {},
   "source": [
    "__Order matters!__ What happens if both conditions are true? In this case, the first condition that evaluates to `true` will execute its code block, and the rest will be ignored. \n",
    "\n",
    "### Do we need chains of else-if-else statements?\n",
    "The conditions in the if-else pseudo code above are statements that evaluate to `Bool` values. These statements can be single expressions like $x\\geq{y}$, or compound expressions containing several cases, e.g., $x\\geq{y}$ and $x\\leq{z}$. \n",
    "\n",
    "To facilitate the compound chaining of logical statements, most programming languages, including [Julia](https://julialang.org), define [short-cut logical operators](https://docs.julialang.org/en/v1/manual/control-flow/#Short-Circuit-Evaluation):\n",
    "\n",
    "* __AND:__ The `&&` operator corresponds to the logical `AND` operator. The `&&` operator in [Julia](https://julialang.org) performs a logical `AND` operation between two operands. In a logical AND operation, if both operands are `true`, the result is `true`. If either operand is `false`, the result is `false`.\n",
    "* __OR:__ The `||` operator corresponds to the logical `OR` operator. The `||` operator in [Julia](https://julialang.org) performs a logical `OR` operation between two operands. In a logical `OR` operation, if either operand is `true`, the result is `true`. If both operands are `false`, the result is `false`.\n",
    "\n",
    "Let's rework the previous example using these operators:"
   ]
  },
  {
   "cell_type": "code",
   "execution_count": 17,
   "id": "09476cc7",
   "metadata": {},
   "outputs": [
    {
     "name": "stdout",
     "output_type": "stream",
     "text": [
      "Condition OR another_condition is true\n"
     ]
    }
   ],
   "source": [
    "let\n",
    "    condition = false;\n",
    "    another_condition = true;\n",
    "    if condition == true && another_condition == true\n",
    "        println(\"Condition AND another_condition is true\")\n",
    "    elseif condition == true || another_condition == true\n",
    "        println(\"Condition OR another_condition is true\")\n",
    "    else\n",
    "        println(\"Both condition and another_condition is false\")\n",
    "    end\n",
    "end"
   ]
  },
  {
   "cell_type": "markdown",
   "id": "42909d77",
   "metadata": {},
   "source": [
    "___"
   ]
  },
  {
   "cell_type": "markdown",
   "id": "140e2e0c",
   "metadata": {},
   "source": [
    "## Iteration\n",
    "Iteration is a fundamental programming concept that allows a block of code to be executed repeatedly, either a specified number of times or until a certain condition is met. Let's consider two models: `for` loops and `while` loops:\n",
    "* __For Loops:__ Used when the number of iterations is known beforehand. For example, iterating over a list of items or performing a calculation a fixed number of times.\n",
    "* __While Loops:__ Used when the number of iterations is not predetermined. The loop continues as long as a specified condition remains true. For example, reading data from a file until the end of the file is reached, or waiting for user input until a valid response is provided, or waiting for a calculation to finish. \n",
    "\n",
    "Let's dig into the details of each type of loop."
   ]
  },
  {
   "cell_type": "markdown",
   "id": "5fdc0b89",
   "metadata": {},
   "source": [
    "<div>\n",
    "    <center>\n",
    "        <img src=\"figs/Fig-ForLoop-NeedToRedraw.png\" width=\"580\"/>\n",
    "    </center>\n",
    "</div>\n",
    "\n",
    "### For Loops\n",
    "A `for` loop is used when the number of iterations is known beforehand. It iterates over a sequence (like a list or range) and executes a block of code for each item in that sequence. \n",
    "\n",
    "* __Mental Model:__ Let's think of a `for` loop as a set of (hidden) `if-else` statements that are executed in sequence. At each step in the sequence, the loop checks whether we have reached the end of the sequence. If not, it tells our code which item we are at, executes the code block, and then moves to the next item.\n",
    "\n",
    "During each iteration, the loop variable (often called `i` or `item`) takes on the value of the current item in the sequence. This allows you to perform operations each time the loop is executed, for example, accessing elements of a collection.  Let's look at an example of a `for` loop in Python:\n",
    "\n",
    "```python\n",
    "for i in range(5):\n",
    "    print(i) # This will print numbers 0 to 4, one per line.\n",
    "```\n",
    "\n",
    "Or in the C programming language:\n",
    "```c\n",
    "for (int i = 0; i < 5; i++) {\n",
    "    printf(\"%d\\n\", i); // This will print numbers 0 to 4, one per line.\n",
    "}\n",
    "```\n",
    "\n",
    "In Julia, the syntax is a mix between Python and C:"
   ]
  },
  {
   "cell_type": "code",
   "execution_count": null,
   "id": "632b88b2",
   "metadata": {},
   "outputs": [
    {
     "name": "stdout",
     "output_type": "stream",
     "text": [
      "Hello, World! 0\n",
      "Hello, World! 1\n",
      "Hello, World! 2\n",
      "Hello, World! 3\n",
      "Hello, World! 4\n"
     ]
    }
   ],
   "source": [
    "for i ∈ 0:4 # same i ∈ {0, 1, 2, 3, 4}\n",
    "    println(\"Hello, World! $i\") # This will print \"Hello, World!\" followed by the current value of i\n",
    "end"
   ]
  },
  {
   "cell_type": "markdown",
   "id": "14b36167",
   "metadata": {},
   "source": [
    "__Fun!__ One cool thing about Julia is its support for Unicode mathematical characters in the language. For example, we use the `∈` character to denote the  \"in\" operation; thus, the loop is checking $i \\in \\{0, 1, 2, 3, 4\\}$.\n",
    "___"
   ]
  },
  {
   "cell_type": "markdown",
   "id": "253e803e",
   "metadata": {},
   "source": [
    "<div>\n",
    "    <center>\n",
    "        <img src=\"figs/Fig-WhileLoop-NeedToRedraw.png\" width=\"580\"/>\n",
    "    </center>\n",
    "</div>\n",
    "\n",
    "### While Loops\n",
    "A `while` loop is used when the number of iterations is not predetermined. The loop continues to execute as long as a specified condition remains true.\n",
    "\n",
    "* __Mental model:__  A `while` loop _explicitly_ checks a condition before each iteration. If the condition is `true`, the loop executes a code block; if `false`, the loop stops. Unlike a `for` loop in which the bounds checking is implicit, a `while` loop requires you to define the condition that controls the loop's execution explicitly.\n",
    "\n",
    "A `while` loop is super flexible. For example, it can mimic the behavior of a `for` loop and iterate over a fixed number of items. However, it can also be used to iterate until a specific condition, such as a convergence condition, is met (a pattern that'll be seen __many__ times throughout this course).\n",
    "\n",
    "Let's look at an example of a `while` loop in Python:\n",
    "\n",
    "```python\n",
    "i = 0 # Initialize i to 0.\n",
    "while i < 5: # => evaluates to {true | false}\n",
    "    print(i) # This will print numbers 0 to 4, one per line.\n",
    "    i += 1 # Increment i to avoid an infinite loop.\n",
    "```\n",
    "\n",
    "Or in the C programming language:\n",
    "```c\n",
    "int i = 0; // Initialize i to 0.\n",
    "while (i < 5) { // => evaluates to {true | false}\n",
    "    printf(\"%d\\n\", i); // This will print numbers 0 to 4, one per line.\n",
    "    i++; // Increment i to avoid an infinite loop.\n",
    "}\n",
    "```"
   ]
  },
  {
   "cell_type": "markdown",
   "id": "7d7e4a18-cade-413d-8aad-f1bb73e48a65",
   "metadata": {},
   "source": [
    "Like the `for` loop, Julia's syntax is a mix between Python and C. Let's write a slightly more involved example in Julia:"
   ]
  },
  {
   "cell_type": "code",
   "execution_count": null,
   "id": "025fe223",
   "metadata": {},
   "outputs": [
    {
     "name": "stdout",
     "output_type": "stream",
     "text": [
      "Hello, World! 0\n",
      "Hello, World! 1\n",
      "Hello, World! 2\n",
      "Hello, World! 3\n",
      "Hello, World! 4\n"
     ]
    }
   ],
   "source": [
    "should_loop_stop = false; # This is a flag to control the loop\n",
    "i = 0;\n",
    "max_iterations = 4; # This is the maximum number of iterations we want to allow\n",
    "while should_loop_stop == false # keep looping until should_loop_stop is true\n",
    "    \n",
    "    println(\"Hello, World! $i\") # This will print \"Hello, World!\" followed by the current value of i\n",
    "    \n",
    "    # check: should we stop? Update the flag if a condition is met\n",
    "    if i ≥ max_iterations  # If i is greater than max_iterations, we stop the loop\n",
    "        should_loop_stop = true;\n",
    "    else\n",
    "        i += 1; # Increment i by 1\n",
    "    end\n",
    "end"
   ]
  },
  {
   "cell_type": "markdown",
   "id": "49676e54",
   "metadata": {},
   "source": [
    "__Future__: We are going to see this `while` loop pattern _a lot_ in this course. The loop will continue until some type of calculation converges, i.e., the difference between two successive iterations is less than some tolerance. If the value is less than the tolerance, we stop iterating; otherwise, we continue iterating. \n",
    "___"
   ]
  },
  {
   "cell_type": "markdown",
   "id": "f0e63702",
   "metadata": {},
   "source": [
    "<div>\n",
    "    <center>\n",
    "        <img src=\"figs/Fig-Mathematical-Function.svg\" width=\"580\"/>\n",
    "    </center>\n",
    "</div>"
   ]
  },
  {
   "cell_type": "markdown",
   "id": "f831f768",
   "metadata": {},
   "source": [
    "## Functions\n",
    "Most of us have heard of functions in math class, but what are they in programming? Functions are reusable blocks of code that can be called with arguments to perform specific tasks, promoting code modularity and reusability. And in some languages, they can be passed around like any other object.\n",
    "\n",
    "Computer functions (also called methods or subroutines in other languages) share many of the features of mathematical functions, but there are a few crucial differences.\n",
    "* __Function:__ On the computer, a function is an _object_ that maps a tuple of arguments (inputs) to a tuple of return values (outputs), which is similar to a math function. However, the transformation a function performs can be more complex than a simple mathematical operation.\n",
    "* __Scope:__ Functions have a defined scope, meaning they can access variables defined within their own body or passed as arguments, but they may not have access to variables defined outside their scope unless explicitly passed in. Furthermore, functions can create local variables that are not accessible outside the function. What happens inside a function stays inside the function!\n",
    "* __Side effects:__ Unlike mathematical functions, computer functions in languages such as Julia, Python, or the C programming language can alter (and be affected by) the global state of your program. Thus, a function can modify global variables or perform actions that affect the program's state beyond just returning values.\n",
    "\n",
    "The basic syntax for defining functions in Julia, Python, or the C programming language involves specifying a function name, the set of input arguments, the return value types, and the logic required to transform the input arguments into the return values.\n",
    "\n",
    "Let's look at an example of a function in Python:\n",
    "```python\n",
    "def linear(x,m,b):\n",
    "\n",
    "    \"\"\"    \n",
    "    Documentation goes here in Python.\n",
    "    \"\"\"\n",
    "\n",
    "    y = m*x+b # linear transform the x-value\n",
    "    return y # return y \n",
    "```\n",
    "\n",
    "or in the C programming language:\n",
    "```c\n",
    "\n",
    "/*\n",
    " Documentation goes here in C. Don't forget your docs!\n",
    "*/\n",
    "double linear(double x, double m, double b) {\n",
    "\n",
    "    /* define and initialize y */\n",
    "    double y = 0.0;\n",
    "    \n",
    "    /* Linear transform the x-value to y */\n",
    "    y = m*x + b;\n",
    "\n",
    "    /* return y */\n",
    "    return y;\n",
    "}\n",
    "```"
   ]
  },
  {
   "cell_type": "markdown",
   "id": "362d652b-880d-4e0e-b588-a4b684c71f51",
   "metadata": {},
   "source": [
    "While the syntax is different, the idea is the same in Julia:"
   ]
  },
  {
   "cell_type": "code",
   "execution_count": 48,
   "id": "09b599a8",
   "metadata": {},
   "outputs": [],
   "source": [
    "\"\"\"\n",
    "    linear(x::Number; slope::Number = 0.0, intercept::Number = 0.0) -> Number\n",
    "\n",
    "Compute the linear transform of the scalar number `x` given values for \n",
    "the `slope` and `intercept` keyword arguments. All arguments are of type `Number`\n",
    "\"\"\"\n",
    "function linear(x::Number, slope::Number, intercept::Number)::Number\n",
    "    y = slope * x + intercept\n",
    "    return y\n",
    "end; # ignore the ;, there is nothing to see here, move along ..."
   ]
  },
  {
   "cell_type": "markdown",
   "id": "c5b6b045-b007-45f3-800d-fdb402b3fcad",
   "metadata": {},
   "source": [
    "We call a function using its name and passing the arguments. While this may seem obvious, there are some __really__ interesting things you can do by understanding how this matching works. Just wait!"
   ]
  },
  {
   "cell_type": "code",
   "execution_count": 28,
   "id": "cf59852c",
   "metadata": {},
   "outputs": [
    {
     "data": {
      "text/plain": [
       "10.0"
      ]
     },
     "execution_count": 28,
     "metadata": {},
     "output_type": "execute_result"
    }
   ],
   "source": [
    "linear(2.0, 3, 4) # This will return 10 -or- 10.0"
   ]
  },
  {
   "cell_type": "markdown",
   "id": "e694ab58",
   "metadata": {},
   "source": [
    "### What is the same or different?\n",
    "\n",
    "Let's compare and contrast the structure of a simple function named `linear` which computes a linear transformation written in [Julia](https://docs.julialang.org), [Python](https://www.python.org) and the [C programming language](https://en.wikipedia.org/wiki/C_(programming_language)). \n",
    "\n",
    "The different implementations of the `linear(...)` function share common features:\n",
    "* Each implementation has a `return y` statement at the end of the function body. A `return` statement tells the program (which is calling your function) that the work being done in the function is finished, and here is the finished value.\n",
    "* The implementation of the math $y = mx+b$ looks strikingly the same in each language; there is a conserved set of operations, e.g., the addition `+` and multiplication `*` operators defined in each language which are similar across many languages. \n",
    "\n",
    "However, many features are different in the `linear(...)` function implementation between the languages:\n",
    "* [Julia](https://docs.julialang.org) functions start with the `function` keyword and stop with an enclosing `end` keyword. Functions in the [C programming language](https://en.wikipedia.org/wiki/C_(programming_language)) begin with the return type, and the function body is enclosed in braces `{...}`. Functions in [Python](https://www.python.org) start with the `def` keyword followed by the name, arguments, and a colon, while the return statement marks the end of a [Python](https://www.python.org) function; there is no other closing keyword or character.\n",
    "* Functions in the [C programming language](https://en.wikipedia.org/wiki/C_(programming_language)) _strictly require_ type information about the arguments, but neither [Julia](https://docs.julialang.org) or [Python](https://www.python.org) requires this information; it is recommended in [Julia](https://docs.julialang.org) but not required, and while newer [Python](https://www.python.org) versions have support for typing, the [Python](https://www.python.org) runtime does not enforce function and variable type annotations.\n",
    "* [The C programming language](https://en.wikipedia.org/wiki/C_(programming_language)) requires that variables be defined before they are used, while both [Julia](https://docs.julialang.org) and [Python](https://www.python.org) do not require this step."
   ]
  },
  {
   "cell_type": "markdown",
   "id": "ae102fec-c5f7-44a5-9849-a9dda3e5d98e",
   "metadata": {},
   "source": [
    "### Another perspective\n",
    "A function is a __contract between a developer and a user__. The developer defines the function and specifies how it should behave, while the user relies on it to perform as described. \n",
    "* The developer ensures that a function is written correctly and behaves as intended, while the user is responsible for providing the correct input and understanding the output.\n",
    "* Clear and informative documentation is essential for fostering efficient and effective communication between developers and users. A well-defined function must have clear input and output specifications, making it easy to understand.\n",
    "* Function naming is critical because it clearly and accurately communicates the purpose and behavior of the function.\n",
    "\n",
    "Finally, good variable names make your code readable, allowing other developers (and even yourself in the future) to understand what the variable or constant represents simply by reading its name."
   ]
  },
  {
   "cell_type": "markdown",
   "id": "8d9f6b66",
   "metadata": {},
   "source": [
    "### What didn't we cover?\n",
    "We covered the basics of functions, but there is much more to learn about defining and using functions, which we'll cover in the examples of this module. Let's do a preview of a few of these features:\n",
    "* __Arguments__: There are a _bunch_ of ways we can pass data into functions, i.e., different argument passing techniques that we'll explore in the examples of this module. We only showed you the most basic way to pass arguments into a function, i.e., positional arguments. Just wait, your mind will be blown by some of the cool things we can do!\n",
    "* __Error handling:__ Functions can raise errors when something goes wrong, and we can handle these errors gracefully to prevent our program from crashing. We'll explore this concept in the examples of this module.\n",
    "* __Scope:__ Functions can create local variables that are not accessible outside the function. What happens inside a function stays inside the function! However, we'll see special functions called _mutating functions_ that can modify global variables, i.e., variables defined outside the function. This is a powerful feature, but it can also lead to unexpected behavior if not used carefully.\n",
    "\n",
    "Much more to come in the examples of this module. Stay tuned!\n",
    "___"
   ]
  }
 ],
 "metadata": {
  "kernelspec": {
   "display_name": "Julia 1.11.6",
   "language": "julia",
   "name": "julia-1.11"
  },
  "language_info": {
   "file_extension": ".jl",
   "mimetype": "application/julia",
   "name": "julia",
   "version": "1.11.6"
  }
 },
 "nbformat": 4,
 "nbformat_minor": 5
}
