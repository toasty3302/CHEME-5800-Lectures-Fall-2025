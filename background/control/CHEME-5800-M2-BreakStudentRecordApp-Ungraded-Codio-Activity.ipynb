{
 "cells": [
  {
   "cell_type": "markdown",
   "id": "07cabb3a-8805-4246-a6ff-007b43a4a4af",
   "metadata": {},
   "source": [
    "# Activity: Let's Break the Student Record Application\n",
    "There is a big difference between writing code that only you will use and writing code that others will use. When you write code for others, you need to make sure that it is easy to use,and robust enough to handle unexpected inputs. \n",
    "\n",
    "In this activity, you will be given a code base, in particular the `build(...)` and `find(...)` methods from the student records app, that is not robust and has some bugs. Some of these bugs ae can fix, while others are just errors in user logic. \n",
    "\n",
    "Our task is to break the code by providing unexpected inputs, look at how the system reacts (who is doing what) and then suggest fixes to make it more robust for items that we can control. Let's go!\n",
    "___"
   ]
  },
  {
   "cell_type": "markdown",
   "id": "3b704424",
   "metadata": {},
   "source": [
    "## Setup, Data, and Prerequisites\n",
    "First, we set up the computational environment by including the `Include.jl` file and loading any needed resources.\n",
    "* The [include command](https://docs.julialang.org/en/v1/base/base/#include) evaluates the contents of the input source file, `Include.jl`, in the notebook's global scope. The `Include.jl` file sets paths, loads required external packages, etc. For additional information on functions and types used in this material, see the [Julia programming language documentation](https://docs.julialang.org/en/v1/). \n",
    "* In addition to standard Julia libraries, we'll also use [the `VLDataScienceMachineLearningPackage.jl` package](https://github.com/varnerlab/VLDataScienceMachineLearningPackage.jl), check out that documentation for more information on the functions and types used in this material."
   ]
  },
  {
   "cell_type": "code",
   "execution_count": 1,
   "id": "841cc28e",
   "metadata": {},
   "outputs": [],
   "source": [
    "include(\"Include.jl\");"
   ]
  },
  {
   "cell_type": "markdown",
   "id": "4deb8ec9",
   "metadata": {},
   "source": [
    "### Types and Functions\n",
    "Let's start by defining mutable `MySimpleStudentModel` type, which will represent a student record. This type will include fields for the student's first name, last name, student identification number, and thier netid (email). \n",
    "* _Why a mutable type?_ Mutable types allow for modification of their fields after creation, which is useful for objects that may need to be updated or changed over time, such as student records. Additonally, mutable types offer different possible initialization options, such as default values for fields.\n",
    "* _Keyword argument constructor_: The constructor allows for the creation of `MySimpleStudentModel` objects with default values for fields, making it easier to instantiate objects without providing all arguments. Thus, we can create an empty student record with default values for each field."
   ]
  },
  {
   "cell_type": "code",
   "execution_count": 2,
   "id": "7efcf85d",
   "metadata": {},
   "outputs": [],
   "source": [
    "\"\"\"\n",
    "    mutable struct MySimpleStudentModel\n",
    "\n",
    "A mutable struct that models a student with a firstname, lastname, student id and a netid.\n",
    "\n",
    "### Fields\n",
    "- `firstname::String`: The first name of the student.\n",
    "- `lastname::String`: The last name of the student.\n",
    "- `sid::Int64`: The student identification number.\n",
    "- `netid::String`: The network identifier (email address) of the student.\n",
    "\"\"\"\n",
    "mutable struct MySimpleStudentModel\n",
    "\n",
    "    # data fields -\n",
    "    firstname::String\n",
    "    lastname::String\n",
    "    sid::Int64\n",
    "    netid::String\n",
    "    \n",
    "    # keyword argument constructor: builds a new student model with default values\n",
    "    MySimpleStudentModel(; firstname::String = \"firstname\", \n",
    "        lastname::String = \"lastname\", sid::Int64 = -1, netid::String = \"abcd\") = new(firstname, lastname, sid, netid);\n",
    "end;"
   ]
  },
  {
   "cell_type": "markdown",
   "id": "728fa74b",
   "metadata": {},
   "source": [
    "Let's implement a `build(model::Type{MySimpleStudentModel}; data::NamedTuple)::MyStudentModel` method which takes the type of thing we want to build, and the data need to build the model [in a `NamedTuple` instance](https://docs.julialang.org/en/v1/base/base/#Core.NamedTuple). The `build(...)` returns a populated `MySimpleStudentModel` instance."
   ]
  },
  {
   "cell_type": "code",
   "execution_count": 3,
   "id": "9bc867b8",
   "metadata": {},
   "outputs": [],
   "source": [
    "\"\"\"\n",
    "    build(modeltype::Type{MySimpleStudentModel}, data::NamedTuple)::MySimpleStudentModel\n",
    "\n",
    "Builds a new `MySimpleStudentModel` from a named tuple of data.\n",
    "\n",
    "### Arguments\n",
    "- `modeltype::Type{MySimpleStudentModel}`: The type of the model to be built.\n",
    "- `data::NamedTuple`: A named tuple containing the fields to be set in the model.\n",
    "\n",
    "### Returns\n",
    "- `MySimpleStudentModel`: A new instance of `MySimpleStudentModel` with the fields set from the named tuple.\n",
    "\"\"\"\n",
    "function build(modeltype::Type{MySimpleStudentModel}, data::NamedTuple)::MySimpleStudentModel\n",
    "    \n",
    "    # initailize -\n",
    "    model = modeltype(); # This builds an empty model (with default values)\n",
    "\n",
    "    # TODO: Uncomment the following code to give a warning if the named tuple is missing required fields\n",
    "    # required_fields = [:firstname, :lastname, :sid, :netid]\n",
    "    # for field in required_fields\n",
    "    #     if haskey(data, field) == false\n",
    "    #         @warn \"Ooops! Missing required field: $field. Using default value.\"\n",
    "    #     end\n",
    "    # end\n",
    "\n",
    "    # TODO: Uncomment error handling code below to add missing data if needed\n",
    "    # firstname = get(data, :firstname, \"default_firstname\");\n",
    "    # lastname = get(data, :lastname, \"default_lastname\");\n",
    "    # sid = get(data, :sid, -1);\n",
    "    # netid = get(data, :netid, \"default_netid\");\n",
    "\n",
    "    # TODO: Get data from the named tuple\n",
    "    # TODO: Comment this block of code when using the error handling code above\n",
    "    firstname = data.firstname;\n",
    "    lastname = data.lastname;\n",
    "    sid = data.sid;\n",
    "    netid = data.netid;\n",
    "\n",
    "    # set the fields of the model\n",
    "    model.firstname = firstname;\n",
    "    model.lastname = lastname;\n",
    "    model.sid = sid;\n",
    "    model.netid = netid;\n",
    "\n",
    "    # return -\n",
    "    return model;\n",
    "end;"
   ]
  },
  {
   "cell_type": "markdown",
   "id": "95f2eb08",
   "metadata": {},
   "source": [
    "Finally, we have updated the [`find(...)` method](src/Compute.jl) implementation. This method takes a collection of student models and values for the fields of the student we want and returns either the student index `sid::Int64` matching the other search fields or `nothing`."
   ]
  },
  {
   "cell_type": "code",
   "execution_count": 4,
   "id": "cbb2a319",
   "metadata": {},
   "outputs": [],
   "source": [
    "\"\"\"\n",
    "    find(students::Array{MySimpleStudentModel,1}; netid::String=\"jdv27\", firstname::String = \"firstname\", \n",
    "        lastname::String = \"lastname\") -> Union{Int64, Nothing}\n",
    "\n",
    "Finds a student in the array of `MySimpleStudentModel` based on the provided parameters. \n",
    "Returns the student's `sid` if found, otherwise returns `nothing`.\n",
    "\n",
    "### Parameters\n",
    "- `students::Array{MySimpleStudentModel,1}`: An array of `MySimpleStudentModel` objects.\n",
    "- `netid::String`: The netid of the student to search for (default is \"jdv27\").\n",
    "- `firstname::String`: The firstname of the student to search for (default is \"firstname\").\n",
    "- `lastname::String`: The lastname of the student to search for (default is \"lastname\").\n",
    "\n",
    "### Returns\n",
    "- `Union{Int64, Nothing}`: The student's `sid` if found, otherwise `nothing`.\n",
    "\"\"\"\n",
    "function find(students::Array{MySimpleStudentModel,1}; netid::String=\"jdv27\", firstname::String = \"firstname\", \n",
    "    lastname::String = \"lastname\", sid::Int64 = -1)::Set{MySimpleStudentModel}\n",
    "\n",
    "    # initialize -\n",
    "    set_of_matching_students = Set{MySimpleStudentModel}(); # default: we don't know which student we are looking for\n",
    "\n",
    "    # main loop -\n",
    "    for i ∈ eachindex(students)\n",
    "        test_student = students[i];  # get student i from the array -\n",
    "\n",
    "        # Default: Let's start by assuming a compound OR check\n",
    "        if test_student.lastname == lastname || test_student.netid == netid || test_student.firstname == firstname || test_student.sid == sid\n",
    "            push!(set_of_matching_students, test_student); # add the student to the set of found students\n",
    "        end\n",
    "    end\n",
    "\n",
    "    return set_of_matching_students; # return the search results to the caller\n",
    "end;"
   ]
  },
  {
   "cell_type": "markdown",
   "id": "d499512d",
   "metadata": {},
   "source": [
    "## Task 1: Break the Student Model Build Method\n",
    "In this task, let's try to break the `build(...)` method by providing unexpected inputs. For example, we'll provide an incorrect type of the object we want to build, and will provide a `data::NamedTuple` with missing or incorrect fields and see how the system reacts.\n",
    "\n",
    "The intersting bit of the experiment is to see who is doing what when the system reacts. For example, are the errors things that we could anticipate and handle, or are they errors in whcih the system if responsible for handling? Does the system throw an error, or does it return a default value? Does it provide a helpful error message, or is it cryptic?"
   ]
  },
  {
   "cell_type": "markdown",
   "id": "87612362",
   "metadata": {},
   "source": [
    "### Incorrect Object Type\n",
    "The first argument to the `build(...)` method is the type of the object we want to build. Let's provide an incorrect type, such as `Int64` instead of `MySimpleStudentModel` and see how the system reacts.\n",
    "\n",
    "* _What do you expect to happen_? This bug (which is a user logic error) should be caught by the system, and it should throw an error. The user is asking for a method with incorrect parameters in the type sense, so the system should not be able to find a matching method, and thus throw an error.\n",
    "\n",
    "Is this what happens? Let's try it out."
   ]
  },
  {
   "cell_type": "code",
   "execution_count": 5,
   "id": "40d45ec8",
   "metadata": {},
   "outputs": [
    {
     "ename": "MethodError",
     "evalue": "MethodError: no method matching build(::Type{Int64}, ::@NamedTuple{firstname::String, lastname::String, sid::Int64, netid::String})\nThe function `build` exists, but no method is defined for this combination of argument types.\n\nClosest candidates are:\n  build(!Matched::Type{MySimpleStudentModel}, ::NamedTuple)\n   @ Main ~/Desktop/julia_work/CHEME-140-eCornell-Repository/CHEME-140-eCornell-Repository/courses/CHEME-141/module-2/jl_notebook_cell_df34fa98e69747e1a8f8a730347b8e2f_W6sZmlsZQ==.jl:13\n",
     "output_type": "error",
     "traceback": [
      "MethodError: no method matching build(::Type{Int64}, ::@NamedTuple{firstname::String, lastname::String, sid::Int64, netid::String})\n",
      "The function `build` exists, but no method is defined for this combination of argument types.\n",
      "\n",
      "Closest candidates are:\n",
      "  build(!Matched::Type{MySimpleStudentModel}, ::NamedTuple)\n",
      "   @ Main ~/Desktop/julia_work/CHEME-140-eCornell-Repository/CHEME-140-eCornell-Repository/courses/CHEME-141/module-2/jl_notebook_cell_df34fa98e69747e1a8f8a730347b8e2f_W6sZmlsZQ==.jl:13\n",
      "\n",
      "\n",
      "Stacktrace:\n",
      " [1] top-level scope\n",
      "   @ ~/Desktop/julia_work/CHEME-140-eCornell-Repository/CHEME-140-eCornell-Repository/courses/CHEME-141/module-2/jl_notebook_cell_df34fa98e69747e1a8f8a730347b8e2f_X14sZmlsZQ==.jl:1"
     ]
    }
   ],
   "source": [
    "build(Int64, (firstname = \"John\", lastname = \"Doe\", sid = 123456, netid = \"jbd123\")) # Example usage, wrong object build type"
   ]
  },
  {
   "cell_type": "markdown",
   "id": "758950b7",
   "metadata": {},
   "source": [
    "__Yes!__ The system throws [a `MethodError`](https://docs.julialang.org/en/v1/base/base/#Core.MethodError) indicating that there is no method matching `build(::Type{Int64}; data::NamedTuple)`. The system is doing the right thing by throwing an error, and the error message is clear and helpful."
   ]
  },
  {
   "cell_type": "markdown",
   "id": "2215dee8",
   "metadata": {},
   "source": [
    "### Missing Fields\n",
    "Next, let's provide a `data::NamedTuple` with missing fields. For example, we can provide a `NamedTuple` with only the `firstname::String` field and see how the system reacts.\n",
    "\n",
    "* _What do you expect to happen_? This bug will be caught by the system, but the question is should it be, i.e., should we handle this? Yes, this is a user error, and if our documentation is clear, the user should know that they need to provide all fields. But thjis case seems like a reasonable case that we gracefully handle, so let's see what happens.\n",
    "\n",
    "What happens when we try this out?"
   ]
  },
  {
   "cell_type": "code",
   "execution_count": 6,
   "id": "d7619855",
   "metadata": {},
   "outputs": [
    {
     "ename": "ErrorException",
     "evalue": "type NamedTuple has no field lastname",
     "output_type": "error",
     "traceback": [
      "type NamedTuple has no field lastname\n",
      "\n",
      "Stacktrace:\n",
      " [1] getproperty\n",
      "   @ ./Base.jl:49 [inlined]\n",
      " [2] build(modeltype::Type{MySimpleStudentModel}, data::@NamedTuple{firstname::String})\n",
      "   @ Main ~/Desktop/julia_work/CHEME-140-eCornell-Repository/CHEME-140-eCornell-Repository/courses/CHEME-141/module-2/jl_notebook_cell_df34fa98e69747e1a8f8a730347b8e2f_W6sZmlsZQ==.jl:35\n",
      " [3] top-level scope\n",
      "   @ ~/Desktop/julia_work/CHEME-140-eCornell-Repository/CHEME-140-eCornell-Repository/courses/CHEME-141/module-2/jl_notebook_cell_df34fa98e69747e1a8f8a730347b8e2f_X20sZmlsZQ==.jl:1"
     ]
    }
   ],
   "source": [
    "build(MySimpleStudentModel, (firstname = \"John\",)) # Example usage, we didn't provide all fields"
   ]
  },
  {
   "cell_type": "markdown",
   "id": "f4edd2ad",
   "metadata": {},
   "source": [
    "Ok, the system found the method, but it threw an error indicating that the `lastname` field is missing. The error message is clear and helpful. The system is doing the right thing by throwing an error, but it would be better if we provided a default value for the missing field instead of throwing an error?\n",
    "* _What do you think_? Yes, this is a user error, but it is also a reasonable case that we could handle gracefully. For example, we could provide a default value for the missing field, or we could throw an error with a more helpful message. Let's check this out and see what happens.\n",
    "\n",
    "`Uncomment` the error handling code in the `build(...)` method, comment out the block that throws the error and reload the modified method. We should now provide default values for the missing field. This way, the system will not throw an error, and a student model will be created and returned with the default value for the missing field.\n",
    "\n",
    "Did we get the expected behavior?"
   ]
  },
  {
   "cell_type": "code",
   "execution_count": 7,
   "id": "20900cca",
   "metadata": {},
   "outputs": [
    {
     "ename": "ErrorException",
     "evalue": "type NamedTuple has no field lastname",
     "output_type": "error",
     "traceback": [
      "type NamedTuple has no field lastname\n",
      "\n",
      "Stacktrace:\n",
      " [1] getproperty\n",
      "   @ ./Base.jl:49 [inlined]\n",
      " [2] build(modeltype::Type{MySimpleStudentModel}, data::@NamedTuple{firstname::String})\n",
      "   @ Main ~/Desktop/julia_work/CHEME-140-eCornell-Repository/CHEME-140-eCornell-Repository/courses/CHEME-141/module-2/jl_notebook_cell_df34fa98e69747e1a8f8a730347b8e2f_W6sZmlsZQ==.jl:35\n",
      " [3] top-level scope\n",
      "   @ ~/Desktop/julia_work/CHEME-140-eCornell-Repository/CHEME-140-eCornell-Repository/courses/CHEME-141/module-2/jl_notebook_cell_df34fa98e69747e1a8f8a730347b8e2f_X22sZmlsZQ==.jl:1"
     ]
    }
   ],
   "source": [
    "build(MySimpleStudentModel, (firstname = \"John\",)) # Example usage, we didn't provide all fields"
   ]
  },
  {
   "cell_type": "markdown",
   "id": "7d029169",
   "metadata": {},
   "source": [
    "__Hmmm, Yes, we get the expected behavior__: That works, but it is not ideal. The system should not be silently providing default values for missing fields without informing the user. Maybe it would be better if we provided a warning that the field is missing and a default value is being used.\n",
    "\n",
    "`Uncomment` the warning code in the `build(...)` method, and reload the modified method. We should now provide a warning that the field is missing and a default value is being used."
   ]
  },
  {
   "cell_type": "code",
   "execution_count": 8,
   "id": "e3e1e21d",
   "metadata": {},
   "outputs": [
    {
     "ename": "ErrorException",
     "evalue": "type NamedTuple has no field lastname",
     "output_type": "error",
     "traceback": [
      "type NamedTuple has no field lastname\n",
      "\n",
      "Stacktrace:\n",
      " [1] getproperty\n",
      "   @ ./Base.jl:49 [inlined]\n",
      " [2] build(modeltype::Type{MySimpleStudentModel}, data::@NamedTuple{firstname::String})\n",
      "   @ Main ~/Desktop/julia_work/CHEME-140-eCornell-Repository/CHEME-140-eCornell-Repository/courses/CHEME-141/module-2/jl_notebook_cell_df34fa98e69747e1a8f8a730347b8e2f_W6sZmlsZQ==.jl:35\n",
      " [3] top-level scope\n",
      "   @ ~/Desktop/julia_work/CHEME-140-eCornell-Repository/CHEME-140-eCornell-Repository/courses/CHEME-141/module-2/jl_notebook_cell_df34fa98e69747e1a8f8a730347b8e2f_X24sZmlsZQ==.jl:1"
     ]
    }
   ],
   "source": [
    "build(MySimpleStudentModel, (firstname = \"John\",)) # Example usage, we didn't provide all fields, should use default value and get a warning"
   ]
  },
  {
   "cell_type": "markdown",
   "id": "01f84a77",
   "metadata": {},
   "source": [
    "__Ok, that is better!__ Now the system provides a warning that the field is missing and a default value is being used. This way, the user is informed that something is not right, and they can take action if needed. Furthermore, the system is still able to create a valid model instance with the available data. No crashes, no errors, just a warning and a valid model instance (that can be updated becuase it is a mutable type)."
   ]
  },
  {
   "cell_type": "markdown",
   "id": "269d0a8a",
   "metadata": {},
   "source": [
    "## Task 2: Break the Student Model Find Method\n",
    "In this task, let's try to break the `find(...)` method implementation. We'll provide unexpected inputs, such as a collection of student models with missing fields, and see how the system reacts. \n",
    "\n",
    "To begin, build some test data to use with the `find(...)` method with realistic values, such as repeated (non-unique, and perhaps missing) values for the names, and (perhaps) non-unique (or missing) values for the student ID and netid fields.\n",
    "* _Why?_ This is what we call in data science a _dirty dataset_, i.e., a dataset that is not perfect and has some noise and mistakes in it, thus, it is like real-life, not perfect. Testing with real data is important because it allows us to test the robustness of the `find(...)` method and see how it handles unexpected inputs. The world is awash with dirty data, and we need to be able to handle it.\n",
    "\n",
    "Let's start by building a collection of possible student fornames, and surnames, that we'll use in student model generation. The names datasets are loaded using [the `MyCommonForenameDataset()`](https://varnerlab.github.io/VLDataScienceMachineLearningPackage.jl/dev/data/#VLDataScienceMachineLearningPackage.MyCommonForenameDataset) and [the `MyCommonSurnameDataset()`](https://varnerlab.github.io/VLDataScienceMachineLearningPackage.jl/dev/data/#VLDataScienceMachineLearningPackage.MyCommonSurnameDataset) functions from [the `VLDataScienceMachineLearningPackage.jl` package.](https://github.com/varnerlab/VLDataScienceMachineLearningPackage.jl)\n",
    "\n",
    "We'll store the forenames and surnames in `set_of_firstnames::Set{String}` and `set_of_lastnames::Set{String}` variables, respectively. Then, we'll use these datasets to build a collection of student models with realistic values."
   ]
  },
  {
   "cell_type": "code",
   "execution_count": 9,
   "id": "d5da6f3d",
   "metadata": {},
   "outputs": [],
   "source": [
    "set_of_firstnames, set_of_lastnames = let \n",
    "    \n",
    "    # initialize -\n",
    "    set_of_firstnames = Set{String}();\n",
    "    set_of_lastnames = Set{String}();\n",
    "\n",
    "    # Get names from the VLDataScienceMachineLearningPackage.jl package\n",
    "    fornames_df = MyCommonForenameDataset(); # firstnames dataset\n",
    "    surnames_df = MyCommonSurnameDataset(); # lastnames dataset\n",
    "\n",
    "    # build fornames set - \n",
    "    for name in eachrow(fornames_df)\n",
    "        push!(set_of_firstnames, name[\"Romanized Name\"]);\n",
    "    end\n",
    "\n",
    "    # build surnames set -\n",
    "    for name in eachrow(surnames_df)\n",
    "\n",
    "        value = name[\"Romanized Name\"];\n",
    "        if ismissing(value) == true\n",
    "            continue; # skip missing values\n",
    "        end\n",
    "        push!(set_of_lastnames, value);\n",
    "    end\n",
    "\n",
    "    set_of_firstnames, set_of_lastnames # return -\n",
    "end;"
   ]
  },
  {
   "cell_type": "markdown",
   "id": "f41e25da",
   "metadata": {},
   "source": [
    "Next, let's build a collection of student models with realistic values by providing repeated (non-unique) values for the names, and non-unique values for the student ID and netid fields, and in some cases missing values."
   ]
  },
  {
   "cell_type": "code",
   "execution_count": 10,
   "id": "44bad068",
   "metadata": {},
   "outputs": [
    {
     "data": {
      "text/plain": [
       "1000-element Vector{MySimpleStudentModel}:\n",
       " MySimpleStudentModel(\"Reem\", \"Myers\", 0, \"netid_Reem_Myers_0\")\n",
       " MySimpleStudentModel(\"Olga\", \"Arben\", 8247, \"netid_Olga_Arben_8247\")\n",
       " MySimpleStudentModel(\"Isabella\", \"Moreira\", 9082, \"netid_Isabella_Moreira_9082\")\n",
       " MySimpleStudentModel(\"Safija\", \"Lefèvre\", 9020, \"\")\n",
       " MySimpleStudentModel(\"Elias\", \"Tô\", 7178, \"netid_Elias_Tô_7178\")\n",
       " MySimpleStudentModel(\"Arthur\", \"\", 9377, \"netid_Arthur__9377\")\n",
       " MySimpleStudentModel(\"\", \"Ismailov\", 0, \"netid__Ismailov_0\")\n",
       " MySimpleStudentModel(\"Anna\", \"Salo\", 9921, \"netid_Anna_Salo_9921\")\n",
       " MySimpleStudentModel(\"Esther\", \"Marchenko\", 4326, \"netid_Esther_Marchenko_4326\")\n",
       " MySimpleStudentModel(\"Ayşa\", \"Lei\", 5667, \"netid_Ayşa_Lei_5667\")\n",
       " ⋮\n",
       " MySimpleStudentModel(\"Sahar\", \"Jansons\", 6098, \"netid_Sahar_Jansons_6098\")\n",
       " MySimpleStudentModel(\"\", \"Wagener\", 1794, \"netid__Wagener_1794\")\n",
       " MySimpleStudentModel(\"Diego\", \"De Smet\", 3212, \"netid_Diego_De Smet_3212\")\n",
       " MySimpleStudentModel(\"Wateen\", \"Berisha\", 4666, \"\")\n",
       " MySimpleStudentModel(\"Kaloyan\", \"Gjika\", 6102, \"netid_Kaloyan_Gjika_6102\")\n",
       " MySimpleStudentModel(\"Kaia\", \"Bravo\", 9628, \"netid_Kaia_Bravo_9628\")\n",
       " MySimpleStudentModel(\"Roko\", \"Azevedo\", 9849, \"netid_Roko_Azevedo_9849\")\n",
       " MySimpleStudentModel(\"Jógvan\", \"Silva\", 1326, \"netid_Jógvan_Silva_1326\")\n",
       " MySimpleStudentModel(\"Heikapu\", \"Kučerová\", 9245, \"netid_Heikapu_Kučerová_9245\")"
      ]
     },
     "metadata": {},
     "output_type": "display_data"
    }
   ],
   "source": [
    "students = let\n",
    "\n",
    "    # initialize -\n",
    "    number_of_students = 1000; # number of students to create\n",
    "    θ = 0.1; # TODO: set the probability of have a missing field\n",
    "    students = Array{MySimpleStudentModel,1}(undef, number_of_students); # create an array of students\n",
    "\n",
    "    # main loop - create a new student with random data\n",
    "    for i ∈ 1:number_of_students\n",
    "\n",
    "        firstname = rand(set_of_firstnames); # select a random first name\n",
    "        if rand() < θ\n",
    "            firstname = \"\"; # empty string to simulate missing data\n",
    "        end\n",
    "       \n",
    "        lastname = rand(set_of_lastnames); # select a random last name\n",
    "        if rand() < θ\n",
    "            lastname = \"\"; # empty string to simulate missing data\n",
    "        end\n",
    "\n",
    "        sid = rand(1000:9999); # random student id\n",
    "        if rand() < θ\n",
    "            sid = 0; # set to -1 to simulate missing data\n",
    "        end\n",
    "\n",
    "        netid = \"netid_$(firstname)_$(lastname)_$(sid)\"; # create a netid from the firstname, lastname and sid\n",
    "        if rand() < θ\n",
    "            netid = \"\"; # set to default to simulate missing data\n",
    "        end\n",
    "\n",
    "        # build the student model and add it to the array\n",
    "        students[i] = build(MySimpleStudentModel, (firstname = firstname, lastname = lastname, sid = sid, netid = netid));\n",
    "    end\n",
    "\n",
    "    students; # return the array of students\n",
    "end"
   ]
  },
  {
   "cell_type": "markdown",
   "id": "56637cab",
   "metadata": {},
   "source": [
    "### Can we Break the Find Method?\n",
    "\n",
    "Next, we'll search our collection of student models using the `find(...)` method with different combinations of search fields. Let's make a case for using the `||` short-circuiting operator in our search criteria in our new `find(...)` method implementation.\n",
    "* _Why OR instead of AND?_ The shortcut OR operator `||` allows us to search for a student model when we only have some of the student data matching the search criteria, e.g., when `firstname` is known but `lastname` is not. The new `find(...)` method implementation will take advantage of this behavior and it will return all students that match the criteria, even if some fields are missing or have default values.\n",
    "\n",
    "Select a random student model from the collection and use the `find(...)` method to search for it using different combinations of search fields. For example, we can search for a student by their first name, last name, student ID, or netid."
   ]
  },
  {
   "cell_type": "code",
   "execution_count": 43,
   "id": "51329df8",
   "metadata": {},
   "outputs": [
    {
     "data": {
      "text/plain": [
       "MySimpleStudentModel(\"Mark\", \"Conti\", 0, \"netid_Mark_Conti_0\")"
      ]
     },
     "metadata": {},
     "output_type": "display_data"
    }
   ],
   "source": [
    "random_test_student = rand(students) # select a random student from the array"
   ]
  },
  {
   "cell_type": "markdown",
   "id": "af5be894",
   "metadata": {},
   "source": [
    "Do we get the expected behavior, for example, when searching for a student by their last name?\n",
    "* _What should we expect to happen?_ We expect to find the student models with the matching last name, even if the other fields are different, i.e., we should see all students with the last name \"Smith\" regardless of their first name, netid, or student ID. If the last name is missing, we'll find all students with missing last names.\n",
    "\n",
    "Do we see the expected behavior?"
   ]
  },
  {
   "cell_type": "code",
   "execution_count": 44,
   "id": "b1a4c5e8",
   "metadata": {},
   "outputs": [
    {
     "data": {
      "text/plain": [
       "Set{MySimpleStudentModel} with 2 elements:\n",
       "  MySimpleStudentModel(\"Mark\", \"Conti\", 0, \"netid_Mark_Conti_0\")\n",
       "  MySimpleStudentModel(\"Sherifa\", \"Conti\", 4107, \"netid_Sherifa_Conti_4107\")"
      ]
     },
     "metadata": {},
     "output_type": "display_data"
    }
   ],
   "source": [
    "students_that_we_found = find(students, lastname=random_test_student.lastname)"
   ]
  },
  {
   "cell_type": "markdown",
   "id": "cc76051e",
   "metadata": {},
   "source": [
    "Ok, let's try searching for a student by their netid. \n",
    "* _What should we expect to happen?_ We expect to find a set of all student models with the matching netid, even if the other fields are different, i.e., we could have multiple students with the same netid (not supposed to, but it happens in the case of dirty data), so we should see all of them.\n",
    "* _What about when the netid is missing?_ We expect to find all students with missing netid, i.e., all students that have a default value for the netid field.\n",
    "\n",
    "Do we see the expected behavior?"
   ]
  },
  {
   "cell_type": "code",
   "execution_count": 45,
   "id": "2ad13001",
   "metadata": {},
   "outputs": [
    {
     "data": {
      "text/plain": [
       "Set{MySimpleStudentModel} with 1 element:\n",
       "  MySimpleStudentModel(\"Mark\", \"Conti\", 0, \"netid_Mark_Conti_0\")"
      ]
     },
     "metadata": {},
     "output_type": "display_data"
    }
   ],
   "source": [
    "students_that_we_found = find(students, netid=random_test_student.netid)"
   ]
  },
  {
   "cell_type": "markdown",
   "id": "82748286",
   "metadata": {},
   "source": [
    "Ok, how about searching for a student by their student ID?\n",
    "* _What should we expect to happen?_ We expect to find a set of all student models with the matching student ID, even if the other fields are different, i.e., we could have multiple students with the same student ID in the case of dirty data, so we should see all of them.\n",
    "* _What about when the student ID is missing?_ We expect to find all students with missing student ID, i.e., all students that have a default value for the student ID field.\n",
    "\n",
    "Do we see the expected behavior?"
   ]
  },
  {
   "cell_type": "code",
   "execution_count": 46,
   "id": "0edca897",
   "metadata": {},
   "outputs": [
    {
     "data": {
      "text/plain": [
       "Set{MySimpleStudentModel} with 97 elements:\n",
       "  MySimpleStudentModel(\"Elshan\", \"Rivera\", 0, \"netid_Elshan_Rivera_0\")\n",
       "  MySimpleStudentModel(\"Kazi\", \"Kaneko\", 0, \"netid_Kazi_Kaneko_0\")\n",
       "  MySimpleStudentModel(\"Jovan\", \"Gjoni\", 0, \"netid_Jovan_Gjoni_0\")\n",
       "  MySimpleStudentModel(\"Martim\", \"Camilleri\", 0, \"netid_Martim_Camilleri_0\")\n",
       "  MySimpleStudentModel(\"\", \"Jeon\", 0, \"netid__Jeon_0\")\n",
       "  MySimpleStudentModel(\"\", \"Radović\", 0, \"netid__Radović_0\")\n",
       "  MySimpleStudentModel(\"Konul\", \"Hofer\", 0, \"\")\n",
       "  MySimpleStudentModel(\"Paninnguaq\", \"Veselá\", 0, \"netid_Paninnguaq_Veselá_0\")\n",
       "  MySimpleStudentModel(\"Diego\", \"Wilson\", 0, \"netid_Diego_Wilson_0\")\n",
       "  MySimpleStudentModel(\"Harper\", \"\", 0, \"\")\n",
       "  MySimpleStudentModel(\"Solomiya\", \"Lewis\", 0, \"netid_Solomiya_Lewis_0\")\n",
       "  MySimpleStudentModel(\"Mark\", \"Conti\", 0, \"netid_Mark_Conti_0\")\n",
       "  MySimpleStudentModel(\"Ella\", \"Thường\", 0, \"\")\n",
       "  MySimpleStudentModel(\"Tomáš\", \"Markov\", 0, \"netid_Tomáš_Markov_0\")\n",
       "  MySimpleStudentModel(\"Inès\", \"Karlsson\", 0, \"netid_Inès_Karlsson_0\")\n",
       "  MySimpleStudentModel(\"Raya\", \"\", 0, \"netid_Raya__0\")\n",
       "  MySimpleStudentModel(\"Alikhan\", \"Ilves\", 0, \"\")\n",
       "  MySimpleStudentModel(\"\", \"Krūmiņš\", 0, \"netid__Krūmiņš_0\")\n",
       "  MySimpleStudentModel(\"Alexey\", \"Fonseca\", 0, \"netid_Alexey_Fonseca_0\")\n",
       "  ⋮ "
      ]
     },
     "metadata": {},
     "output_type": "display_data"
    }
   ],
   "source": [
    "students_that_we_found = find(students, sid=random_test_student.sid)"
   ]
  },
  {
   "cell_type": "markdown",
   "id": "8955b865",
   "metadata": {},
   "source": [
    "Finally, so the `find(...)` method seems to be working as expected, but what happens if we intentially provide the wrong type of data for the search fields? For example, we can provide an `Int64` instead of a `String` for the `firstname` field.\n",
    "* _What should we expect to happen?_ We expect the system to throw an error indicating that there is no method matching `find(...)` with the provided arguments, i.e., the system should not be able to find a matching method for the provided arguments.\n",
    "\n",
    "Is this what happens?"
   ]
  },
  {
   "cell_type": "code",
   "execution_count": 47,
   "id": "e995b801",
   "metadata": {},
   "outputs": [
    {
     "ename": "TypeError",
     "evalue": "TypeError: in keyword argument sid, expected Int64, got a value of type String",
     "output_type": "error",
     "traceback": [
      "TypeError: in keyword argument sid, expected Int64, got a value of type String\n",
      "\n",
      "Stacktrace:\n",
      " [1] top-level scope\n",
      "   @ ~/Desktop/julia_work/CHEME-140-eCornell-Repository/CHEME-140-eCornell-Repository/courses/CHEME-141/module-2/jl_notebook_cell_df34fa98e69747e1a8f8a730347b8e2f_X55sZmlsZQ==.jl:1"
     ]
    }
   ],
   "source": [
    "students_that_we_found = find(students, sid=\"0\")"
   ]
  },
  {
   "cell_type": "markdown",
   "id": "1dcf1ff5",
   "metadata": {},
   "source": [
    "What about the case where we initially provide bad data to the `find(...)` method, for example, for the `firstname` field, we provide a `String` that is not in the set of first names, or for the sid field, we provide an `Int64` that is not in the set of student IDs?\n",
    "* _What should we expect to happen?_ We expect the `find(...)` method to return an empty set, i.e., no students found. Alternatively, depending upon the random values we provided, we could get a set of students that match one or more other search criteria. \n",
    "\n",
    "For example a negative student ID, or a netid that is not in the set of netids, should return an empty set, i.e., no students found. But if we have a `netid = \"\"`, we should find all students with missing netid, i.e., all students that have a default value for the netid field."
   ]
  },
  {
   "cell_type": "code",
   "execution_count": 50,
   "id": "ccaf13c6",
   "metadata": {},
   "outputs": [
    {
     "data": {
      "text/plain": [
       "Set{MySimpleStudentModel} with 92 elements:\n",
       "  MySimpleStudentModel(\"Julija\", \"Van Dyk\", 9194, \"\")\n",
       "  MySimpleStudentModel(\"\", \"Urbonienė\", 7883, \"\")\n",
       "  MySimpleStudentModel(\"Hana\", \"Grech\", 7877, \"\")\n",
       "  MySimpleStudentModel(\"\", \"Chávez\", 7444, \"\")\n",
       "  MySimpleStudentModel(\"Petar\", \"Heng\", 8420, \"\")\n",
       "  MySimpleStudentModel(\"Konul\", \"Hofer\", 0, \"\")\n",
       "  MySimpleStudentModel(\"Vasilije\", \"Claes\", 3991, \"\")\n",
       "  MySimpleStudentModel(\"Alikhan\", \"\", 1173, \"\")\n",
       "  MySimpleStudentModel(\"Bisera\", \"Kvaran\", 5931, \"\")\n",
       "  MySimpleStudentModel(\"Arman\", \"\", 9677, \"\")\n",
       "  MySimpleStudentModel(\"Mahammad\", \"Reyes\", 4171, \"\")\n",
       "  MySimpleStudentModel(\"Hinato\", \"Kawano\", 5476, \"\")\n",
       "  MySimpleStudentModel(\"Amaris\", \"Tahirović\", 6909, \"\")\n",
       "  MySimpleStudentModel(\"Peter\", \"Kazlauskienė\", 4544, \"\")\n",
       "  MySimpleStudentModel(\"Matei\", \"Thill\", 8679, \"\")\n",
       "  MySimpleStudentModel(\"Amēlija\", \"Reuter\", 6262, \"\")\n",
       "  MySimpleStudentModel(\"Harper\", \"\", 0, \"\")\n",
       "  MySimpleStudentModel(\"Ella\", \"Thường\", 0, \"\")\n",
       "  MySimpleStudentModel(\"Snežana\", \"\", 6140, \"\")\n",
       "  ⋮ "
      ]
     },
     "metadata": {},
     "output_type": "display_data"
    }
   ],
   "source": [
    "students_that_we_found = find(students, sid=-1234, lastname=\"NVDA\", netid=\"\")"
   ]
  },
  {
   "cell_type": "markdown",
   "id": "fcd4ca34",
   "metadata": {},
   "source": [
    "Taken together, the `find(...)` method seems to be robust enough to handle unexpected inputs and return a meaningful result, even if the inputs are not perfect."
   ]
  }
 ],
 "metadata": {
  "kernelspec": {
   "display_name": "Julia 1.11.6",
   "language": "julia",
   "name": "julia-1.11"
  },
  "language_info": {
   "file_extension": ".jl",
   "mimetype": "application/julia",
   "name": "julia",
   "version": "1.11.6"
  }
 },
 "nbformat": 4,
 "nbformat_minor": 5
}
