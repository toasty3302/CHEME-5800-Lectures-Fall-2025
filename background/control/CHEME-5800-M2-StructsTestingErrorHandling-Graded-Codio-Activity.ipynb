{
 "cells": [
  {
   "cell_type": "markdown",
   "id": "ef850906-39b7-4c0e-b1b9-5bb627e3baf6",
   "metadata": {},
   "source": [
    "# Activity: Debug our Fibonacci Calculation\n",
    "In this activity, we'll continue the development of our Fibonacci sequence calculations. Previously, we constructed an empty `MyFibonacciSequenceModel` struct instance, by calling the default `MyFibonacciSequenceModel()` constructor method. We then passed this model instance to the `fibonacci!(...)` method to compute the Fibonacci numbers for a given index. This worked fine, but we can do better!\n",
    "\n",
    "We'll formulate a `build(...)` method which is responsible for properly constructing  `MyFibonacciSequenceModel` instances, and we'll make sure the `fibonacci!(...)` method is robust to bad inputs, to ensure it works correctly, and responds gracefully to errors.\n",
    "\n",
    "### Review\n",
    " A [Fibonacci sequence](https://en.wikipedia.org/wiki/Fibonacci_sequence) is composed of the Fibonacci numbers $F_{n}$ where:\n",
    "$$\n",
    "\\begin{align*}\n",
    "F_{0} & = 0 \\quad n = 0\\\\\n",
    "F_{1} & = 1 \\quad n = 1\\\\\n",
    "F_{n} & = F_{n-2} + F_{n-1}\\quad{n\\geq{2}}\n",
    "\\end{align*}\n",
    "$$\n",
    "\n",
    "Let's implement a `build(...)` method to create a `MyFibonacciSequenceModel` instance with a specified size, and default values for the other arguments. We'll then pass this instance to the `fibonacci!(...)` method to compute the Fibonacci numbers for a given index.\n",
    "\n",
    "Let's go!\n",
    "\n",
    "___\n"
   ]
  },
  {
   "cell_type": "markdown",
   "id": "1207484a",
   "metadata": {},
   "source": [
    "## Setup, Data, and Prerequisites\n",
    "First, we set up the computational environment by including the `Include.jl` file and loading any needed resources.\n",
    "* The [include command](https://docs.julialang.org/en/v1/base/base/#include) evaluates the contents of the input source file, `Include.jl`, in the notebook's global scope. The `Include.jl` file sets paths, loads required external packages, etc. For additional information on functions and types used in this material, see the [Julia programming language documentation](https://docs.julialang.org/en/v1/). \n",
    "* In addition to standard Julia libraries, we'll also use [the `VLDataScienceMachineLearningPackage.jl` package](https://github.com/varnerlab/VLDataScienceMachineLearningPackage.jl), check out that documentation for more information on the functions and types used in this material."
   ]
  },
  {
   "cell_type": "code",
   "execution_count": 1,
   "id": "5c2f4bb0",
   "metadata": {},
   "outputs": [],
   "source": [
    "include(\"Include.jl\"); # load the Include.jl file"
   ]
  },
  {
   "cell_type": "markdown",
   "id": "8d33116b",
   "metadata": {},
   "source": [
    "### Types and Functions\n",
    "Let's define the `MyFibonacciSequenceModel` type, and some no data iteration tagging types (which tells us which iteration method to use). "
   ]
  },
  {
   "cell_type": "code",
   "execution_count": 2,
   "id": "41faa933",
   "metadata": {},
   "outputs": [
    {
     "data": {
      "text/plain": [
       "MyWhileLoopIterationModel"
      ]
     },
     "metadata": {},
     "output_type": "display_data"
    }
   ],
   "source": [
    "abstract type AbstractSequenceModel end # This is an abstract type for sequence models\n",
    "abstract type AbstractIterationModel end # This is an abstract type for iteration models\n",
    "\n",
    "\"\"\"\n",
    "    MyFibonacciSequenceModel <: AbstractSequenceModel\n",
    "\n",
    "A mutable struct to represent a Fibonacci sequence. \n",
    "\n",
    "### Fields\n",
    "- `n::Int64`: The number of elements in the sequence.\n",
    "- `sequence::Dict{Int64, Int64}`: The sequence itself, stored as a dictionary with indices as keys and Fibonacci numbers as values.\n",
    "\n",
    "\"\"\"\n",
    "mutable struct MyFibonacciSequenceModel <: AbstractSequenceModel\n",
    "\n",
    "    # data -\n",
    "    n::Int64 # number of elements in the sequence\n",
    "    sequence::Dict{Int64, Int64} # the sequence itself\n",
    "\n",
    "    # constructor -\n",
    "    MyFibonacciSequenceModel() = new();\n",
    "end\n",
    "\n",
    "\"\"\"\n",
    "    MyForLoopIterationModel <: AbstractIterationModel\n",
    "\n",
    "An immutable struct to represent a for loop iteration model. This type has no fields and serves as a marker for a for loop iteration implementation.\n",
    "\"\"\"\n",
    "struct MyForLoopIterationModel <: AbstractIterationModel\n",
    "    MyForLoopIterationModel() = new();\n",
    "end\n",
    "\n",
    "\"\"\"\n",
    "    MyWhileLoopIterationModel <: AbstractIterationModel\n",
    "\n",
    "An immutable struct to represent a while loop iteration model. This type has no fields and serves as a marker for a while loop iteration implementation.\n",
    "\"\"\"\n",
    "struct MyWhileLoopIterationModel <: AbstractIterationModel\n",
    "    MyWhileLoopIterationModel() = new();\n",
    "end"
   ]
  },
  {
   "cell_type": "markdown",
   "id": "31f05ec6",
   "metadata": {},
   "source": [
    "The `fibonacci!(...)` method will compute the Fibonacci numbers for a given index, given an instance of `MyFibonacciSequenceModel`. Remember, the `!` at the end of the method name indicates that this method will modify the input model instance in place.\n",
    "* _Mutating methods_: In Julia, a `!` at the end of a function name indicates that the function _modifies its arguments_ in some way that will be visible after the method execution has ended. In this case, the `fibonacci!` method modifies the `my_sequence_model` by populating its `sequence` field with Fibonacci numbers.\n",
    "* _Is there something magical about the `!` character_? No adding the `!` character to the end of function name is _not magic_. It's just a convention to help identify functions that may change state or data outide the local scope of the function. In this particular case, the `fibonacci!` method modifies the `my_sequence_model` by populating its `sequence` field with Fibonacci numbers.\n",
    "* _Optional keyword arguments_: The `iterationmodel::T` optional argument defaults to an instance of `MyForLoopIterationModel`, thus, we'll use the for-loop iteration method by default. If we wanted to use our while loop implementation, should we pass in a `MyWhileLoopIterationModel` instance."
   ]
  },
  {
   "cell_type": "code",
   "execution_count": 3,
   "id": "53d7e3a9",
   "metadata": {},
   "outputs": [],
   "source": [
    "# -- PRIVATE METHODS BELOW HERE ------------------------------------------------------------------------------------------------------- #\n",
    "function _fibonacci(sequencemodel::MyFibonacciSequenceModel, iterationmodel::MyForLoopIterationModel)\n",
    "\n",
    "    @info \"Debug message: We are using the for loop iteration model\"\n",
    "\n",
    "    # initialize -\n",
    "    n = sequencemodel.n;\n",
    "    sequence = Dict{Int64, Int64}();\n",
    "\n",
    "    # we know the first two elements -\n",
    "    sequence[0] = 0;\n",
    "    sequence[1] = 1;\n",
    "\n",
    "    # main loop, compute F₂, ....\n",
    "    for i ∈ 2:n # what is this short-hand for?\n",
    "        sequence[i] = sequence[i-1] + sequence[i-2]\n",
    "    end\n",
    "\n",
    "    # update the model -\n",
    "    sequencemodel.sequence = sequence;\n",
    "end\n",
    "\n",
    "function _fibonacci(sequencemodel::MyFibonacciSequenceModel, iterationmodel::MyWhileLoopIterationModel)\n",
    "\n",
    "    @info \"Debug message: We are using the while loop iteration model\"\n",
    "\n",
    "    # check: is n legit?\n",
    "    n = sequencemodel.n;\n",
    "    sequence = Dict{Int64, Int64}();\n",
    "    \n",
    "    # main loop \n",
    "    should_loop_continue = true\n",
    "    i = 0;\n",
    "    while (should_loop_continue == true)\n",
    "       \n",
    "        # conditional logic: hardcode 0, 1 else gets all other cases\n",
    "        if (i == 0)\n",
    "            sequence[i] = 0; \n",
    "        elseif (i == 1)\n",
    "            sequence[i] = 1;\n",
    "        else\n",
    "            sequence[i] = sequence[i - 1] + sequence[i - 2]\n",
    "        end\n",
    "\n",
    "        # update i -\n",
    "        i += 1; # this is short-hand for i = i + 1\n",
    "\n",
    "        # check: should we go around again?\n",
    "        if (i>n)\n",
    "            should_loop_continue = false;\n",
    "        end\n",
    "    end\n",
    "    \n",
    "    # update the model -\n",
    "    sequencemodel.sequence = sequence;\n",
    "end\n",
    "# -- PRIVATE METHODS ABOVE HERE ------------------------------------------------------------------------------------------------------- #\n",
    "\n",
    "# -- PUBLIC METHODS BELOW HERE -------------------------------------------------------------------------------------------------------- #\n",
    "\"\"\"\n",
    "    function fibonacci!(sequencemodel::MyFibonacciSequenceModel; \n",
    "        iterationmodel::T = MyForLoopIterationModel()) where T <: AbstractIterationModel\n",
    "\n",
    "This function computes the Fibonacci sequence, given sequence and iteration models. \n",
    "The sequence model is updated in place (the sequence model is mutable). \n",
    "The iteration model is used to determine the type of loop to use.\n",
    "\n",
    "# Arguments\n",
    "- `sequencemodel::MyFibonacciSequenceModel`: The sequence model to update. The sequence model must have a field `n::Int64` that is the number of elements to compute.\n",
    "- `iterationmodel::T`: The iteration model to use. It must be a subtype of `AbstractIterationModel`. The default is `MyForLoopIterationModel`.\n",
    "\n",
    "There is no return value. The `sequencemodel` is updated in place.\n",
    "\"\"\"\n",
    "function fibonacci!(sequencemodel::MyFibonacciSequenceModel; \n",
    "    iterationmodel::T = MyForLoopIterationModel()) where T <: AbstractIterationModel\n",
    "    \n",
    "    # Status: If we get here, then we know n >= 0\n",
    "    _fibonacci(sequencemodel, iterationmodel); # multiple dispatch to the appropriate implementation\n",
    "end;"
   ]
  },
  {
   "cell_type": "markdown",
   "id": "fc23da0f",
   "metadata": {},
   "source": [
    "## Task 1: Create a build method for MyFibonacciSequenceModel\n",
    "In this task, we will create a `build(...)` method that constructs a `MyFibonacciSequenceModel` instance with a specified size and default values for the other fields. This method will ensure that the model is properly initialized before being passed to the `fibonacci!(...)` method.\n",
    "\n",
    "__Requirements__:\n",
    "* _Arguments_: The `build(...)` method will takes the type of thing we want to build, i.e., `MyFibonacciSequenceModel` , the sequence size `n::Int` and the default value `defaultvalue::Int` parameters will be passed in a `data::NamedTuple` instance. The `build(...)` method returns a properly constructed `MyFibonacciSequenceModel` instance.\n",
    "* _Error conditions_: Fill me in\n",
    "\n",
    "Ready, set go!"
   ]
  },
  {
   "cell_type": "code",
   "execution_count": 44,
   "id": "af7a0cb8",
   "metadata": {},
   "outputs": [],
   "source": [
    "\"\"\"\n",
    "    build(modeltype::Type{MyFibonacciSequenceModel}, data::NamedTuple) -> MyFibonacciSequenceModel\n",
    "\n",
    "This function builds a new `MyFibonacciSequenceModel` from a named tuple containing the parameters for the model.\n",
    "\n",
    "### Arguments\n",
    "- `modeltype::Type{MyFibonacciSequenceModel}`: The type of the model to build. This is used to create an instance of the model.\n",
    "- `data::NamedTuple`: A named tuple containing the parameters for the model. The named tuple must contain the fields `n` and `defaultvalue`.\n",
    "\n",
    "### Returns\n",
    "- `MyFibonacciSequenceModel`: A new instance of `MyFibonacciSequenceModel` with the parameters set from the named tuple.\n",
    "\"\"\"\n",
    "function build(modeltype::Type{MyFibonacciSequenceModel}, data::NamedTuple)::Union{MyFibonacciSequenceModel, Nothing}\n",
    "    \n",
    "    # Initially the model is nothing -\n",
    "    sequencemodel = nothing;\n",
    "    \n",
    "    # TODO: Uncomment the following code to give a warning if the named tuple is missing required fields\n",
    "    required_fields = [:n, :defaultvalue] # we must have these fields to build the model\n",
    "    for field ∈ required_fields\n",
    "        if haskey(data, field) == false\n",
    "            @error \"Ooops! Missing required field: $field. Cannot build the model, returning nothing.\"\n",
    "            return nothing; # Early retrn we cannot build the model, so return nothing\n",
    "        end\n",
    "    end\n",
    "\n",
    "    # we have the required fields, so we can build the model - build an empty model\n",
    "    sequencemodel = modeltype(); # create an instance of the model type\n",
    "\n",
    "    # TODO: Check the size parameter n\n",
    "    # TODO: If we get here, then we know that the named tuple has the required fields\n",
    "    # TODO: However, the values could be invalid, so we should check them\n",
    "    # TODO: Uncomment the following code to check the value for for the size parameter n\n",
    "    default_size_parameter = 10; # this is the default value for n\n",
    "    if data.n isa Int64 && data.n >= 0\n",
    "        sequencemodel.n = data.n; # set the number of elements in the sequence\n",
    "    else\n",
    "        @warn \"Ooops! Invalid value for n: $(data.n). Using default value: $default_size_parameter.\"\n",
    "        sequencemodel.n = default_size_parameter; # set the default value\n",
    "    end\n",
    "\n",
    "    # TODO: Check the defaultvalue parameter\n",
    "    # TODO: Uncomment the following code to check the value for the defaultvalue parameter\n",
    "    my_default_value = 0; # this is the default value for the defaultvalue parameter\n",
    "    if data.defaultvalue isa Int64\n",
    "        my_default_value = data.defaultvalue;\n",
    "    else\n",
    "        @warn \"Ooops! Invalid value for defaultvalue: $(data.defaultvalue). Using default value: $my_default_value.\"\n",
    "    end\n",
    "\n",
    "    # TODO: Populate a default sequence disctionary with the default value\n",
    "    # TODO: Initialize the sequence dictionary with the default value\n",
    "    initial_sequence_dictionary = Dict{Int64, Int64}();\n",
    "    for i in 0:(sequencemodel.n - 1)\n",
    "        initial_sequence_dictionary[i] = my_default_value; # set the default value for each element\n",
    "    end\n",
    "    sequencemodel.sequence = initial_sequence_dictionary; # set the initial sequence\n",
    "\n",
    "    # return the model -\n",
    "    return sequencemodel; \n",
    "end;"
   ]
  },
  {
   "cell_type": "markdown",
   "id": "954cf7a8",
   "metadata": {},
   "source": [
    "## Task 2: Let's test our build method\n",
    "In this task, we will test the `build(...)` method to ensure it correctly constructs a `MyFibonacciSequenceModel` instance with the specified size and default values. \n",
    "\n",
    "We'll consider several deifferent test cases, wehre different values of `n` and `defaultvalue` are used to create the model instance. Sommetimes these values will be valid, and sometimes they will not. However, our `build(...)` method should handle these cases gracefully, returning a valid model instance or throwing an appropriate error.\n",
    "\n",
    "### Happy Path\n",
    "Let's start with the first case, the so called _happy path_, where we provide valid size and defaultvalue arguments to the `build(...)` method. This should return a properly constructed `MyFibonacciSequenceModel` instance:"
   ]
  },
  {
   "cell_type": "code",
   "execution_count": 13,
   "id": "494dbad5",
   "metadata": {},
   "outputs": [],
   "source": [
    "my_sequence_model = build(MyFibonacciSequenceModel, (n=10, defaultvalue=0)); # build a new model"
   ]
  },
  {
   "cell_type": "markdown",
   "id": "6163c07e",
   "metadata": {},
   "source": [
    "This seems to have run! But let's do a few check to make sure we are doing what we think we are doing. \n",
    "\n",
    "* _Is the `my_sequence_model` instance the correct type?_ Let's check this using [the `isa(...)` method](https://docs.julialang.org/en/v1/base/base/#Core.isa) in combination with [the `@assert` macro](https://docs.julialang.org/en/v1/base/base/#Base.@assert) to ensure that the `my_sequence_model` instance is of type `MyFibonacciSequenceModel`.\n",
    "* _Is the sequence dictionary initialized correctly?_ The `sequence::Dict{Int64,Int64}` dictionary should have a length equal to `n`, and all elements should be equal to the `defaultvalue`. We can use the [length(...) method](https://docs.julialang.org/en/v1/base/collections/#Base.length) to check the length of the `sequence` field, and [the all(...) method](https://docs.julialang.org/en/v1/base/collections/#Base.all-Tuple%7BAny%7D) to check that all elements are equal to the `defaultvalue`.\n",
    "\n",
    "If any of these checks fail, [an `AssertionError`](https://docs.julialang.org/en/v1/base/base/#Core.AssertionError) is thrown with a descriptive message."
   ]
  },
  {
   "cell_type": "code",
   "execution_count": 14,
   "id": "a81e8aa7",
   "metadata": {},
   "outputs": [],
   "source": [
    "let\n",
    "\n",
    "    # Check 1: Check the model type -\n",
    "    @assert my_sequence_model isa MyFibonacciSequenceModel \"Oopps! The model is NOT of type MyFibonacciSequenceModel\";\n",
    "\n",
    "    # Check 2: Check the sequence length and default values -\n",
    "    @assert length(my_sequence_model.sequence) == 10 \"Oopps! The sequence length is NOT equal to 10.\";\n",
    "    @assert all(k -> my_sequence_model.sequence[k] == 0, keys(my_sequence_model.sequence)) \"Oopps! Not all sequence values are equal to 0.\";\n",
    "end"
   ]
  },
  {
   "cell_type": "markdown",
   "id": "9aaa136f",
   "metadata": {},
   "source": [
    "### Error Handling\n",
    "If all our checks pass, then we know that when provided with the correct parameters, the model is built correctly. However, sometimes users make mistakes, they can't read our mind (or we did a bad job of documenting the code). So, let's also test some error cases where users enters invalid parameters.\n",
    "\n",
    "Right now (with all the debugging checks disabled), the `build(...)` method will blow up if we did not provide a valid `n` or `defaultvalue` parameter. What happens of we do not provide a `defaultvalue` parameter in `data::NamedTuple`? "
   ]
  },
  {
   "cell_type": "code",
   "execution_count": 15,
   "id": "1b068ee3",
   "metadata": {},
   "outputs": [
    {
     "ename": "ErrorException",
     "evalue": "type NamedTuple has no field defaultvalue",
     "output_type": "error",
     "traceback": [
      "type NamedTuple has no field defaultvalue\n",
      "\n",
      "Stacktrace:\n",
      " [1] getproperty\n",
      "   @ ./Base.jl:49 [inlined]\n",
      " [2] build(modeltype::Type{MyFibonacciSequenceModel}, data::@NamedTuple{n::Int64})\n",
      "   @ Main ~/Desktop/julia_work/CHEME-140-eCornell-Repository/CHEME-140-eCornell-Repository/courses/CHEME-141/module-2/jl_notebook_cell_df34fa98e69747e1a8f8a730347b8e2f_X11sZmlsZQ==.jl:41\n",
      " [3] top-level scope\n",
      "   @ ~/Desktop/julia_work/CHEME-140-eCornell-Repository/CHEME-140-eCornell-Repository/courses/CHEME-141/module-2/jl_notebook_cell_df34fa98e69747e1a8f8a730347b8e2f_X24sZmlsZQ==.jl:1"
     ]
    }
   ],
   "source": [
    "my_sequence_model = build(MyFibonacciSequenceModel, (n=10,)); # build a new model|"
   ]
  },
  {
   "cell_type": "markdown",
   "id": "54805f7e",
   "metadata": {},
   "source": [
    "Without the `defaultvalue` parameter, the `build(...)` method will throw the error: __type NamedTuple has no field defaultvalue__ Let's handle this gracefully by that all parameters are provided. \n",
    "* `Uncomment` the first error handling block in the `build(...)` method, and reload the method. The error checking logic checks that the required fields are provided in the `data::NamedTuple` instance. If a field is missing, an `ArgumentError` with a descriptive message is thrown.\n",
    "\n",
    "Rerun the updated `build(...)` method with a `data::NamedTuple` instance that does not contain the `defaultvalue` field. What happens now?"
   ]
  },
  {
   "cell_type": "code",
   "execution_count": 30,
   "id": "78be81c4",
   "metadata": {},
   "outputs": [
    {
     "name": "stderr",
     "output_type": "stream",
     "text": [
      "┌ Error: Ooops! Missing required field: defultvalue. Cannot build the model, returning nothing.\n",
      "└ @ Main /Users/jeffreyvarner/Desktop/julia_work/CHEME-140-eCornell-Repository/CHEME-140-eCornell-Repository/courses/CHEME-141/module-2/jl_notebook_cell_df34fa98e69747e1a8f8a730347b8e2f_X11sZmlsZQ==.jl:22\n"
     ]
    }
   ],
   "source": [
    "my_sequence_model = build(MyFibonacciSequenceModel, (n=10,)); # build a new model"
   ]
  },
  {
   "cell_type": "markdown",
   "id": "5b497b79",
   "metadata": {},
   "source": [
    "Confirm the model is not built, and the `my_sequence_model` instance is [`nothing`](https://docs.julialang.org/en/v1/base/constants/#Core.nothing) as expected. We can use the [`isnothing(...)`](https://docs.julialang.org/en/v1/base/base/#Base.isnothing) method in combination with [the `@assert` macro](https://docs.julialang.org/en/v1/base/base/#Base.@assert) to check if `my_sequence_model` is `nothing`."
   ]
  },
  {
   "cell_type": "code",
   "execution_count": 34,
   "id": "d3ebba76",
   "metadata": {},
   "outputs": [],
   "source": [
    "@assert isnothing(my_sequence_model) == true \"Oopps! The sequence is nothing, it should be a dictionary.\";"
   ]
  },
  {
   "cell_type": "markdown",
   "id": "a32e1fd0",
   "metadata": {},
   "source": [
    "Next, let's check what happens if we provide an invalid `n` parameter. For example, if we provide a negative value for `n`, the `build(...)` method should throw an `ArgumentError` with a descriptive message. \n",
    "* Without the next block of error checking logic, the `build(...)` method returns an empty `MyFibonacciSequenceModel` instance when passed bad values for the `n` parameter (or the `defaultvalue` parameter), which is not what we want (this is a strange state for the model to be in).\n",
    "\n",
    "`Uncomment` the second and third error handling blocks in the `build(...)` method, and reload the method. The error checking logic checks that the `n` parameter is a positive integer, and that the `defaultvalue` parameter is an integer. If either of these conditions is not met, an `warning` message is shown."
   ]
  },
  {
   "cell_type": "code",
   "execution_count": 38,
   "id": "e717954d",
   "metadata": {},
   "outputs": [
    {
     "name": "stderr",
     "output_type": "stream",
     "text": [
      "┌ Warning: Ooops! Invalid value for n: -10. Using default value: 10.\n",
      "└ @ Main /Users/jeffreyvarner/Desktop/julia_work/CHEME-140-eCornell-Repository/CHEME-140-eCornell-Repository/courses/CHEME-141/module-2/jl_notebook_cell_df34fa98e69747e1a8f8a730347b8e2f_X11sZmlsZQ==.jl:38\n"
     ]
    }
   ],
   "source": [
    "my_sequence_model = build(MyFibonacciSequenceModel, (n=-10, defaultvalue = -1)); # build a new model"
   ]
  },
  {
   "cell_type": "markdown",
   "id": "e03068ba",
   "metadata": {},
   "source": [
    "While this works a little better, we still have a problem. The `build(...)` method returns an empty `MyFibonacciSequenceModel` instance when passed bad values for the `n` parameter, a default value for `n` is set on the model, but the `sequence::Dict{Int64,Int64}` dictionary is empty, which is not what we want (this is a strange state for the model to be in)."
   ]
  },
  {
   "cell_type": "code",
   "execution_count": 42,
   "id": "2c781984",
   "metadata": {},
   "outputs": [
    {
     "data": {
      "text/plain": [
       "Dict{Int64, Int64}()"
      ]
     },
     "metadata": {},
     "output_type": "display_data"
    }
   ],
   "source": [
    "my_sequence_model.sequence"
   ]
  },
  {
   "cell_type": "markdown",
   "id": "bb2fcdbb",
   "metadata": {},
   "source": [
    "`Uncomment` the last error handling block in the `build(...)` method, and reload the method. The final error checking block fills the empry `sequence::Dict{Int64,Int64}` dictionary with the `defaultvalue` for all keys from `0` to `n-1`. "
   ]
  },
  {
   "cell_type": "code",
   "execution_count": 45,
   "id": "41e23c24",
   "metadata": {},
   "outputs": [
    {
     "name": "stderr",
     "output_type": "stream",
     "text": [
      "┌ Warning: Ooops! Invalid value for n: -10. Using default value: 10.\n",
      "└ @ Main /Users/jeffreyvarner/Desktop/julia_work/CHEME-140-eCornell-Repository/CHEME-140-eCornell-Repository/courses/CHEME-141/module-2/jl_notebook_cell_df34fa98e69747e1a8f8a730347b8e2f_X11sZmlsZQ==.jl:38\n"
     ]
    }
   ],
   "source": [
    "my_sequence_model = build(MyFibonacciSequenceModel, (n=-10, defaultvalue = -1)); # build a new model"
   ]
  },
  {
   "cell_type": "markdown",
   "id": "f2be425c",
   "metadata": {},
   "source": [
    "We recieved a `warning` message, but a warning is not an error, so the `my_sequence_model` instance is still created, and we can use it to compute the Fibonacci numbers! Let's check the instance that gets returned by the `build(...)` method.\n",
    "* _If correct_: If the `my_sequence_model` instance is not `nothing`, the model will be type `MyFibonacciSequenceModel`, and the `sequence::Dict{Int64,Int64}` dictionary should be populated with the default value for all keys from `0` to `n-1`.\n",
    "\n",
    "Let's check these four conditions using [the `@assert` macro](https://docs.julialang.org/en/v1/base/base/#Base.@assert):"
   ]
  },
  {
   "cell_type": "code",
   "execution_count": 48,
   "id": "6606e3d2",
   "metadata": {},
   "outputs": [],
   "source": [
    "let\n",
    "\n",
    "    # initalize -\n",
    "    correct_sequence_length = 10; # this is the default value for n\n",
    "    correct_default_value = -1; # this is the default value for the defaultvalue parameter\n",
    "\n",
    "    # Check 1: Check the model type -\n",
    "    @assert isnothing(my_sequence_model) == false \"Oopps! The model is nothing, it should be a MyFibonacciSequenceModel.\";\n",
    "    @assert my_sequence_model isa MyFibonacciSequenceModel \"Oopps! The model is NOT of type MyFibonacciSequenceModel\";\n",
    "\n",
    "    # Check 2: Check the sequence length and default values -\n",
    "    @assert length(my_sequence_model.sequence) == correct_sequence_length \"Oopps! The sequence length is NOT equal to 10.\";\n",
    "    @assert all(k -> my_sequence_model.sequence[k] == correct_default_value, keys(my_sequence_model.sequence)) \"Oopps! Not all sequence values are equal to 0.\";\n",
    "end"
   ]
  },
  {
   "cell_type": "markdown",
   "id": "2c377c01",
   "metadata": {},
   "source": []
  }
 ],
 "metadata": {
  "kernelspec": {
   "display_name": "Julia 1.11.6",
   "language": "julia",
   "name": "julia-1.11"
  },
  "language_info": {
   "file_extension": ".jl",
   "mimetype": "application/julia",
   "name": "julia",
   "version": "1.11.6"
  }
 },
 "nbformat": 4,
 "nbformat_minor": 5
}
