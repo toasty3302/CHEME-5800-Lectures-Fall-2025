{
 "cells": [
  {
   "cell_type": "markdown",
   "id": "574292be-682f-4483-801b-419aa17bd712",
   "metadata": {},
   "source": [
    "# Demo: Data Types\n",
    "All data in a computer program has a **type**, which is part of a type system that classifies data and constrains operations. Besides (sort) of standardizing how things are stored, type systems enable detection of mismatches (e.g., passing a string where a number is expected) before or during execution.\n",
    "\n",
    "**Type System Approaches:**\n",
    "* **Modern languages** (e.g., [Ruby](https://www.ruby-lang.org/en/) or [Python](https://www.python.org/)) have dynamic type systems that perform checks at runtime, offering flexibility but deferring error detection.\n",
    "* **Classical languages** (e.g., [C](https://gcc.gnu.org/) or [Java](https://www.java.com/en/)) use static type systems that require explicit declarations and perform checks at compile-time, enabling optimization and early error prevention.\n",
    "* **Julia's hybrid approach** combines the best of both worlds: it's dynamically typed like Python but performs type inference and generates specialized machine code like C. While dynamically typed at the language level, Julia compiles to optimized, statically-typed machine code.\n",
    "\n",
    "**What we'll cover:** We'll explore primitive types (numbers, text), collection types (arrays, tuples, sets and dictionaries), and custom composite types, examining their memory representation and manipulation in Julia.\n",
    "___"
   ]
  },
  {
   "cell_type": "markdown",
   "id": "8be71ecd-352e-40f5-ae7a-f043fc4581d8",
   "metadata": {},
   "source": [
    "## Primitive Data Types\n",
    "Primitive data types are the basic building blocks provided by programming languages. They're atomic, meaning they're not composed of other types, and represent simple values like numbers, characters, and true/false values.\n",
    "\n",
    ">**Julia vs. Python storage:**\n",
    ">Julia's primitive types (`Int64`, `Float64`, `Bool`, `Char`) are stored as _unboxed machine types_ that the compiler uses directly.\n",
    "> Python's built-in types (int, float, bool) are stored as heap-allocated [PyObject instances](https://docs.python.org/3/c-api/structures.html#c.PyObject), which adds significant overhead because each value requires extra memory for metadata, pointer indirection to access the actual data, and garbage collection tracking.\n",
    "\n",
    "Let's start with [the `Bool` type](https://docs.julialang.org/en/v1/base/numbers/#Core.Bool) which represents a boolean value, either `true` or `false`. "
   ]
  },
  {
   "cell_type": "markdown",
   "id": "a2e03a65-331e-4a21-8792-379a4352edc9",
   "metadata": {},
   "source": [
    "### Integer and Boolean Types\n",
    "An __integer__ type represents whole numbers $x\\in\\mathbb{Z}$ (positive, negative and zero). Integers are implemented using a _fixed‐width_ binary form (e.g., 32‐ or 64‐bit). A __boolean (Bool)__ type represents truth values (`true` and `false`); Bool values are stored as a single bit or 1 $\\times$ byte, i.e., an 8-bit integer value.\n",
    "\n",
    "__Integers__: Let's look at some integers."
   ]
  },
  {
   "cell_type": "code",
   "execution_count": 4,
   "id": "ad2edff5-a731-4c70-a9f6-64619bfa34a2",
   "metadata": {},
   "outputs": [],
   "source": [
    "x = 2; # select a whole number ... -2, -1, 0, 1, 2, ..."
   ]
  },
  {
   "cell_type": "markdown",
   "id": "612fa6b4-698e-48fe-a0d3-b442a820d0a5",
   "metadata": {},
   "source": [
    "_What type is `x` in Julia?_ We can find the type of something using [the `typeof(...)` method](https://docs.julialang.org/en/v1/base/base/#Core.typeof):"
   ]
  },
  {
   "cell_type": "code",
   "execution_count": 6,
   "id": "9708900f-a018-4f89-a552-8b9aaeaac5b4",
   "metadata": {},
   "outputs": [
    {
     "data": {
      "text/plain": [
       "Int64"
      ]
     },
     "execution_count": 6,
     "metadata": {},
     "output_type": "execute_result"
    }
   ],
   "source": [
    "typeof(x) # this returns the type of the argument"
   ]
  },
  {
   "cell_type": "markdown",
   "id": "118d6bd5-e275-46e4-84be-12a84a60352e",
   "metadata": {},
   "source": [
    "What is the bitstring of $x$? The bitstring gives the literal bit representation of a primitive type. We can get the bitstring of $x$ using [the `bitstring(...)` method in Julia](https://docs.julialang.org/en/v1/base/numbers/#Base.bitstring). This method shows us the bit pattern of the integer argument:"
   ]
  },
  {
   "cell_type": "code",
   "execution_count": 8,
   "id": "b6799308-a09d-4782-9ab5-c6ddf4220aff",
   "metadata": {},
   "outputs": [
    {
     "data": {
      "text/plain": [
       "\"0000000000000000000000000000000000000000000000000000000000000010\""
      ]
     },
     "execution_count": 8,
     "metadata": {},
     "output_type": "execute_result"
    }
   ],
   "source": [
    "bitstring(x) # gives the values of the values stored in the memory \"boxes\""
   ]
  },
  {
   "cell_type": "markdown",
   "id": "b5627f3b-aed9-4a76-9939-e572827f4b68",
   "metadata": {},
   "source": [
    "__Boolean__: Now let's look at some Boolean types $\\mathbb{B} = \\left\\{\\text{true},\\text{false}\\right\\}$. A variable $x\\in\\mathbb{B}$ can take on either `true` or `false` values. However, we typically model these values as a special type of 8$\\times$bit (1 $\\times$ byte) integer value."
   ]
  },
  {
   "cell_type": "code",
   "execution_count": 10,
   "id": "2ad294da-0513-4a7f-a060-fc4cbd385cb0",
   "metadata": {},
   "outputs": [],
   "source": [
    "flag = true; # the flag variable can take on values of {true | false}"
   ]
  },
  {
   "cell_type": "markdown",
   "id": "7d1905c5-5ec4-4fc5-91c1-8803c011b76b",
   "metadata": {},
   "source": [
    "_What type is `flag` in Julia?_ We can find the type of something using [the `typeof(...)` method](https://docs.julialang.org/en/v1/base/base/#Core.typeof):"
   ]
  },
  {
   "cell_type": "code",
   "execution_count": 12,
   "id": "d753ccde-501e-4f22-8787-05a830a1c174",
   "metadata": {},
   "outputs": [
    {
     "data": {
      "text/plain": [
       "Bool"
      ]
     },
     "execution_count": 12,
     "metadata": {},
     "output_type": "execute_result"
    }
   ],
   "source": [
    "typeof(flag)"
   ]
  },
  {
   "cell_type": "markdown",
   "id": "09b1b864-b69a-47a9-a788-9c1f97b877a8",
   "metadata": {},
   "source": [
    "_What is the bitstring of the `flag` variable?_ Let's use [the `bitstring(...)` method in Julia](https://docs.julialang.org/en/v1/base/numbers/#Base.bitstring) to see what our Boolean `flag` variable looks like:"
   ]
  },
  {
   "cell_type": "code",
   "execution_count": 14,
   "id": "711fd53f-71fc-459b-8c99-72cb0a9e434a",
   "metadata": {},
   "outputs": [
    {
     "data": {
      "text/plain": [
       "\"00000001\""
      ]
     },
     "execution_count": 14,
     "metadata": {},
     "output_type": "execute_result"
    }
   ],
   "source": [
    "bitstring(flag) # this should be 8xbits wide"
   ]
  },
  {
   "cell_type": "markdown",
   "id": "ed4f18a3",
   "metadata": {},
   "source": [
    "___"
   ]
  },
  {
   "cell_type": "markdown",
   "id": "6063d0fb-d7ae-453f-a343-61e170a3f9c9",
   "metadata": {},
   "source": [
    "### Floating point types\n",
    "Floating-point types model real numbers using three components according to [the IEEE 754 standard](https://en.wikipedia.org/wiki/IEEE_754): a sign bit, an exponent (the scale), and a significand (the fraction). This allows representation of both fractional values and very large or small magnitudes.\n",
    "\n",
    "> __Julia versus Python floating point numbers__: Julia provides three standard IEEE-754 floating-point types that trade off precision for storage: `Float16` (half-precision), `Float32` (single-precision), and `Float64` (double-precision). Python's built-in `float` type is always 64-bit double-precision.\n",
    "\n",
    "Let's look at a couple of examples. First, here's a 64-bit number (Julia's default):"
   ]
  },
  {
   "cell_type": "code",
   "execution_count": null,
   "id": "1a90a72c-b6ff-45f3-86cf-037ea9f74c22",
   "metadata": {},
   "outputs": [
    {
     "data": {
      "text/plain": [
       "\"0100000001001011000100001010001111010111000010100011110101110001\""
      ]
     },
     "execution_count": 16,
     "metadata": {},
     "output_type": "execute_result"
    }
   ],
   "source": [
    "let\n",
    "    x = 54.13; # default: in Julia, the default floating point number is 64-bit.\n",
    "    bitstring(x)\n",
    "end"
   ]
  },
  {
   "cell_type": "markdown",
   "id": "1f19ead1-ff53-497a-8c24-7d8e1c943b1d",
   "metadata": {},
   "source": [
    "The same numerical value stored in 32-bits has a different memory layout:"
   ]
  },
  {
   "cell_type": "code",
   "execution_count": null,
   "id": "c08136d0-18ba-4220-9ff0-0b1819b59579",
   "metadata": {},
   "outputs": [
    {
     "data": {
      "text/plain": [
       "\"01000010010110001000010100011111\""
      ]
     },
     "execution_count": 14,
     "metadata": {},
     "output_type": "execute_result"
    }
   ],
   "source": [
    "let\n",
    "    x = 54.13 |> Float32 # we \"cast\" x to be stored as a Float32, not 64-bits!\n",
    "    bitstring(x) # gives us a string with the bit pattern\n",
    "end"
   ]
  },
  {
   "cell_type": "markdown",
   "id": "f2547718",
   "metadata": {},
   "source": [
    "___"
   ]
  },
  {
   "cell_type": "markdown",
   "id": "29470d38-3bff-4ffe-8fb0-1f263e36b8a7",
   "metadata": {},
   "source": [
    "### Character Types\n",
    "Text on computers is composed of characters, and here's the key insight: characters are just special integers! Each character, whether a letter, digit, punctuation mark, or control code, gets stored as an integer corresponding to a specific encoding scheme. Traditional systems used [ASCII](https://en.wikipedia.org/wiki/ASCII) with one byte per character, while modern systems use [Unicode encodings like UTF-8 or UTF-16](https://en.wikipedia.org/wiki/Unicode) to represent a much wider range of characters.\n",
    "\n",
    "> __Encodings:__ Character encodings define the mapping between textual symbols and numeric code points (unique integers), enabling text to be stored and transmitted as bytes. Julia's [Char type](https://docs.julialang.org/en/v1/base/strings/#Core.Char) follows this pattern: each character is a 4-byte (32-bit) value that directly encodes a Unicode code point, allowing manipulation either individually or as part of Strings.\n",
    "\n",
    "Let's explore [the `Char` type in Julia](https://docs.julialang.org/en/v1/base/strings/#Core.Char) (notice the single quotes):"
   ]
  },
  {
   "cell_type": "code",
   "execution_count": 49,
   "id": "7de53df8-31cf-4b01-bf2d-bfa06cc67336",
   "metadata": {},
   "outputs": [
    {
     "data": {
      "text/plain": [
       "'🍣': Unicode U+1F363 (category So: Symbol, other)"
      ]
     },
     "execution_count": 49,
     "metadata": {},
     "output_type": "execute_result"
    }
   ],
   "source": [
    "c = '🍣' # example Unicode character in Julia. See: https://docs.julialang.org/en/v1/manual/unicode-input/"
   ]
  },
  {
   "cell_type": "markdown",
   "id": "c3bbe3d5-a267-46ae-a791-a8a05ac50019",
   "metadata": {},
   "source": [
    "What is the code point (special, unique integer) for the character `c`?"
   ]
  },
  {
   "cell_type": "code",
   "execution_count": 62,
   "id": "3183bf76-5ed8-4742-a377-b4444ad85d55",
   "metadata": {},
   "outputs": [
    {
     "data": {
      "text/plain": [
       "0x0001f363"
      ]
     },
     "execution_count": 62,
     "metadata": {},
     "output_type": "execute_result"
    }
   ],
   "source": [
    "code = UInt32(c) # extract code point as UInt32 (4 x bytes)"
   ]
  },
  {
   "cell_type": "markdown",
   "id": "33f57abd-1b27-457e-a1ef-0b6daaf7b119",
   "metadata": {},
   "source": [
    "_Hmmm, what?_ That's a strange-looking integer! The `code::UInt32` is a [hexadecimal number](https://en.wikipedia.org/wiki/Hexadecimal), i.e., a number written in base 16. The giveaway (which is a convention) is the `0x` prefix. We'll dig into these numbers and count in base b later. \n",
    "\n",
    "Can we see the data that each byte contains? Yes! Let's use [the `reinterpret(...)` method](https://docs.julialang.org/en/v1/base/arrays/#Base.reinterpret) and break the 4-bytes in four 1-byte blocks!"
   ]
  },
  {
   "cell_type": "code",
   "execution_count": 90,
   "id": "7e2ff9e2-7032-41d2-b65b-84f05f366b4a",
   "metadata": {},
   "outputs": [
    {
     "data": {
      "text/plain": [
       "4-element Vector{UInt8}:\n",
       " 0x63\n",
       " 0xf3\n",
       " 0x01\n",
       " 0x00"
      ]
     },
     "execution_count": 90,
     "metadata": {},
     "output_type": "execute_result"
    }
   ],
   "source": [
    "reinterpret(Tuple{UInt8, UInt8, UInt8, UInt8}, code) |> collect"
   ]
  },
  {
   "cell_type": "markdown",
   "id": "43189c19-0fed-480c-ae4a-387af4c99fe8",
   "metadata": {},
   "source": [
    "This factors the 32-bit (4 × byte) number into four 8-bit (1 × byte) numbers. Notice that we're chopping from right to left (same convention as bitstring representations of integers and floating-point numbers above). \n",
    "> __Endianness:__ This ordering relates to [Endianness](https://en.wikipedia.org/wiki/Endianness), which describes how computers store the bytes of multi-byte values. In little-endian systems (like most x86/x86-64 and ARM machines), the least significant byte comes first in memory, while big-endian systems store the most significant byte first. So when we reinterpret 0x0001F363 as four UInt8s on a little-endian machine, we get: `[0x63,0xF3,0x01,0x00]`\n",
    "\n",
    "Characters thus represent our first example of a collection type, an ordered collection of smaller components, in this case a stack of 1 × byte (8-bit) blocks! Let's dig deeper into collection types."
   ]
  },
  {
   "cell_type": "markdown",
   "id": "299322ca",
   "metadata": {},
   "source": [
    "___"
   ]
  },
  {
   "cell_type": "markdown",
   "id": "74eef638-acf8-417b-a6f2-e6e4f42ad424",
   "metadata": {},
   "source": [
    "## Collection Types\n",
    "A collection type is a composite data structure aggregating multiple values, often of the same or related types, into a single container (e.g., tuples, arrays, sets, and dictionaries). It is not a primitive type but a collection of primitive types. Let's look at a few examples of collections, starting with one that we have already seen (sort of), namely [Tuples](https://docs.julialang.org/en/v1/manual/functions/#Tuples).\n",
    "\n",
    "### Tuples\n",
    "A tuple is an immutable, ordered collection of elements that can hold a fixed number of items, potentially of different types. Once created, their size and contents cannot be changed, making tuples useful for grouping related values without the overhead of a mutable container.\n",
    "\n",
    "> **Julia tuple memory layout:** Every tuple in Julia is an immutable composite object with a type that encodes its length and element types (e.g., `Tuple{Int64, Float64}`). The memory layout is a contiguous block of fields: if all elements are \"isbits\" (primitives), the tuple itself is isbits and can be unboxed (often in registers or on the stack). However, if any element is a non-isbits type (like a String), the tuple's fields become [pointers to heap-allocated objects](https://en.wikipedia.org/wiki/Pointer_(computer_programming)), each aligned and stored sequentially.\n",
    "\n",
    "Let's explore tuples with a concrete example. Since [Tuple types](https://docs.julialang.org/en/v1/base/base/#Core.Tuple) are immutable, they can't be changed once constructed:"
   ]
  },
  {
   "cell_type": "code",
   "execution_count": 304,
   "id": "ccf677e6-f5c3-40d4-9582-4da65dc97e32",
   "metadata": {},
   "outputs": [],
   "source": [
    "example_tuple = let\n",
    "    tuple = (18,36.6); # populate with data\n",
    "end;"
   ]
  },
  {
   "cell_type": "markdown",
   "id": "d08d8c18-a3f8-4729-8bcc-21eb34a215a9",
   "metadata": {},
   "source": [
    "What is the type of the `example_tuple` variable? Let's use [the `typeof(...)` method](https://docs.julialang.org/en/v1/base/base/#Core.typeof) to find out."
   ]
  },
  {
   "cell_type": "code",
   "execution_count": 306,
   "id": "656becfc-b898-4797-a31d-0bca9f525876",
   "metadata": {},
   "outputs": [
    {
     "data": {
      "text/plain": [
       "Tuple{Int64, Float64}"
      ]
     },
     "execution_count": 306,
     "metadata": {},
     "output_type": "execute_result"
    }
   ],
   "source": [
    "typeof(example_tuple)"
   ]
  },
  {
   "cell_type": "markdown",
   "id": "757d4bec-8a1f-4536-b0d3-46ad65b8e4a3",
   "metadata": {},
   "source": [
    "Tuples are immutable. Let's try to change a value in the `example_tuple::Tuple{Int64, Float64}` variable. This should blow up, because [Tuples in Julia](https://docs.julialang.org/en/v1/base/base/#Core.Tuple) are immutable."
   ]
  },
  {
   "cell_type": "code",
   "execution_count": 308,
   "id": "bc7bfd75-0ebf-48a6-bc82-2f3437aeef04",
   "metadata": {},
   "outputs": [
    {
     "ename": "LoadError",
     "evalue": "MethodError: no method matching setindex!(::Tuple{Int64, Float64}, ::Int64, ::Int64)\nThe function `setindex!` exists, but no method is defined for this combination of argument types.",
     "output_type": "error",
     "traceback": [
      "MethodError: no method matching setindex!(::Tuple{Int64, Float64}, ::Int64, ::Int64)\nThe function `setindex!` exists, but no method is defined for this combination of argument types.",
      "",
      "Stacktrace:",
      " [1] top-level scope",
      "   @ In[308]:1"
     ]
    }
   ],
   "source": [
    "example_tuple[1] = 6 # this will blow up!"
   ]
  },
  {
   "cell_type": "code",
   "execution_count": 309,
   "id": "1cec1010-b798-47e9-bb04-4694b8fdde73",
   "metadata": {},
   "outputs": [
    {
     "ename": "LoadError",
     "evalue": "ArgumentError: Tuple{Int64, Float64} not a primitive type",
     "output_type": "error",
     "traceback": [
      "ArgumentError: Tuple{Int64, Float64} not a primitive type",
      "",
      "Stacktrace:",
      " [1] bitstring(x::Tuple{Int64, Float64})",
      "   @ Base ./intfuncs.jl:959",
      " [2] top-level scope",
      "   @ In[309]:1"
     ]
    }
   ],
   "source": [
    "bitstring(example_tuple) # We can't get the bitstring directly, a Tuple is not primitive!"
   ]
  },
  {
   "cell_type": "markdown",
   "id": "cba8510e-d2d0-4599-81bb-fdcb5d854760",
   "metadata": {},
   "source": [
    "However, we can get the elements of `example_tuple` and their bit layouts by [indexing into the Tuple](https://docs.julialang.org/en/v1/base/base/#Core.Tuple)"
   ]
  },
  {
   "cell_type": "code",
   "execution_count": 311,
   "id": "f04980d4-6b7d-42c4-88b7-f49c257fc878",
   "metadata": {},
   "outputs": [
    {
     "data": {
      "text/plain": [
       "\"0100000001000010010011001100110011001100110011001100110011001101\""
      ]
     },
     "execution_count": 311,
     "metadata": {},
     "output_type": "execute_result"
    }
   ],
   "source": [
    "bitstring(example_tuple[2]) # get the bitstring of the component i"
   ]
  },
  {
   "cell_type": "markdown",
   "id": "9ab52819-dfbe-4174-9669-3a096ff12971",
   "metadata": {},
   "source": [
    "We can see the raw bytes associated with the `example_tuple::Tuple{Int64,Float64}` using [the `reinterpret(...)` method](https://docs.julialang.org/en/v1/base/arrays/#Base.reinterpret):"
   ]
  },
  {
   "cell_type": "code",
   "execution_count": 331,
   "id": "6d692cd4-4f41-4d75-adb4-be07f59a09a6",
   "metadata": {},
   "outputs": [
    {
     "data": {
      "text/plain": [
       "16-element Vector{UInt8}:\n",
       " 0x12\n",
       " 0x00\n",
       " 0x00\n",
       " 0x00\n",
       " 0x00\n",
       " 0x00\n",
       " 0x00\n",
       " 0x00\n",
       " 0xcd\n",
       " 0xcc\n",
       " 0xcc\n",
       " 0xcc\n",
       " 0xcc\n",
       " 0x4c\n",
       " 0x42\n",
       " 0x40"
      ]
     },
     "execution_count": 331,
     "metadata": {},
     "output_type": "execute_result"
    }
   ],
   "source": [
    "v = reinterpret(NTuple{16,UInt8}, example_tuple) |> collect # we have 16 8-bit blocks (128 bits in total)"
   ]
  },
  {
   "cell_type": "code",
   "execution_count": 329,
   "id": "c30d3470-5a48-47c7-914a-5f5de62a1476",
   "metadata": {},
   "outputs": [
    {
     "data": {
      "text/plain": [
       "\"00010010\""
      ]
     },
     "execution_count": 329,
     "metadata": {},
     "output_type": "execute_result"
    }
   ],
   "source": [
    "bitstring(v[1])"
   ]
  },
  {
   "cell_type": "markdown",
   "id": "245463f1",
   "metadata": {},
   "source": [
    "___"
   ]
  },
  {
   "cell_type": "markdown",
   "id": "8cb60686-4053-40f5-a422-7f51e3802253",
   "metadata": {},
   "source": [
    "### Arrays\n",
    "An array is a contiguous, ordered collection of elements of the same type, allowing constant-time access to its elements via integer indices. In most languages, arrays occupy a single block of memory, with element access computed as the base address plus the index times the memory size of each element.\n",
    "\n",
    "> **Julia vs. Python arrays:** [Julia's `Array{T}` type](https://docs.julialang.org/en/v1/base/arrays/#Core.Array-Tuple%7BNothing,%20Any%7D) is a built-in, statically typed container that is `1-indexed` and stored [in column-major order](https://en.wikipedia.org/wiki/Row-_and_column-major_order). Python's native lists are heterogeneous and zero-indexed, while [NumPy's homogeneous arrays](https://numpy.org/doc/stable/reference/generated/numpy.array.html) are zero-indexed and row-major (implemented in a separate C library rather than the core language).\n",
    "\n",
    "Arrays in both Julia and Python are mutable, meaning elements can be changed after we populate the array. Let's explore a Julia array:"
   ]
  },
  {
   "cell_type": "code",
   "execution_count": 31,
   "id": "768a931e-15a9-4484-b465-221af99674b0",
   "metadata": {},
   "outputs": [
    {
     "data": {
      "text/plain": [
       "10-element Vector{Float64}:\n",
       " 0.6670346527338153\n",
       " 0.7210793942041424\n",
       " 0.9188057083789035\n",
       " 0.8142557374010451\n",
       " 0.2918320624537132\n",
       " 0.2641116095445314\n",
       " 0.8686475773152065\n",
       " 0.8580170767062709\n",
       " 0.5204650303731037\n",
       " 0.1654722041586395"
      ]
     },
     "execution_count": 31,
     "metadata": {},
     "output_type": "execute_result"
    }
   ],
   "source": [
    "a = rand(10) # build a 10-element random array"
   ]
  },
  {
   "cell_type": "markdown",
   "id": "e4b00b3f-f864-4b52-8d8c-584f757d3fc3",
   "metadata": {},
   "source": [
    "We access the elements of an array by passing the index of the array in square brackets, e.g., `a[3]` returns the third element in Julia (because it is `1`-based):"
   ]
  },
  {
   "cell_type": "code",
   "execution_count": 33,
   "id": "8c67f8a3-931a-4bf9-91b7-78199d70940e",
   "metadata": {},
   "outputs": [
    {
     "data": {
      "text/plain": [
       "0.9188057083789035"
      ]
     },
     "execution_count": 33,
     "metadata": {},
     "output_type": "execute_result"
    }
   ],
   "source": [
    "a[3]"
   ]
  },
  {
   "cell_type": "markdown",
   "id": "1475476e-79ef-4108-8402-38fe6a5a0189",
   "metadata": {},
   "source": [
    "Arrays are __mutable__, i.e., we can change them after we build them. For example:"
   ]
  },
  {
   "cell_type": "code",
   "execution_count": 36,
   "id": "b4d381fa-06dc-40a4-b74c-f4b17eca69f9",
   "metadata": {},
   "outputs": [
    {
     "data": {
      "text/plain": [
       "π = 3.1415926535897..."
      ]
     },
     "execution_count": 36,
     "metadata": {},
     "output_type": "execute_result"
    }
   ],
   "source": [
    "a[3] = π"
   ]
  },
  {
   "cell_type": "code",
   "execution_count": 38,
   "id": "3925a8f9-0a09-4a33-86fb-3755d61fbc01",
   "metadata": {},
   "outputs": [
    {
     "data": {
      "text/plain": [
       "10-element Vector{Float64}:\n",
       " 0.6670346527338153\n",
       " 0.7210793942041424\n",
       " 3.141592653589793\n",
       " 0.8142557374010451\n",
       " 0.2918320624537132\n",
       " 0.2641116095445314\n",
       " 0.8686475773152065\n",
       " 0.8580170767062709\n",
       " 0.5204650303731037\n",
       " 0.1654722041586395"
      ]
     },
     "execution_count": 38,
     "metadata": {},
     "output_type": "execute_result"
    }
   ],
   "source": [
    "a"
   ]
  },
  {
   "cell_type": "markdown",
   "id": "418cb970-071e-4dfd-a90c-6831dcff39e5",
   "metadata": {},
   "source": [
    "Arrays in Julia are `1`-based. This is a somewhat controversial design choice.\n",
    "> __Hot take!!__ Julia's choice of `1`-based indexing, unlike most modern programming languages, which use `0`-based indexing (like C, Python, and Java), is a __super headache__! However, it is a deliberate design decision grounded in mathematical consistency, readability, and domain alignment. In short, there are a bunch of arguments as to why this is a good idea.\n",
    "\n",
    "What happens if we try to grab an element that is _outside_ the array?"
   ]
  },
  {
   "cell_type": "code",
   "execution_count": null,
   "id": "36762b55-1f59-4172-9ff3-8723c2356355",
   "metadata": {},
   "outputs": [
    {
     "ename": "LoadError",
     "evalue": "BoundsError: attempt to access 10-element Vector{Float64} at index [11]",
     "output_type": "error",
     "traceback": [
      "BoundsError: attempt to access 10-element Vector{Float64} at index [11]",
      "",
      "Stacktrace:",
      " [1] throw_boundserror(A::Vector{Float64}, I::Tuple{Int64})",
      "   @ Base ./essentials.jl:14",
      " [2] getindex(A::Vector{Float64}, i::Int64)",
      "   @ Base ./essentials.jl:916",
      " [3] top-level scope",
      "   @ In[46]:1"
     ]
    }
   ],
   "source": [
    "a[11] # we are asking for the stuff stored at 11, but we only have 10 items!"
   ]
  },
  {
   "cell_type": "markdown",
   "id": "dc8eaf12",
   "metadata": {},
   "source": [
    "___"
   ]
  },
  {
   "cell_type": "markdown",
   "id": "34cd435c-cec5-4660-854b-08d44efc95f3",
   "metadata": {},
   "source": [
    "### Sets and Dictionaries\n",
    "A [Set type](https://docs.julialang.org/en/v1/base/collections/#Base.Set) is an unordered collection of unique elements that supports fast membership checks, insertions, and removals. A [Dictionary (or map) is an associative container](https://docs.julialang.org/en/v1/base/collections/#Base.Dict) that stores key–value pairs, allowing lookup, insertion, and deletion of values based on their unique keys.\n",
    "\n",
    "> **Julia vs. Python collections:** Julia's `Set{T}` and `Dict{K,V}` are parametric containers, meaning every element in a `Set` has the same type `T`, and every key–value pair in a `Dict` has types `K` and `V`. However, the elements can be any type `T`, and the keys `K` and values `V` can also be of any type. In contrast, Python's built-in `set` and `dict` are inherently heterogeneous (each slot holds a generic `object` reference), making them more flexible than their Julia equivalents.\n",
    "\n",
    "Let's build a few examples of set and dictionary collection types:"
   ]
  },
  {
   "cell_type": "code",
   "execution_count": 56,
   "id": "0213df43-644b-4c11-80a5-ca7bb398de35",
   "metadata": {},
   "outputs": [
    {
     "data": {
      "text/plain": [
       "Dict{Int64, String} with 3 entries:\n",
       "  2 => \"This is the second line in a text file\"\n",
       "  3 => \"This is the last line in a text file\"\n",
       "  1 => \"This is the first line in a text file\""
      ]
     },
     "execution_count": 56,
     "metadata": {},
     "output_type": "execute_result"
    }
   ],
   "source": [
    "d = let\n",
    "\n",
    "    d = Dict{Int64, String}(); # creates a dictionary that models text in a file.\n",
    "    d[1] = \"This is the first line in a text file\";\n",
    "    d[2] = \"This is the second line in a text file\";\n",
    "    d[3] = \"This is the last line in a text file\";\n",
    "\n",
    "    d\n",
    "end"
   ]
  },
  {
   "cell_type": "markdown",
   "id": "0143ed2e-8e45-4f9d-8966-352566a66e2c",
   "metadata": {},
   "source": [
    "We can access the values stored in a dictionary by passing in the `key` pointing to a `value`, i.e., to get line `2`, we would:"
   ]
  },
  {
   "cell_type": "code",
   "execution_count": 60,
   "id": "7257308c-f3e9-4f6d-8cfd-f373146f125f",
   "metadata": {},
   "outputs": [
    {
     "data": {
      "text/plain": [
       "\"This is the second line in a text file\""
      ]
     },
     "execution_count": 60,
     "metadata": {},
     "output_type": "execute_result"
    }
   ],
   "source": [
    "d[2]"
   ]
  },
  {
   "cell_type": "markdown",
   "id": "e5085074-153e-47a7-b916-03cec86e0fa1",
   "metadata": {},
   "source": [
    "Dictionaries (in general) do __not__ maintain order (more on this later). For example, we inserted line `2` before line `3`, but the order when the dictionary was printed is 2,3,1. Likewise, there is no notion of order in a set.\n",
    "\n",
    "Consider the `s::Set{Char}` example:"
   ]
  },
  {
   "cell_type": "code",
   "execution_count": 75,
   "id": "ca60c6cc-d054-437f-ab77-669f7c411a89",
   "metadata": {},
   "outputs": [
    {
     "data": {
      "text/plain": [
       "Set{Char} with 4 elements:\n",
       "  'a'\n",
       "  'c'\n",
       "  'd'\n",
       "  'b'"
      ]
     },
     "execution_count": 75,
     "metadata": {},
     "output_type": "execute_result"
    }
   ],
   "source": [
    "s = let\n",
    "\n",
    "    s = Set{Char}(); # empty at this point\n",
    "    push!(s, 'a'); # we add items to set using push!\n",
    "    push!(s, 'b');\n",
    "    push!(s, 'c');\n",
    "    push!(s, 'd');\n",
    "\n",
    "    s\n",
    "end"
   ]
  },
  {
   "cell_type": "markdown",
   "id": "1e01129f-1a44-40cb-92fb-7803875b7dcc",
   "metadata": {},
   "source": [
    "We can't access a particular item in the `s::Set{Char}` set by passing in an index (or key) because these ideas don't exist for sets. Instead, we can use [the `pop!(...)` method](https://docs.julialang.org/en/v1/base/collections/#Base.pop!) to pop (get) a random element from a set:"
   ]
  },
  {
   "cell_type": "code",
   "execution_count": 80,
   "id": "c95be745-a98c-4fb6-bdf7-ea0c568d2d37",
   "metadata": {},
   "outputs": [
    {
     "data": {
      "text/plain": [
       "'c': ASCII/Unicode U+0063 (category Ll: Letter, lowercase)"
      ]
     },
     "execution_count": 80,
     "metadata": {},
     "output_type": "execute_result"
    }
   ],
   "source": [
    "pop!(s)"
   ]
  },
  {
   "cell_type": "markdown",
   "id": "9825d208-d84a-40a9-8f2f-dc408b8dd5b1",
   "metadata": {},
   "source": [
    "All the typical mathematical operations on sets, such as intersection, union, or membership checks, are implemented in most modern programming languages, including Julia; [see the documentation for operations on sets in Julia](https://docs.julialang.org/en/v1/base/collections/#Set-Like-Collections)."
   ]
  },
  {
   "cell_type": "markdown",
   "id": "05c028bc",
   "metadata": {},
   "source": [
    "___"
   ]
  },
  {
   "cell_type": "markdown",
   "id": "e021c88c-6d7e-40fd-ab35-82ce3101aa6b",
   "metadata": {},
   "source": [
    "## Custom composite types\n",
    "Custom composite types are user-defined data structures that aggregate multiple fields (possibly of different types) under a single name, enabling encapsulation of related data. Think of them as custom containers that you design to hold exactly the data you need for your specific problem.\n",
    "\n",
    "> **Language differences:** In Julia, these are declared [using the struct keyword](https://docs.julialang.org/en/v1/manual/types/#Composite-Types) with a list of named fields, similar to C. Python uses classes with attributes and methods, which is a more object-oriented approach.\n",
    "\n",
    "We'll explore this topic in much greater depth later, but for now, let's build some simple examples to illustrate how composite types work in Julia."
   ]
  },
  {
   "cell_type": "code",
   "execution_count": 108,
   "id": "0cf46b73-4af7-4b32-966c-6ad0f40fee16",
   "metadata": {},
   "outputs": [],
   "source": [
    "struct MyStudentModel\n",
    "\n",
    "    # data -\n",
    "    firstname::String # fields hold the data, they have names and types\n",
    "    lastname::String\n",
    "    id::Int64\n",
    "\n",
    "    MyStudentModel(f,l,id) = new(f,l,id); # constructor\n",
    "end"
   ]
  },
  {
   "cell_type": "markdown",
   "id": "c801a087-583a-411a-895f-a4da5a00a6bd",
   "metadata": {},
   "source": [
    "Now we can create an instance of our `MyStudentModel` type by calling the constructor:"
   ]
  },
  {
   "cell_type": "code",
   "execution_count": 95,
   "id": "1cd3771d-c5cb-48b2-9887-8d377d7532f3",
   "metadata": {},
   "outputs": [
    {
     "data": {
      "text/plain": [
       "MyStudentModel(\"Test\", \"Student\", 1234)"
      ]
     },
     "execution_count": 95,
     "metadata": {},
     "output_type": "execute_result"
    }
   ],
   "source": [
    "model = MyStudentModel(\"Test\", \"Student\", 1234)"
   ]
  },
  {
   "cell_type": "markdown",
   "id": "5d5d1f8e-376e-4533-aea3-780fe00b5d70",
   "metadata": {},
   "source": [
    "We access the data stored in our composite type using dot syntax:"
   ]
  },
  {
   "cell_type": "code",
   "execution_count": 99,
   "id": "64f85da9-066c-40ea-8521-1f85918febe0",
   "metadata": {},
   "outputs": [
    {
     "data": {
      "text/plain": [
       "1234"
      ]
     },
     "execution_count": 99,
     "metadata": {},
     "output_type": "execute_result"
    }
   ],
   "source": [
    "model.id # returns the value stored in the id field"
   ]
  },
  {
   "cell_type": "markdown",
   "id": "9cf45863-b724-4ca0-af86-08a47400768f",
   "metadata": {},
   "source": [
    "Here's a key point: because we used the `struct` keyword, our student model is immutable. Once we build it, we cannot change any of the data stored in the model. Let's see what happens when we try:"
   ]
  },
  {
   "cell_type": "code",
   "execution_count": 106,
   "id": "9d4d1e27-bf5d-4062-9763-d7123135bf79",
   "metadata": {},
   "outputs": [
    {
     "ename": "LoadError",
     "evalue": "setfield!: immutable struct of type MyStudentModel cannot be changed",
     "output_type": "error",
     "traceback": [
      "setfield!: immutable struct of type MyStudentModel cannot be changed",
      "",
      "Stacktrace:",
      " [1] setproperty!(x::MyStudentModel, f::Symbol, v::Int64)",
      "   @ Base ./Base.jl:53",
      " [2] top-level scope",
      "   @ In[106]:1"
     ]
    }
   ],
   "source": [
    "model.id = 5678 # we are trying to change an immutable struct."
   ]
  },
  {
   "cell_type": "markdown",
   "id": "38fee83b-70c9-4cac-865d-230e175e0584",
   "metadata": {},
   "source": [
    "Sometimes we need to modify our data after creating it. For these cases, we can create mutable composite types by adding the `mutable` keyword when declaring the struct:"
   ]
  },
  {
   "cell_type": "code",
   "execution_count": null,
   "id": "0dcf97cf-323d-402d-b1a2-57a15de2c8ed",
   "metadata": {},
   "outputs": [],
   "source": [
    "mutable struct MyMutableStudentModel\n",
    "\n",
    "     # data -\n",
    "    firstname::String # fields hold the data, they have names and types\n",
    "    lastname::String\n",
    "    id::Int64\n",
    "\n",
    "    MyMutableStudentModel() = new(); # builds an empty model\n",
    "\n",
    "end"
   ]
  },
  {
   "cell_type": "markdown",
   "id": "794bb9d2-0ffa-4ab6-898e-f3970ec11a68",
   "metadata": {},
   "source": [
    "We create mutable composite types the same way as immutable ones—by calling the constructor. However, since we can modify the fields afterward, we often use an empty constructor that creates an uninitialized instance, then populate the fields one by one:"
   ]
  },
  {
   "cell_type": "code",
   "execution_count": 119,
   "id": "e2a931ad-7ba7-46ea-9169-6a2a87b7ff73",
   "metadata": {},
   "outputs": [],
   "source": [
    "mutable_model = MyMutableStudentModel();\n",
    "mutable_model.id = 6789;\n",
    "mutable_model.firstname = \"Firstname\";\n",
    "mutable_model.lastname = \"Lastname\";"
   ]
  },
  {
   "cell_type": "markdown",
   "id": "2aa51d5d",
   "metadata": {},
   "source": [
    "___"
   ]
  },
  {
   "cell_type": "markdown",
   "id": "d1d3d832",
   "metadata": {},
   "source": []
  }
 ],
 "metadata": {
  "kernelspec": {
   "display_name": "Julia 1.11.5",
   "language": "julia",
   "name": "julia-1.11"
  },
  "language_info": {
   "file_extension": ".jl",
   "mimetype": "application/julia",
   "name": "julia",
   "version": "1.11.5"
  }
 },
 "nbformat": 4,
 "nbformat_minor": 5
}
